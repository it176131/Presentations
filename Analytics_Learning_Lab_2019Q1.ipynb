{
 "cells": [
  {
   "cell_type": "markdown",
   "metadata": {},
   "source": [
    "# [8 of the best spring break party destinations](https://abcnews.go.com/GMA/Travel/best-spring-break-party-destinations/story?id=52904679)"
   ]
  },
  {
   "cell_type": "markdown",
   "metadata": {},
   "source": [
    "### Web Scraping"
   ]
  },
  {
   "cell_type": "markdown",
   "metadata": {},
   "source": [
    "##### Imports"
   ]
  },
  {
   "cell_type": "code",
   "execution_count": 198,
   "metadata": {},
   "outputs": [],
   "source": [
    "from bs4 import BeautifulSoup\n",
    "import requests"
   ]
  },
  {
   "cell_type": "markdown",
   "metadata": {},
   "source": [
    "##### URLs"
   ]
  },
  {
   "cell_type": "code",
   "execution_count": 199,
   "metadata": {},
   "outputs": [],
   "source": [
    "url = \"https://abcnews.go.com/GMA/Travel/best-spring-break-party-destinations/story?id=52904679\""
   ]
  },
  {
   "cell_type": "markdown",
   "metadata": {},
   "source": [
    "##### Requesting the Page"
   ]
  },
  {
   "cell_type": "code",
   "execution_count": 200,
   "metadata": {},
   "outputs": [],
   "source": [
    "r = requests.get(url)"
   ]
  },
  {
   "cell_type": "markdown",
   "metadata": {},
   "source": [
    "##### Get Text"
   ]
  },
  {
   "cell_type": "code",
   "execution_count": 201,
   "metadata": {
    "scrolled": true
   },
   "outputs": [],
   "source": [
    "t = r.text"
   ]
  },
  {
   "cell_type": "markdown",
   "metadata": {},
   "source": [
    "##### Close the request"
   ]
  },
  {
   "cell_type": "code",
   "execution_count": 202,
   "metadata": {},
   "outputs": [],
   "source": [
    "r.close()"
   ]
  },
  {
   "cell_type": "markdown",
   "metadata": {},
   "source": [
    "##### Make BeautifulSoup"
   ]
  },
  {
   "cell_type": "code",
   "execution_count": 203,
   "metadata": {},
   "outputs": [],
   "source": [
    "soup = BeautifulSoup(t)"
   ]
  },
  {
   "cell_type": "markdown",
   "metadata": {},
   "source": [
    "##### What is Soup?"
   ]
  },
  {
   "cell_type": "code",
   "execution_count": 204,
   "metadata": {},
   "outputs": [
    {
     "data": {
      "text/plain": [
       "str"
      ]
     },
     "execution_count": 204,
     "metadata": {},
     "output_type": "execute_result"
    }
   ],
   "source": [
    "type(t)"
   ]
  },
  {
   "cell_type": "code",
   "execution_count": 205,
   "metadata": {
    "scrolled": true
   },
   "outputs": [],
   "source": [
    "str?"
   ]
  },
  {
   "cell_type": "code",
   "execution_count": 206,
   "metadata": {
    "scrolled": false
   },
   "outputs": [
    {
     "data": {
      "text/plain": [
       "bs4.BeautifulSoup"
      ]
     },
     "execution_count": 206,
     "metadata": {},
     "output_type": "execute_result"
    }
   ],
   "source": [
    "type(soup)"
   ]
  },
  {
   "cell_type": "code",
   "execution_count": 207,
   "metadata": {},
   "outputs": [],
   "source": [
    "BeautifulSoup?"
   ]
  },
  {
   "cell_type": "markdown",
   "metadata": {},
   "source": [
    "##### Soup can `find` things"
   ]
  },
  {
   "cell_type": "code",
   "execution_count": 208,
   "metadata": {},
   "outputs": [
    {
     "name": "stdout",
     "output_type": "stream",
     "text": [
      "#\n",
      "/\n",
      "https://abcnews.go.com/Video\n",
      "https://abcnews.go.com/US\n",
      "https://abcnews.go.com/International\n",
      "https://abcnews.go.com/Politics\n",
      "https://abcnews.go.com/Lifestyle\n",
      "https://abcnews.go.com/Entertainment\n",
      "https://abcnews.go.com/VR\n",
      "https://abcnews.go.com/Health\n",
      "https://abcnews.go.com/Technology\n",
      "https://abcnews.go.com/Sports\n",
      "https://abcnews.go.com/alerts/weather\n",
      "https://fivethirtyeight.com\n",
      "#\n",
      "https://www.goodmorningamerica.com\n",
      "https://abcnews.go.com/WN\n",
      "https://abcnews.go.com/Nightline\n",
      "https://abcnews.go.com/2020\n",
      "https://abcnews.go.com/ThisWeek\n",
      "https://abcnews.go.com/TheView\n",
      "https://abcnews.go.com/WhatWouldYouDo\n",
      "#\n",
      "https://abcnews.go.com/live/video/special-live-11\n",
      "https://abcnews.go.com/live/video/special-live-2\n",
      "https://abcnews.go.com/live/video/special-live-5\n",
      "https://abcnews.go.com/live/video/special-live-06\n",
      "https://abcnews.go.com/live/video/special-live-3\n",
      "https://abcnews.go.com/live/video/special-live-07\n",
      "#\n",
      "http://disneyprivacycenter.com\n",
      "https://disneyprivacycenter.com/notice-to-california-residents/\n",
      "https://disneyprivacycenter.com/kids-privacy-policy/english/\n",
      "http://preferences-mgr.truste.com/?type=abcnews&affiliateId=11\n",
      "http://disneytermsofuse.com\n",
      "https://abcnews.go.com/Site/page?id=3068843\n",
      "#\n",
      "#\n",
      "https://abcnews.go.com\n",
      "javascript:void();\n",
      "/myinterests?cid=clicksource_nc_seeall\n",
      "#\n",
      "#\n",
      "#\n",
      "#\n",
      "https://abcnews.go.com/Video\n",
      "https://abcnews.go.com/Live\n",
      "#\n",
      "https://www.goodmorningamerica.com\n",
      "https://abcnews.go.com/WN\n",
      "https://abcnews.go.com/Nightline\n",
      "https://abcnews.go.com/2020\n",
      "https://abcnews.go.com/ThisWeek\n",
      "https://abcnews.go.com/TheView\n",
      "https://abcnews.go.com/WhatWouldYouDo\n",
      "#\n",
      "https://abcnews.go.com/US\n",
      "https://abcnews.go.com/Politics\n",
      "https://abcnews.go.com/International\n",
      "https://abcnews.go.com/Entertainment\n",
      "https://abcnews.go.com/Lifestyle\n",
      "https://abcnews.go.com/Health\n",
      "https://abcnews.go.com/VR\n",
      "https://abcnews.go.com/Technology\n",
      "https://abcnews.go.com/Sports\n",
      "https://abcnews.go.com/alerts/weather\n",
      "https://fivethirtyeight.com\n",
      "http://disneyprivacycenter.com\n",
      "https://disneyprivacycenter.com/notice-to-california-residents/\n",
      "https://disneyprivacycenter.com/kids-privacy-policy/english/\n",
      "http://preferences-mgr.truste.com/?type=abcnews&affiliateId=11\n",
      "http://disneytermsofuse.com\n",
      "https://abcnews.go.com/Site/page?id=3068843\n",
      "#\n",
      "https://www.goodmorningamerica.com\n",
      "https://www.facebook.com/sharer.php?u=http%3A%2F%2Fabcnews.go.com%2FGMA%2FTravel%2Fbest-spring-break-party-destinations%2Fstory%3Fid%3D52904679%26cid%3Dshare_facebook_widget\n",
      "http://twitter.com/intent/tweet?text=8+of+the+best+spring+break+party+destinations+-+ABC+News+-+http%3A%2F%2Fabcn.ws%2F2nIl94u&via=ABC\n",
      "whatsapp://send?text=8+of+the+best+spring+break+party+destinations website:http%3A%2F%2Fabcnews.go.com%2FGMA%2FTravel%2Fbest-spring-break-party-destinations%2Fstory%3Fid%3D52904679%26cid%3Dshare_whatsapp_widget\n",
      "http://api.addthis.com/oexchange/0.8/forward/email/offer?url=http://abcnews.go.com/GMA/Travel/best-spring-break-party-destinations/story?id=52904679&cid=share_addthis_widget&title=8+of+the+best+spring+break+party+destinations\n",
      "https://www.facebook.com/sharer.php?u=http%3A%2F%2Fabcnews.go.com%2FGMA%2FTravel%2Fbest-spring-break-party-destinations%2Fstory%3Fid%3D52904679%26cid%3Dshare_facebook_widget\n",
      "http://twitter.com/intent/tweet?text=8+of+the+best+spring+break+party+destinations+-+ABC+News+-+http%3A%2F%2Fabcn.ws%2F2nIl94u&via=ABC\n",
      "whatsapp://send?text=8+of+the+best+spring+break+party+destinations website:http%3A%2F%2Fabcnews.go.com%2FGMA%2FTravel%2Fbest-spring-break-party-destinations%2Fstory%3Fid%3D52904679%26cid%3Dshare_whatsapp_widget\n",
      "http://api.addthis.com/oexchange/0.8/forward/email/offer?url=http://abcnews.go.com/GMA/Travel/best-spring-break-party-destinations/story?id=52904679&cid=share_addthis_widget&title=8+of+the+best+spring+break+party+destinations\n",
      "https://www.facebook.com/sharer.php?u=http%3A%2F%2Fabcnews.go.com%2FGMA%2FTravel%2Fbest-spring-break-party-destinations%2Fstory%3Fid%3D52904679%26cid%3Dshare_facebook_widget\n",
      "http://twitter.com/intent/tweet?text=8+of+the+best+spring+break+party+destinations+-+ABC+News+-+http%3A%2F%2Fabcn.ws%2F2nIl94u&via=ABC\n",
      "whatsapp://send?text=8+of+the+best+spring+break+party+destinations website:http%3A%2F%2Fabcnews.go.com%2FGMA%2FTravel%2Fbest-spring-break-party-destinations%2Fstory%3Fid%3D52904679%26cid%3Dshare_whatsapp_widget\n",
      "http://api.addthis.com/oexchange/0.8/forward/email/offer?url=http://abcnews.go.com/GMA/Travel/best-spring-break-party-destinations/story?id=52904679&cid=share_addthis_widget&title=8+of+the+best+spring+break+party+destinations\n",
      "#\n",
      "#\n",
      "/GMA/Travel/best-spring-break-party-destinations/story?id=52904679\n",
      "/GMA/Travel/best-spring-break-party-destinations/story?id=52904679\n",
      "/Politics/naacp-president-northam-survive-racist-yearbook-photo-fallout/story?id=60807952\n",
      "/Politics/naacp-president-northam-survive-racist-yearbook-photo-fallout/story?id=60807952\n",
      "/US/police-officer-killed-injured-shooting-ongoing-standoff-situation/story?id=60811888\n",
      "/US/police-officer-killed-injured-shooting-ongoing-standoff-situation/story?id=60811888\n",
      "/Technology/wireStory/venezuelan-opposition-targeted-internet-censors-60815790\n",
      "/Technology/wireStory/venezuelan-opposition-targeted-internet-censors-60815790\n",
      "/US/flash-flooding-mudslides-wipes-roadways-southern-california/story?id=60812709\n",
      "/US/flash-flooding-mudslides-wipes-roadways-southern-california/story?id=60812709\n",
      "/US/News/empire-actor-jussie-smollett-perform-time-reported-racist/story?id=60799500\n",
      "/US/News/empire-actor-jussie-smollett-perform-time-reported-racist/story?id=60799500\n",
      "/Politics/wireStory/state-money-boosts-collins-supreme-court-vote-60815251\n",
      "/Politics/wireStory/state-money-boosts-collins-supreme-court-vote-60815251\n",
      "/Entertainment/wireStory/relaxation-pbs-democratic-house-takeover-60807568\n",
      "/Entertainment/wireStory/relaxation-pbs-democratic-house-takeover-60807568\n",
      "/Politics/president-leap-37-year-2020-hopeful-mayor-pete/story?id=60807954\n",
      "/Politics/president-leap-37-year-2020-hopeful-mayor-pete/story?id=60807954\n",
      "/International/2nd-trump-kim-summit/story?id=60757631\n",
      "/International/2nd-trump-kim-summit/story?id=60757631\n",
      "/Politics/white-house-reveals-title-themes-trumps-state-union/story?id=60791431\n",
      "/Politics/white-house-reveals-title-themes-trumps-state-union/story?id=60791431\n",
      "/US/trump-administration-unsure-thousands-migrant-families-separated-originally/story?id=60797633\n",
      "/US/trump-administration-unsure-thousands-migrant-families-separated-originally/story?id=60797633\n",
      "/Politics/jersey-sen-cory-booker-announces-2020-presidential-campaign/story?id=60761365\n",
      "/Politics/jersey-sen-cory-booker-announces-2020-presidential-campaign/story?id=60761365\n",
      "/Politics/independents-interviews-inequality-weekly-roundup-potential-2020-field/story?id=60676254\n",
      "/Politics/independents-interviews-inequality-weekly-roundup-potential-2020-field/story?id=60676254\n",
      "/Politics/cory-booker-2020-hopeful/story?id=60761190\n",
      "/Politics/cory-booker-2020-hopeful/story?id=60761190\n",
      "/Politics/blocked-calls-long-mystery-longtime-trump-family-friends/story?id=60766720\n",
      "/Politics/blocked-calls-long-mystery-longtime-trump-family-friends/story?id=60766720\n",
      "/Politics/top-dem-intel-chiefs-stage-intervention-trump/story?id=60752005\n",
      "/Politics/top-dem-intel-chiefs-stage-intervention-trump/story?id=60752005\n",
      "/Politics/wireStory/warren-announce-2020-presidential-run-feb-60768625\n",
      "/Politics/wireStory/warren-announce-2020-presidential-run-feb-60768625\n",
      "/International/wireStory/brazil-dam-collapse-death-toll-rises-121-60803140\n",
      "/International/wireStory/brazil-dam-collapse-death-toll-rises-121-60803140\n",
      "/Politics/native-american-communities-worry-long-term-effects-shutdown/story?id=60779896\n",
      "/Politics/native-american-communities-worry-long-term-effects-shutdown/story?id=60779896\n",
      "/Politics/sen-elizabeth-warren-apologizes-cherokee-nation-taking-dna/story?id=60788103\n",
      "/Politics/sen-elizabeth-warren-apologizes-cherokee-nation-taking-dna/story?id=60788103\n",
      "/US/major-storm-bring-flash-flooding-mudslides-southern-california/story?id=60799114\n",
      "/US/major-storm-bring-flash-flooding-mudslides-southern-california/story?id=60799114\n",
      "/International/putin-orders-russia-develop-missiles-leaving-treaty-deploy/story?id=60798394\n",
      "/International/putin-orders-russia-develop-missiles-leaving-treaty-deploy/story?id=60798394\n",
      "/Politics/federal-judge-warns-impose-gag-order-roger-stone/story?id=60783828\n",
      "/Politics/federal-judge-warns-impose-gag-order-roger-stone/story?id=60783828\n",
      "/US/super-bowl-fans-descend-atlanta-game-time-subway/story?id=60805453\n",
      "/US/super-bowl-fans-descend-atlanta-game-time-subway/story?id=60805453\n",
      "/Sports/wireStory/perfect-attendance-fans-super-bowl-streak-alive-60790163\n",
      "/Sports/wireStory/perfect-attendance-fans-super-bowl-streak-alive-60790163\n",
      "/US/wireStory/court-papers-witness-claims-el-chapo-sex-minors-60803357\n",
      "/US/wireStory/court-papers-witness-claims-el-chapo-sex-minors-60803357\n",
      "/US/wireStory/el-chapo-trial-highlights-mexico-graft-impedes-drug-60814972\n",
      "/US/wireStory/el-chapo-trial-highlights-mexico-graft-impedes-drug-60814972\n",
      "/US/mom-surrenders-twin-newborns-safely-california-fire-station/story?id=60783130\n",
      "/US/mom-surrenders-twin-newborns-safely-california-fire-station/story?id=60783130\n",
      "/Entertainment/wireStory/rapper-bow-wow-arrested-atlanta-charged-battery-60801765\n",
      "/Entertainment/wireStory/rapper-bow-wow-arrested-atlanta-charged-battery-60801765\n",
      "/International/wireStory/pope-urges-politicians-defend-rights-unborn-60801879\n",
      "/International/wireStory/pope-urges-politicians-defend-rights-unborn-60801879\n",
      "/International/wireStory/french-women-put-defense-post-metoo-defamation-trial-60815248\n",
      "/International/wireStory/french-women-put-defense-post-metoo-defamation-trial-60815248\n",
      "/GMA/Culture/shows-watch-super-bowl-thing/story?id=60757691\n",
      "/GMA/Culture/shows-watch-super-bowl-thing/story?id=60757691\n",
      "/GMA/Culture/meghan-markle-writes-empowering-messages-bananas-women-living/story?id=60782994\n",
      "/GMA/Culture/meghan-markle-writes-empowering-messages-bananas-women-living/story?id=60782994\n",
      "/Entertainment/late-night-host-comedian-graham-norton-releases-inspired/story?id=49608437\n",
      "/Entertainment/late-night-host-comedian-graham-norton-releases-inspired/story?id=49608437\n",
      "/Lifestyle/female-high-school-quarterback-throws-td-1st-pass/story?id=49564020\n",
      "/Lifestyle/female-high-school-quarterback-throws-td-1st-pass/story?id=49564020\n"
     ]
    }
   ],
   "source": [
    "# find all hyperlinks\n",
    "# 'a' stands for anchor tag, href stands for Hypertext REFrence\n",
    "for link in soup.find_all(name='a', href=True):\n",
    "    print(link['href'])"
   ]
  },
  {
   "cell_type": "markdown",
   "metadata": {},
   "source": [
    "# Get the List of Vacation Spots"
   ]
  },
  {
   "cell_type": "code",
   "execution_count": 209,
   "metadata": {},
   "outputs": [
    {
     "data": {
      "text/plain": [
       "<strong>1. Cancun</strong>"
      ]
     },
     "execution_count": 209,
     "metadata": {},
     "output_type": "execute_result"
    }
   ],
   "source": [
    "# soup.find returns the first child (see docs)\n",
    "soup.find(name='strong')"
   ]
  },
  {
   "cell_type": "code",
   "execution_count": 210,
   "metadata": {},
   "outputs": [
    {
     "data": {
      "text/plain": [
       "bs4.element.Tag"
      ]
     },
     "execution_count": 210,
     "metadata": {},
     "output_type": "execute_result"
    }
   ],
   "source": [
    "# store the the result\n",
    "result = soup.find(name='strong')\n",
    "\n",
    "# display the type of the `result`\n",
    "type(result)"
   ]
  },
  {
   "cell_type": "code",
   "execution_count": 211,
   "metadata": {},
   "outputs": [
    {
     "data": {
      "text/plain": [
       "'1. Cancun'"
      ]
     },
     "execution_count": 211,
     "metadata": {},
     "output_type": "execute_result"
    }
   ],
   "source": [
    "# access the text in `result`\n",
    "result.text"
   ]
  },
  {
   "cell_type": "code",
   "execution_count": 212,
   "metadata": {},
   "outputs": [
    {
     "data": {
      "text/plain": [
       "[<strong>1. Cancun</strong>,\n",
       " <strong>2. Las Vegas</strong>,\n",
       " <strong>3. Jamaica</strong>,\n",
       " <strong>4. Miami</strong>,\n",
       " <strong>5. Dominican Republic</strong>,\n",
       " <strong>6. South Padre Island</strong>,\n",
       " <strong>7. Puerto Vallarta</strong>,\n",
       " <strong>8. Bahamas</strong>]"
      ]
     },
     "execution_count": 212,
     "metadata": {},
     "output_type": "execute_result"
    }
   ],
   "source": [
    "# find all locations in the html\n",
    "soup.find_all(name='strong')"
   ]
  },
  {
   "cell_type": "code",
   "execution_count": 213,
   "metadata": {},
   "outputs": [],
   "source": [
    "# store all results\n",
    "results = soup.find_all(name='strong')"
   ]
  },
  {
   "cell_type": "code",
   "execution_count": 214,
   "metadata": {},
   "outputs": [
    {
     "data": {
      "text/plain": [
       "bs4.element.ResultSet"
      ]
     },
     "execution_count": 214,
     "metadata": {},
     "output_type": "execute_result"
    }
   ],
   "source": [
    "# display the type of `results`\n",
    "type(results)"
   ]
  },
  {
   "cell_type": "code",
   "execution_count": 215,
   "metadata": {},
   "outputs": [
    {
     "name": "stdout",
     "output_type": "stream",
     "text": [
      "1. Cancun\n",
      "2. Las Vegas\n",
      "3. Jamaica\n",
      "4. Miami\n",
      "5. Dominican Republic\n",
      "6. South Padre Island\n",
      "7. Puerto Vallarta\n",
      "8. Bahamas\n"
     ]
    }
   ],
   "source": [
    "# print the text for each result in `results`\n",
    "for result in results:\n",
    "    print(result.text)"
   ]
  },
  {
   "cell_type": "code",
   "execution_count": 216,
   "metadata": {},
   "outputs": [
    {
     "data": {
      "text/plain": [
       "['1. Cancun',\n",
       " '2. Las Vegas',\n",
       " '3. Jamaica',\n",
       " '4. Miami',\n",
       " '5. Dominican Republic',\n",
       " '6. South Padre Island',\n",
       " '7. Puerto Vallarta',\n",
       " '8. Bahamas']"
      ]
     },
     "execution_count": 216,
     "metadata": {},
     "output_type": "execute_result"
    }
   ],
   "source": [
    "# make a list of the result.text's\n",
    "# define result_texts as an empty list\n",
    "result_texts = []\n",
    "# loop through the results...\n",
    "for result in results:\n",
    "    # and append them to the result_texts list\n",
    "    result_texts.append(result.text)\n",
    "\n",
    "# show result_texts\n",
    "result_texts"
   ]
  },
  {
   "cell_type": "code",
   "execution_count": 217,
   "metadata": {},
   "outputs": [
    {
     "name": "stdout",
     "output_type": "stream",
     "text": [
      "Cancun\n",
      "Las Vegas\n",
      "Jamaica\n",
      "Miami\n",
      "Dominican Republic\n",
      "South Padre Island\n",
      "Puerto Vallarta\n",
      "Bahamas\n"
     ]
    }
   ],
   "source": [
    "# print the location names without the index\n",
    "for location in result_texts:\n",
    "    print(location[3:])"
   ]
  },
  {
   "cell_type": "code",
   "execution_count": 218,
   "metadata": {},
   "outputs": [
    {
     "name": "stdout",
     "output_type": "stream",
     "text": [
      "['Cancun']\n",
      "['Las', 'Vegas']\n",
      "['Jamaica']\n",
      "['Miami']\n",
      "['Dominican', 'Republic']\n",
      "['South', 'Padre', 'Island']\n",
      "['Puerto', 'Vallarta']\n",
      "['Bahamas']\n"
     ]
    }
   ],
   "source": [
    "# problem: What if I had a list of 10 locations?\n",
    "# I wouldn't be able to use my logic above because it would keep an extra space in front of the name.\n",
    "# use `split` to remove the index\n",
    "for location in result_texts:\n",
    "    print(location.split()[1:])"
   ]
  },
  {
   "cell_type": "code",
   "execution_count": 219,
   "metadata": {},
   "outputs": [
    {
     "data": {
      "text/plain": [
       "[['Cancun'],\n",
       " ['Las', 'Vegas'],\n",
       " ['Jamaica'],\n",
       " ['Miami'],\n",
       " ['Dominican', 'Republic'],\n",
       " ['South', 'Padre', 'Island'],\n",
       " ['Puerto', 'Vallarta'],\n",
       " ['Bahamas']]"
      ]
     },
     "execution_count": 219,
     "metadata": {},
     "output_type": "execute_result"
    }
   ],
   "source": [
    "# store the location names without indices in a new list\n",
    "no_index = []\n",
    "for location in result_texts:\n",
    "    no_index.append(location.split()[1:])\n",
    "\n",
    "# show `no_index`\n",
    "no_index"
   ]
  },
  {
   "cell_type": "code",
   "execution_count": 220,
   "metadata": {},
   "outputs": [
    {
     "name": "stdout",
     "output_type": "stream",
     "text": [
      "Cancun\n",
      "LasVegas\n",
      "Jamaica\n",
      "Miami\n",
      "DominicanRepublic\n",
      "SouthPadreIsland\n",
      "PuertoVallarta\n",
      "Bahamas\n"
     ]
    }
   ],
   "source": [
    "# `no_index` is a list of lists\n",
    "# want to join the strings in each list together to get a list of strings\n",
    "for l in no_index:\n",
    "    print(''.join(l))"
   ]
  },
  {
   "cell_type": "code",
   "execution_count": 221,
   "metadata": {},
   "outputs": [
    {
     "name": "stdout",
     "output_type": "stream",
     "text": [
      "Cancun\n",
      "Las Vegas\n",
      "Jamaica\n",
      "Miami\n",
      "Dominican Republic\n",
      "South Padre Island\n",
      "Puerto Vallarta\n",
      "Bahamas\n"
     ]
    }
   ],
   "source": [
    "# it worked, but the join didn't put a space between the words\n",
    "# try it again, but include a space\n",
    "for l in no_index:\n",
    "    print(' '.join(l))"
   ]
  },
  {
   "cell_type": "code",
   "execution_count": 222,
   "metadata": {},
   "outputs": [
    {
     "data": {
      "text/plain": [
       "['Cancun',\n",
       " 'Las Vegas',\n",
       " 'Jamaica',\n",
       " 'Miami',\n",
       " 'Dominican Republic',\n",
       " 'South Padre Island',\n",
       " 'Puerto Vallarta',\n",
       " 'Bahamas']"
      ]
     },
     "execution_count": 222,
     "metadata": {},
     "output_type": "execute_result"
    }
   ],
   "source": [
    "# much better\n",
    "# let's save these locations in another list\n",
    "locations = []\n",
    "for l in no_index:\n",
    "    locations.append(' '.join(l))\n",
    "\n",
    "# show locations\n",
    "locations"
   ]
  },
  {
   "cell_type": "code",
   "execution_count": 223,
   "metadata": {},
   "outputs": [
    {
     "data": {
      "text/plain": [
       "8"
      ]
     },
     "execution_count": 223,
     "metadata": {},
     "output_type": "execute_result"
    }
   ],
   "source": [
    "# check the `len`gth of locations (should == 8)\n",
    "len(locations)"
   ]
  },
  {
   "cell_type": "code",
   "execution_count": 224,
   "metadata": {},
   "outputs": [
    {
     "data": {
      "text/plain": [
       "['Cancun',\n",
       " 'Las Vegas',\n",
       " 'Jamaica',\n",
       " 'Miami',\n",
       " 'Dominican Republic',\n",
       " 'South Padre Island',\n",
       " 'Puerto Vallarta',\n",
       " 'Bahamas']"
      ]
     },
     "execution_count": 224,
     "metadata": {},
     "output_type": "execute_result"
    }
   ],
   "source": [
    "# that seemed like a lot of work just to extract the names from our results...\n",
    "# well here's a one-liner\n",
    "[' '.join(i.text.split()[1:]) for i in soup.find_all(name='strong')]"
   ]
  },
  {
   "cell_type": "markdown",
   "metadata": {},
   "source": [
    "This bit of code is called [list comprehension](https://docs.python.org/3/tutorial/datastructures.html#list-comprehensions). It's very handy and is often faster than standard for-loops (when n is large)."
   ]
  },
  {
   "cell_type": "code",
   "execution_count": 225,
   "metadata": {},
   "outputs": [
    {
     "name": "stdout",
     "output_type": "stream",
     "text": [
      "1.35 ms ± 178 µs per loop (mean ± std. dev. of 7 runs, 1000 loops each)\n"
     ]
    }
   ],
   "source": [
    "%%timeit -n 1000\n",
    "result_texts = []\n",
    "for i in soup.find_all(name='strong'):\n",
    "    result_texts.append(' '.join(i.text.split()[1:]))"
   ]
  },
  {
   "cell_type": "code",
   "execution_count": 226,
   "metadata": {},
   "outputs": [
    {
     "name": "stdout",
     "output_type": "stream",
     "text": [
      "1.01 ms ± 101 µs per loop (mean ± std. dev. of 7 runs, 1000 loops each)\n"
     ]
    }
   ],
   "source": [
    "%%timeit -n 1000\n",
    "[' '.join(i.text.split()[1:]) for i in soup.find_all(name='strong')]"
   ]
  },
  {
   "cell_type": "markdown",
   "metadata": {},
   "source": [
    "As a precautionary side-note, don't use list comprehension if you don't understand it or the loop is too complex. You can get unexpected results, especially when attempting multiple loops."
   ]
  },
  {
   "cell_type": "markdown",
   "metadata": {},
   "source": [
    "# Get Information on the Locations"
   ]
  },
  {
   "cell_type": "markdown",
   "metadata": {},
   "source": [
    "### Wikipedia"
   ]
  },
  {
   "cell_type": "code",
   "execution_count": 227,
   "metadata": {},
   "outputs": [],
   "source": [
    "# wikipedia url\n",
    "wiki_url = \"https://en.wikipedia.org/wiki/\""
   ]
  },
  {
   "cell_type": "code",
   "execution_count": 228,
   "metadata": {},
   "outputs": [
    {
     "name": "stdout",
     "output_type": "stream",
     "text": [
      "https://en.wikipedia.org/wiki/Cancun\n",
      "https://en.wikipedia.org/wiki/Las_Vegas\n",
      "https://en.wikipedia.org/wiki/Jamaica\n",
      "https://en.wikipedia.org/wiki/Miami\n",
      "https://en.wikipedia.org/wiki/Dominican_Republic\n",
      "https://en.wikipedia.org/wiki/South_Padre_Island\n",
      "https://en.wikipedia.org/wiki/Puerto_Vallarta\n",
      "https://en.wikipedia.org/wiki/Bahamas\n"
     ]
    }
   ],
   "source": [
    "# loop through the locations\n",
    "for l in locations:\n",
    "    # add the wiki url to the location name and replace spaces with underscores\n",
    "    print(f\"{wiki_url}{l.replace(' ', '_')}\")"
   ]
  },
  {
   "cell_type": "code",
   "execution_count": 229,
   "metadata": {},
   "outputs": [],
   "source": [
    "from time import sleep"
   ]
  },
  {
   "cell_type": "code",
   "execution_count": 230,
   "metadata": {},
   "outputs": [],
   "source": [
    "# scrape each page and store in a dictionary\n",
    "# define empty dictionary\n",
    "location_wiki = {}\n",
    "# loop through the locations...\n",
    "for l in locations:\n",
    "    # request the page from wikipedia\n",
    "    r = requests.get(f\"{wiki_url}{l}\")\n",
    "    # make the soup\n",
    "    soup = BeautifulSoup(r.text)\n",
    "    # close the request\n",
    "    r.close()\n",
    "    # store the soup in the dictionary\n",
    "    location_wiki[l] = soup\n",
    "    # wait 2 seconds before scraping again (this respects the robots.txt... and keeps us from getting blocked by wikipedia)\n",
    "    sleep(2)"
   ]
  },
  {
   "cell_type": "markdown",
   "metadata": {},
   "source": [
    "# Data Frames"
   ]
  },
  {
   "cell_type": "code",
   "execution_count": 231,
   "metadata": {},
   "outputs": [],
   "source": [
    "import pandas as pd"
   ]
  },
  {
   "cell_type": "code",
   "execution_count": 232,
   "metadata": {},
   "outputs": [
    {
     "data": {
      "text/plain": [
       "dict"
      ]
     },
     "execution_count": 232,
     "metadata": {},
     "output_type": "execute_result"
    }
   ],
   "source": [
    "# now that we've scraped the wiki pages, let's store some information in a dataframe using `pandas`\n",
    "# we know `location_wiki` is a dict\n",
    "type(location_wiki)"
   ]
  },
  {
   "cell_type": "code",
   "execution_count": 233,
   "metadata": {},
   "outputs": [],
   "source": [
    "# so let's use pandas' DataFrame attribute `from_dict` and orient our keys so that they are the index instead of columns\n",
    "df = pd.DataFrame.from_dict(location_wiki, orient='index')"
   ]
  },
  {
   "cell_type": "code",
   "execution_count": 234,
   "metadata": {},
   "outputs": [
    {
     "data": {
      "text/html": [
       "<div>\n",
       "<style scoped>\n",
       "    .dataframe tbody tr th:only-of-type {\n",
       "        vertical-align: middle;\n",
       "    }\n",
       "\n",
       "    .dataframe tbody tr th {\n",
       "        vertical-align: top;\n",
       "    }\n",
       "\n",
       "    .dataframe thead th {\n",
       "        text-align: right;\n",
       "    }\n",
       "</style>\n",
       "<table border=\"1\" class=\"dataframe\">\n",
       "  <thead>\n",
       "    <tr style=\"text-align: right;\">\n",
       "      <th></th>\n",
       "      <th>0</th>\n",
       "      <th>1</th>\n",
       "      <th>2</th>\n",
       "    </tr>\n",
       "  </thead>\n",
       "  <tbody>\n",
       "    <tr>\n",
       "      <th>Cancun</th>\n",
       "      <td>html</td>\n",
       "      <td>&lt;html class=\"client-nojs\" dir=\"ltr\" lang=\"en\"&gt;...</td>\n",
       "      <td></td>\n",
       "    </tr>\n",
       "    <tr>\n",
       "      <th>Las Vegas</th>\n",
       "      <td>html</td>\n",
       "      <td>&lt;html class=\"client-nojs\" dir=\"ltr\" lang=\"en\"&gt;...</td>\n",
       "      <td></td>\n",
       "    </tr>\n",
       "    <tr>\n",
       "      <th>Jamaica</th>\n",
       "      <td>html</td>\n",
       "      <td>&lt;html class=\"client-nojs\" dir=\"ltr\" lang=\"en\"&gt;...</td>\n",
       "      <td></td>\n",
       "    </tr>\n",
       "    <tr>\n",
       "      <th>Miami</th>\n",
       "      <td>html</td>\n",
       "      <td>&lt;html class=\"client-nojs\" dir=\"ltr\" lang=\"en\"&gt;...</td>\n",
       "      <td></td>\n",
       "    </tr>\n",
       "    <tr>\n",
       "      <th>Dominican Republic</th>\n",
       "      <td>html</td>\n",
       "      <td>&lt;html class=\"client-nojs\" dir=\"ltr\" lang=\"en\"&gt;...</td>\n",
       "      <td></td>\n",
       "    </tr>\n",
       "  </tbody>\n",
       "</table>\n",
       "</div>"
      ],
      "text/plain": [
       "                       0                                                  1  2\n",
       "Cancun              html  <html class=\"client-nojs\" dir=\"ltr\" lang=\"en\">...  \n",
       "\n",
       "Las Vegas           html  <html class=\"client-nojs\" dir=\"ltr\" lang=\"en\">...  \n",
       "\n",
       "Jamaica             html  <html class=\"client-nojs\" dir=\"ltr\" lang=\"en\">...  \n",
       "\n",
       "Miami               html  <html class=\"client-nojs\" dir=\"ltr\" lang=\"en\">...  \n",
       "\n",
       "Dominican Republic  html  <html class=\"client-nojs\" dir=\"ltr\" lang=\"en\">...  "
      ]
     },
     "execution_count": 234,
     "metadata": {},
     "output_type": "execute_result"
    }
   ],
   "source": [
    "# take a peek at df\n",
    "df.head()"
   ]
  },
  {
   "cell_type": "code",
   "execution_count": 235,
   "metadata": {},
   "outputs": [
    {
     "data": {
      "text/plain": [
       "Index(['Cancun', 'Las Vegas', 'Jamaica', 'Miami', 'Dominican Republic',\n",
       "       'South Padre Island', 'Puerto Vallarta', 'Bahamas'],\n",
       "      dtype='object')"
      ]
     },
     "execution_count": 235,
     "metadata": {},
     "output_type": "execute_result"
    }
   ],
   "source": [
    "# we have an index with the names of our locations...\n",
    "df.index"
   ]
  },
  {
   "cell_type": "code",
   "execution_count": 236,
   "metadata": {},
   "outputs": [
    {
     "data": {
      "text/plain": [
       "RangeIndex(start=0, stop=3, step=1)"
      ]
     },
     "execution_count": 236,
     "metadata": {},
     "output_type": "execute_result"
    }
   ],
   "source": [
    "# and we have 3 columns\n",
    "df.columns"
   ]
  },
  {
   "cell_type": "code",
   "execution_count": 237,
   "metadata": {},
   "outputs": [
    {
     "data": {
      "text/html": [
       "<div>\n",
       "<style scoped>\n",
       "    .dataframe tbody tr th:only-of-type {\n",
       "        vertical-align: middle;\n",
       "    }\n",
       "\n",
       "    .dataframe tbody tr th {\n",
       "        vertical-align: top;\n",
       "    }\n",
       "\n",
       "    .dataframe thead th {\n",
       "        text-align: right;\n",
       "    }\n",
       "</style>\n",
       "<table border=\"1\" class=\"dataframe\">\n",
       "  <thead>\n",
       "    <tr style=\"text-align: right;\">\n",
       "      <th></th>\n",
       "      <th>0</th>\n",
       "      <th>1</th>\n",
       "      <th>2</th>\n",
       "    </tr>\n",
       "  </thead>\n",
       "  <tbody>\n",
       "    <tr>\n",
       "      <th>count</th>\n",
       "      <td>8</td>\n",
       "      <td>8</td>\n",
       "      <td>8</td>\n",
       "    </tr>\n",
       "    <tr>\n",
       "      <th>unique</th>\n",
       "      <td>1</td>\n",
       "      <td>8</td>\n",
       "      <td>1</td>\n",
       "    </tr>\n",
       "    <tr>\n",
       "      <th>top</th>\n",
       "      <td>html</td>\n",
       "      <td>&lt;html class=\"client-nojs\" dir=\"ltr\" lang=\"en\"&gt;...</td>\n",
       "      <td></td>\n",
       "    </tr>\n",
       "    <tr>\n",
       "      <th>freq</th>\n",
       "      <td>8</td>\n",
       "      <td>1</td>\n",
       "      <td>8</td>\n",
       "    </tr>\n",
       "  </tbody>\n",
       "</table>\n",
       "</div>"
      ],
      "text/plain": [
       "           0                                                  1  2\n",
       "count      8                                                  8  8\n",
       "unique     1                                                  8  1\n",
       "top     html  <html class=\"client-nojs\" dir=\"ltr\" lang=\"en\">...  \n",
       "\n",
       "freq       8                                                  1  8"
      ]
     },
     "execution_count": 237,
     "metadata": {},
     "output_type": "execute_result"
    }
   ],
   "source": [
    "# describe our columns\n",
    "df.describe(include='all') # the `include` parameter allows us to choose what kinds of data types to include\n",
    "# `describe` only includes numeric columns by default"
   ]
  },
  {
   "cell_type": "code",
   "execution_count": 238,
   "metadata": {},
   "outputs": [],
   "source": [
    "# you can see that columns 0 and 2 have only one unique value ('html' for 0, and an empty string for 2)\n",
    "# let's drop these two columns and save over df using `inplace`\n",
    "df.drop(columns=[\n",
    "    0,\n",
    "    2\n",
    "], inplace=True)"
   ]
  },
  {
   "cell_type": "code",
   "execution_count": 239,
   "metadata": {},
   "outputs": [
    {
     "data": {
      "text/html": [
       "<div>\n",
       "<style scoped>\n",
       "    .dataframe tbody tr th:only-of-type {\n",
       "        vertical-align: middle;\n",
       "    }\n",
       "\n",
       "    .dataframe tbody tr th {\n",
       "        vertical-align: top;\n",
       "    }\n",
       "\n",
       "    .dataframe thead th {\n",
       "        text-align: right;\n",
       "    }\n",
       "</style>\n",
       "<table border=\"1\" class=\"dataframe\">\n",
       "  <thead>\n",
       "    <tr style=\"text-align: right;\">\n",
       "      <th></th>\n",
       "      <th>1</th>\n",
       "    </tr>\n",
       "  </thead>\n",
       "  <tbody>\n",
       "    <tr>\n",
       "      <th>Cancun</th>\n",
       "      <td>&lt;html class=\"client-nojs\" dir=\"ltr\" lang=\"en\"&gt;...</td>\n",
       "    </tr>\n",
       "    <tr>\n",
       "      <th>Las Vegas</th>\n",
       "      <td>&lt;html class=\"client-nojs\" dir=\"ltr\" lang=\"en\"&gt;...</td>\n",
       "    </tr>\n",
       "    <tr>\n",
       "      <th>Jamaica</th>\n",
       "      <td>&lt;html class=\"client-nojs\" dir=\"ltr\" lang=\"en\"&gt;...</td>\n",
       "    </tr>\n",
       "    <tr>\n",
       "      <th>Miami</th>\n",
       "      <td>&lt;html class=\"client-nojs\" dir=\"ltr\" lang=\"en\"&gt;...</td>\n",
       "    </tr>\n",
       "    <tr>\n",
       "      <th>Dominican Republic</th>\n",
       "      <td>&lt;html class=\"client-nojs\" dir=\"ltr\" lang=\"en\"&gt;...</td>\n",
       "    </tr>\n",
       "  </tbody>\n",
       "</table>\n",
       "</div>"
      ],
      "text/plain": [
       "                                                                    1\n",
       "Cancun              <html class=\"client-nojs\" dir=\"ltr\" lang=\"en\">...\n",
       "Las Vegas           <html class=\"client-nojs\" dir=\"ltr\" lang=\"en\">...\n",
       "Jamaica             <html class=\"client-nojs\" dir=\"ltr\" lang=\"en\">...\n",
       "Miami               <html class=\"client-nojs\" dir=\"ltr\" lang=\"en\">...\n",
       "Dominican Republic  <html class=\"client-nojs\" dir=\"ltr\" lang=\"en\">..."
      ]
     },
     "execution_count": 239,
     "metadata": {},
     "output_type": "execute_result"
    }
   ],
   "source": [
    "# let's see what df looks like now\n",
    "df.head()"
   ]
  },
  {
   "cell_type": "code",
   "execution_count": 240,
   "metadata": {},
   "outputs": [],
   "source": [
    "# while we only have one column in df, the name of the column isn't very informative. Let's rename it and save over df\n",
    "df.rename(columns={\n",
    "    1 : 'scraped'\n",
    "}, inplace=True)"
   ]
  },
  {
   "cell_type": "code",
   "execution_count": 241,
   "metadata": {},
   "outputs": [
    {
     "data": {
      "text/plain": [
       "Index(['scraped'], dtype='object')"
      ]
     },
     "execution_count": 241,
     "metadata": {},
     "output_type": "execute_result"
    }
   ],
   "source": [
    "# check if the column name changed\n",
    "df.columns"
   ]
  },
  {
   "cell_type": "code",
   "execution_count": 242,
   "metadata": {},
   "outputs": [
    {
     "data": {
      "text/plain": [
       "scraped    <html class=\"client-nojs\" dir=\"ltr\" lang=\"en\">...\n",
       "Name: Cancun, dtype: object"
      ]
     },
     "execution_count": 242,
     "metadata": {},
     "output_type": "execute_result"
    }
   ],
   "source": [
    "# to begin disecting our scraped data, it would be nice to know how to look at one row\n",
    "# there are multiple ways to do this, but the best practice is to use label or integer indexing\n",
    "# label indexing uses the `.loc` property\n",
    "df.loc['Cancun']"
   ]
  },
  {
   "cell_type": "code",
   "execution_count": 243,
   "metadata": {
    "scrolled": true
   },
   "outputs": [
    {
     "data": {
      "text/plain": [
       "scraped    <html class=\"client-nojs\" dir=\"ltr\" lang=\"en\">...\n",
       "Name: Cancun, dtype: object"
      ]
     },
     "execution_count": 243,
     "metadata": {},
     "output_type": "execute_result"
    }
   ],
   "source": [
    "# integer indexing uses the `.iloc` property\n",
    "df.iloc[0]"
   ]
  },
  {
   "cell_type": "code",
   "execution_count": 244,
   "metadata": {},
   "outputs": [
    {
     "data": {
      "text/html": [
       "<div>\n",
       "<style scoped>\n",
       "    .dataframe tbody tr th:only-of-type {\n",
       "        vertical-align: middle;\n",
       "    }\n",
       "\n",
       "    .dataframe tbody tr th {\n",
       "        vertical-align: top;\n",
       "    }\n",
       "\n",
       "    .dataframe thead th {\n",
       "        text-align: right;\n",
       "    }\n",
       "</style>\n",
       "<table border=\"1\" class=\"dataframe\">\n",
       "  <thead>\n",
       "    <tr style=\"text-align: right;\">\n",
       "      <th></th>\n",
       "      <th>scraped</th>\n",
       "    </tr>\n",
       "  </thead>\n",
       "  <tbody>\n",
       "    <tr>\n",
       "      <th>Cancun</th>\n",
       "      <td>&lt;html class=\"client-nojs\" dir=\"ltr\" lang=\"en\"&gt;...</td>\n",
       "    </tr>\n",
       "    <tr>\n",
       "      <th>Bahamas</th>\n",
       "      <td>&lt;html class=\"client-nojs\" dir=\"ltr\" lang=\"en\"&gt;...</td>\n",
       "    </tr>\n",
       "  </tbody>\n",
       "</table>\n",
       "</div>"
      ],
      "text/plain": [
       "                                                   scraped\n",
       "Cancun   <html class=\"client-nojs\" dir=\"ltr\" lang=\"en\">...\n",
       "Bahamas  <html class=\"client-nojs\" dir=\"ltr\" lang=\"en\">..."
      ]
     },
     "execution_count": 244,
     "metadata": {},
     "output_type": "execute_result"
    }
   ],
   "source": [
    "# you can get a list of rows by giving the property a list of the indices\n",
    "df.loc[[\n",
    "    'Cancun',\n",
    "    'Bahamas'\n",
    "]]"
   ]
  },
  {
   "cell_type": "code",
   "execution_count": 245,
   "metadata": {},
   "outputs": [
    {
     "data": {
      "text/html": [
       "<div>\n",
       "<style scoped>\n",
       "    .dataframe tbody tr th:only-of-type {\n",
       "        vertical-align: middle;\n",
       "    }\n",
       "\n",
       "    .dataframe tbody tr th {\n",
       "        vertical-align: top;\n",
       "    }\n",
       "\n",
       "    .dataframe thead th {\n",
       "        text-align: right;\n",
       "    }\n",
       "</style>\n",
       "<table border=\"1\" class=\"dataframe\">\n",
       "  <thead>\n",
       "    <tr style=\"text-align: right;\">\n",
       "      <th></th>\n",
       "      <th>scraped</th>\n",
       "    </tr>\n",
       "  </thead>\n",
       "  <tbody>\n",
       "    <tr>\n",
       "      <th>Jamaica</th>\n",
       "      <td>&lt;html class=\"client-nojs\" dir=\"ltr\" lang=\"en\"&gt;...</td>\n",
       "    </tr>\n",
       "    <tr>\n",
       "      <th>Miami</th>\n",
       "      <td>&lt;html class=\"client-nojs\" dir=\"ltr\" lang=\"en\"&gt;...</td>\n",
       "    </tr>\n",
       "  </tbody>\n",
       "</table>\n",
       "</div>"
      ],
      "text/plain": [
       "                                                   scraped\n",
       "Jamaica  <html class=\"client-nojs\" dir=\"ltr\" lang=\"en\">...\n",
       "Miami    <html class=\"client-nojs\" dir=\"ltr\" lang=\"en\">..."
      ]
     },
     "execution_count": 245,
     "metadata": {},
     "output_type": "execute_result"
    }
   ],
   "source": [
    "# you can also give the property a \"slice\"\n",
    "df.iloc[2:4]"
   ]
  },
  {
   "cell_type": "code",
   "execution_count": 246,
   "metadata": {},
   "outputs": [
    {
     "data": {
      "text/html": [
       "<div>\n",
       "<style scoped>\n",
       "    .dataframe tbody tr th:only-of-type {\n",
       "        vertical-align: middle;\n",
       "    }\n",
       "\n",
       "    .dataframe tbody tr th {\n",
       "        vertical-align: top;\n",
       "    }\n",
       "\n",
       "    .dataframe thead th {\n",
       "        text-align: right;\n",
       "    }\n",
       "</style>\n",
       "<table border=\"1\" class=\"dataframe\">\n",
       "  <thead>\n",
       "    <tr style=\"text-align: right;\">\n",
       "      <th></th>\n",
       "      <th>scraped</th>\n",
       "    </tr>\n",
       "  </thead>\n",
       "  <tbody>\n",
       "    <tr>\n",
       "      <th>Jamaica</th>\n",
       "      <td>&lt;html class=\"client-nojs\" dir=\"ltr\" lang=\"en\"&gt;...</td>\n",
       "    </tr>\n",
       "    <tr>\n",
       "      <th>Miami</th>\n",
       "      <td>&lt;html class=\"client-nojs\" dir=\"ltr\" lang=\"en\"&gt;...</td>\n",
       "    </tr>\n",
       "    <tr>\n",
       "      <th>Dominican Republic</th>\n",
       "      <td>&lt;html class=\"client-nojs\" dir=\"ltr\" lang=\"en\"&gt;...</td>\n",
       "    </tr>\n",
       "    <tr>\n",
       "      <th>South Padre Island</th>\n",
       "      <td>&lt;html class=\"client-nojs\" dir=\"ltr\" lang=\"en\"&gt;...</td>\n",
       "    </tr>\n",
       "    <tr>\n",
       "      <th>Puerto Vallarta</th>\n",
       "      <td>&lt;html class=\"client-nojs\" dir=\"ltr\" lang=\"en\"&gt;...</td>\n",
       "    </tr>\n",
       "    <tr>\n",
       "      <th>Bahamas</th>\n",
       "      <td>&lt;html class=\"client-nojs\" dir=\"ltr\" lang=\"en\"&gt;...</td>\n",
       "    </tr>\n",
       "  </tbody>\n",
       "</table>\n",
       "</div>"
      ],
      "text/plain": [
       "                                                              scraped\n",
       "Jamaica             <html class=\"client-nojs\" dir=\"ltr\" lang=\"en\">...\n",
       "Miami               <html class=\"client-nojs\" dir=\"ltr\" lang=\"en\">...\n",
       "Dominican Republic  <html class=\"client-nojs\" dir=\"ltr\" lang=\"en\">...\n",
       "South Padre Island  <html class=\"client-nojs\" dir=\"ltr\" lang=\"en\">...\n",
       "Puerto Vallarta     <html class=\"client-nojs\" dir=\"ltr\" lang=\"en\">...\n",
       "Bahamas             <html class=\"client-nojs\" dir=\"ltr\" lang=\"en\">..."
      ]
     },
     "execution_count": 246,
     "metadata": {},
     "output_type": "execute_result"
    }
   ],
   "source": [
    "# notice that only 2 rows were returned (the second and third)\n",
    "# This is becasue the slice is inclusive of the left, and exclusive of the right\n",
    "# If you want to start from an index and include everything after, you can leave of the right bound\n",
    "df.iloc[2:]"
   ]
  },
  {
   "cell_type": "code",
   "execution_count": 247,
   "metadata": {},
   "outputs": [
    {
     "data": {
      "text/plain": [
       "Cancun                <html class=\"client-nojs\" dir=\"ltr\" lang=\"en\">...\n",
       "Las Vegas             <html class=\"client-nojs\" dir=\"ltr\" lang=\"en\">...\n",
       "Jamaica               <html class=\"client-nojs\" dir=\"ltr\" lang=\"en\">...\n",
       "Miami                 <html class=\"client-nojs\" dir=\"ltr\" lang=\"en\">...\n",
       "Dominican Republic    <html class=\"client-nojs\" dir=\"ltr\" lang=\"en\">...\n",
       "South Padre Island    <html class=\"client-nojs\" dir=\"ltr\" lang=\"en\">...\n",
       "Puerto Vallarta       <html class=\"client-nojs\" dir=\"ltr\" lang=\"en\">...\n",
       "Bahamas               <html class=\"client-nojs\" dir=\"ltr\" lang=\"en\">...\n",
       "Name: scraped, dtype: object"
      ]
     },
     "execution_count": 247,
     "metadata": {},
     "output_type": "execute_result"
    }
   ],
   "source": [
    "# you can also index on columns\n",
    "# if you want all rows and a specific column you use the colon (:) for the rows, then a comma to begin indexing on columns\n",
    "# remember that the colon is used for \"slicing\"\n",
    "df.loc[:, 'scraped']"
   ]
  },
  {
   "cell_type": "code",
   "execution_count": 248,
   "metadata": {},
   "outputs": [
    {
     "data": {
      "text/plain": [
       "pandas.core.series.Series"
      ]
     },
     "execution_count": 248,
     "metadata": {},
     "output_type": "execute_result"
    }
   ],
   "source": [
    "# when you index on one column, a `series` is returned, which is just data analysis jargon for column\n",
    "type(df.loc[:, 'scraped'])"
   ]
  },
  {
   "cell_type": "code",
   "execution_count": 249,
   "metadata": {},
   "outputs": [],
   "source": [
    "# now we've figured out how to slice our data, let's look at one row and disect the html in the 'scraped' column\n",
    "cancun_scraped = df.loc['Cancun', 'scraped']"
   ]
  },
  {
   "cell_type": "code",
   "execution_count": 250,
   "metadata": {},
   "outputs": [
    {
     "data": {
      "text/plain": [
       "bs4.element.Tag"
      ]
     },
     "execution_count": 250,
     "metadata": {},
     "output_type": "execute_result"
    }
   ],
   "source": [
    "# check the type of the value\n",
    "type(cancun_scraped)"
   ]
  },
  {
   "cell_type": "code",
   "execution_count": 251,
   "metadata": {},
   "outputs": [],
   "source": [
    "# the value is soup!\n",
    "# this means we it has attributes that we can use to extract values from the html\n",
    "# looking at the webpage for this index, we can see that there is a Table of Contents (toc), find it in the html/store it\n",
    "cancun_scraped_toc = cancun_scraped.find(name='div', attrs={\n",
    "    'id' : 'toc',\n",
    "    'class' : 'toc'\n",
    "})"
   ]
  },
  {
   "cell_type": "code",
   "execution_count": 252,
   "metadata": {},
   "outputs": [],
   "source": [
    "# we've got the toc, but how do we get the values?\n",
    "# notice in the html the values \"ul\" and \"li\"\n",
    "# \"ul\" means \"unordered list\" and \"li\" means \"list item\"\n",
    "# we need the whole \"ul\" and each \"li\" in it\n",
    "# to get to the \"ul\" quickly, we can actually use dot-notation to access it, `find_all` the \"li\" in it, store it\n",
    "cancun_scraped_toc_ul = cancun_scraped_toc.ul.find_all(name='li')"
   ]
  },
  {
   "cell_type": "code",
   "execution_count": 253,
   "metadata": {},
   "outputs": [
    {
     "data": {
      "text/plain": [
       "<li class=\"toclevel-1 tocsection-1\"><a href=\"#Etymology_and_coat_of_arms\"><span class=\"tocnumber\">1</span> <span class=\"toctext\">Etymology and coat of arms</span></a></li>"
      ]
     },
     "execution_count": 253,
     "metadata": {},
     "output_type": "execute_result"
    }
   ],
   "source": [
    "# look at the first \"li\" in the \"ul\"\n",
    "cancun_scraped_toc_ul[0]"
   ]
  },
  {
   "cell_type": "code",
   "execution_count": 254,
   "metadata": {},
   "outputs": [
    {
     "data": {
      "text/plain": [
       "'Etymology and coat of arms'"
      ]
     },
     "execution_count": 254,
     "metadata": {},
     "output_type": "execute_result"
    }
   ],
   "source": [
    "# this \"li\" has a few bits of information\n",
    "# but we're only interested in the Table of Contents Text (toctext)\n",
    "# extract it for this \"li\", then look at the text\n",
    "cancun_scraped_toc_ul[0].find(name='span', attrs={\n",
    "    'class' : 'toctext'\n",
    "}).text"
   ]
  },
  {
   "cell_type": "code",
   "execution_count": 255,
   "metadata": {},
   "outputs": [
    {
     "name": "stdout",
     "output_type": "stream",
     "text": [
      "Etymology and coat of arms\n",
      "History\n",
      "City layout\n",
      "Cancún Airport's old Control Tower Memorial\n",
      "Maya archaeological sites\n",
      "Transportation\n",
      "Climate\n",
      "Hurricane Gilbert\n",
      "Hurricane Wilma\n",
      "Hurricane Dean\n",
      "Education\n",
      "Sports\n",
      "Drug trafficking network\n",
      "Sister cities\n",
      "See also\n",
      "References\n",
      "External links\n"
     ]
    }
   ],
   "source": [
    "# the goal here is to do this for every \"li\"\n",
    "# let's test it on our current \"ul\"\n",
    "for li in cancun_scraped_toc_ul:\n",
    "    print(li.find(name='span', attrs={\n",
    "        'class' : 'toctext'\n",
    "    }).text)"
   ]
  },
  {
   "cell_type": "code",
   "execution_count": 256,
   "metadata": {},
   "outputs": [],
   "source": [
    "# it worked\n",
    "# to do this for all our rows we can `apply` our current work flow to df\n",
    "# start by `find`ing the \"toc\" and saving the returned html as a new column, \"table_of_contents\"\n",
    "df['table_of_contents'] = df.scraped.apply(lambda x : x.find(name='div', attrs={\n",
    "    'id' : 'toc',\n",
    "    'class' : 'toc'\n",
    "}))"
   ]
  },
  {
   "cell_type": "code",
   "execution_count": 257,
   "metadata": {},
   "outputs": [
    {
     "data": {
      "text/plain": [
       "Cancun                <div class=\"toc\" id=\"toc\"><input class=\"toctog...\n",
       "Las Vegas             <div class=\"toc\" id=\"toc\"><input class=\"toctog...\n",
       "Jamaica               <div class=\"toc\" id=\"toc\"><input class=\"toctog...\n",
       "Miami                 <div class=\"toc\" id=\"toc\"><input class=\"toctog...\n",
       "Dominican Republic    <div class=\"toc\" id=\"toc\"><input class=\"toctog...\n",
       "South Padre Island                                                 None\n",
       "Puerto Vallarta       <div class=\"toc\" id=\"toc\"><input class=\"toctog...\n",
       "Bahamas               <div class=\"toc\" id=\"toc\"><input class=\"toctog...\n",
       "Name: table_of_contents, dtype: object"
      ]
     },
     "execution_count": 257,
     "metadata": {},
     "output_type": "execute_result"
    }
   ],
   "source": [
    "# let's look at our new column\n",
    "df.table_of_contents"
   ]
  },
  {
   "cell_type": "code",
   "execution_count": 258,
   "metadata": {},
   "outputs": [
    {
     "ename": "AttributeError",
     "evalue": "'NoneType' object has no attribute 'ul'",
     "output_type": "error",
     "traceback": [
      "\u001b[1;31m---------------------------------------------------------------------------\u001b[0m",
      "\u001b[1;31mAttributeError\u001b[0m                            Traceback (most recent call last)",
      "\u001b[1;32m<ipython-input-258-29ee69eda2c0>\u001b[0m in \u001b[0;36m<module>\u001b[1;34m\u001b[0m\n\u001b[0;32m      4\u001b[0m \u001b[1;31m# if you were to search \"South Padre Island, Texas\" you get a Table of Contents, but that's not what we searched\u001b[0m\u001b[1;33m\u001b[0m\u001b[1;33m\u001b[0m\u001b[1;33m\u001b[0m\u001b[0m\n\u001b[0;32m      5\u001b[0m \u001b[1;31m# let's continue applying our workflow to our new `table_of_contents` column\u001b[0m\u001b[1;33m\u001b[0m\u001b[1;33m\u001b[0m\u001b[1;33m\u001b[0m\u001b[0m\n\u001b[1;32m----> 6\u001b[1;33m \u001b[0mdf\u001b[0m\u001b[1;33m.\u001b[0m\u001b[0mtable_of_contents\u001b[0m\u001b[1;33m.\u001b[0m\u001b[0mapply\u001b[0m\u001b[1;33m(\u001b[0m\u001b[1;32mlambda\u001b[0m \u001b[0mx\u001b[0m \u001b[1;33m:\u001b[0m \u001b[0mx\u001b[0m\u001b[1;33m.\u001b[0m\u001b[0mul\u001b[0m\u001b[1;33m.\u001b[0m\u001b[0mfind_all\u001b[0m\u001b[1;33m(\u001b[0m\u001b[0mname\u001b[0m\u001b[1;33m=\u001b[0m\u001b[1;34m'li'\u001b[0m\u001b[1;33m)\u001b[0m\u001b[1;33m)\u001b[0m\u001b[1;33m\u001b[0m\u001b[1;33m\u001b[0m\u001b[0m\n\u001b[0m",
      "\u001b[1;32m~\\AppData\\Local\\Continuum\\anaconda3\\lib\\site-packages\\pandas\\core\\series.py\u001b[0m in \u001b[0;36mapply\u001b[1;34m(self, func, convert_dtype, args, **kwds)\u001b[0m\n\u001b[0;32m   3192\u001b[0m             \u001b[1;32melse\u001b[0m\u001b[1;33m:\u001b[0m\u001b[1;33m\u001b[0m\u001b[1;33m\u001b[0m\u001b[0m\n\u001b[0;32m   3193\u001b[0m                 \u001b[0mvalues\u001b[0m \u001b[1;33m=\u001b[0m \u001b[0mself\u001b[0m\u001b[1;33m.\u001b[0m\u001b[0mastype\u001b[0m\u001b[1;33m(\u001b[0m\u001b[0mobject\u001b[0m\u001b[1;33m)\u001b[0m\u001b[1;33m.\u001b[0m\u001b[0mvalues\u001b[0m\u001b[1;33m\u001b[0m\u001b[1;33m\u001b[0m\u001b[0m\n\u001b[1;32m-> 3194\u001b[1;33m                 \u001b[0mmapped\u001b[0m \u001b[1;33m=\u001b[0m \u001b[0mlib\u001b[0m\u001b[1;33m.\u001b[0m\u001b[0mmap_infer\u001b[0m\u001b[1;33m(\u001b[0m\u001b[0mvalues\u001b[0m\u001b[1;33m,\u001b[0m \u001b[0mf\u001b[0m\u001b[1;33m,\u001b[0m \u001b[0mconvert\u001b[0m\u001b[1;33m=\u001b[0m\u001b[0mconvert_dtype\u001b[0m\u001b[1;33m)\u001b[0m\u001b[1;33m\u001b[0m\u001b[1;33m\u001b[0m\u001b[0m\n\u001b[0m\u001b[0;32m   3195\u001b[0m \u001b[1;33m\u001b[0m\u001b[0m\n\u001b[0;32m   3196\u001b[0m         \u001b[1;32mif\u001b[0m \u001b[0mlen\u001b[0m\u001b[1;33m(\u001b[0m\u001b[0mmapped\u001b[0m\u001b[1;33m)\u001b[0m \u001b[1;32mand\u001b[0m \u001b[0misinstance\u001b[0m\u001b[1;33m(\u001b[0m\u001b[0mmapped\u001b[0m\u001b[1;33m[\u001b[0m\u001b[1;36m0\u001b[0m\u001b[1;33m]\u001b[0m\u001b[1;33m,\u001b[0m \u001b[0mSeries\u001b[0m\u001b[1;33m)\u001b[0m\u001b[1;33m:\u001b[0m\u001b[1;33m\u001b[0m\u001b[1;33m\u001b[0m\u001b[0m\n",
      "\u001b[1;32mpandas/_libs/src\\inference.pyx\u001b[0m in \u001b[0;36mpandas._libs.lib.map_infer\u001b[1;34m()\u001b[0m\n",
      "\u001b[1;32m<ipython-input-258-29ee69eda2c0>\u001b[0m in \u001b[0;36m<lambda>\u001b[1;34m(x)\u001b[0m\n\u001b[0;32m      4\u001b[0m \u001b[1;31m# if you were to search \"South Padre Island, Texas\" you get a Table of Contents, but that's not what we searched\u001b[0m\u001b[1;33m\u001b[0m\u001b[1;33m\u001b[0m\u001b[1;33m\u001b[0m\u001b[0m\n\u001b[0;32m      5\u001b[0m \u001b[1;31m# let's continue applying our workflow to our new `table_of_contents` column\u001b[0m\u001b[1;33m\u001b[0m\u001b[1;33m\u001b[0m\u001b[1;33m\u001b[0m\u001b[0m\n\u001b[1;32m----> 6\u001b[1;33m \u001b[0mdf\u001b[0m\u001b[1;33m.\u001b[0m\u001b[0mtable_of_contents\u001b[0m\u001b[1;33m.\u001b[0m\u001b[0mapply\u001b[0m\u001b[1;33m(\u001b[0m\u001b[1;32mlambda\u001b[0m \u001b[0mx\u001b[0m \u001b[1;33m:\u001b[0m \u001b[0mx\u001b[0m\u001b[1;33m.\u001b[0m\u001b[0mul\u001b[0m\u001b[1;33m.\u001b[0m\u001b[0mfind_all\u001b[0m\u001b[1;33m(\u001b[0m\u001b[0mname\u001b[0m\u001b[1;33m=\u001b[0m\u001b[1;34m'li'\u001b[0m\u001b[1;33m)\u001b[0m\u001b[1;33m)\u001b[0m\u001b[1;33m\u001b[0m\u001b[1;33m\u001b[0m\u001b[0m\n\u001b[0m",
      "\u001b[1;31mAttributeError\u001b[0m: 'NoneType' object has no attribute 'ul'"
     ]
    }
   ],
   "source": [
    "# notice that value in the \"South Padre Island\" row is None\n",
    "# this should mean that the wiki page for South Padre Island has not Table of Contents\n",
    "# let's check and make sure that's true... it is\n",
    "# if you were to search \"South Padre Island, Texas\" you get a Table of Contents, but that's not what we searched\n",
    "# let's continue applying our workflow to our new `table_of_contents` column\n",
    "df.table_of_contents.apply(lambda x : x.ul.find_all(name='li'))"
   ]
  },
  {
   "cell_type": "code",
   "execution_count": 259,
   "metadata": {},
   "outputs": [],
   "source": [
    "# trying to look for \"ul\" returns an AttributeError\n",
    "# this is because \"South Padre Island\" doesn't have the attribute \"ul\" (because it doesn't have a \"toc\")\n",
    "# to get around this we can `.dropna` from \"table_of_contents\" before applying our function\n",
    "# do this, then store the results in a new column \"toc_ul_li\"\n",
    "df['toc_ul_li'] = df.table_of_contents.dropna().apply(lambda x : x.ul.find_all(name='li'))"
   ]
  },
  {
   "cell_type": "code",
   "execution_count": 260,
   "metadata": {},
   "outputs": [
    {
     "data": {
      "text/plain": [
       "Cancun                [<li class=\"toclevel-1 tocsection-1\"><a href=\"...\n",
       "Las Vegas             [<li class=\"toclevel-1 tocsection-1\"><a href=\"...\n",
       "Jamaica               [<li class=\"toclevel-1 tocsection-1\"><a href=\"...\n",
       "Miami                 [<li class=\"toclevel-1 tocsection-1\"><a href=\"...\n",
       "Dominican Republic    [<li class=\"toclevel-1 tocsection-1\"><a href=\"...\n",
       "South Padre Island                                                  NaN\n",
       "Puerto Vallarta       [<li class=\"toclevel-1 tocsection-1\"><a href=\"...\n",
       "Bahamas               [<li class=\"toclevel-1 tocsection-1\"><a href=\"...\n",
       "Name: toc_ul_li, dtype: object"
      ]
     },
     "execution_count": 260,
     "metadata": {},
     "output_type": "execute_result"
    }
   ],
   "source": [
    "# take a look at the column\n",
    "df.toc_ul_li"
   ]
  },
  {
   "cell_type": "code",
   "execution_count": 261,
   "metadata": {},
   "outputs": [],
   "source": [
    "# note that we now have lists for values in our toc_ul_li column\n",
    "# to apply our function on each item in the list we'll need to use list comprehension\n",
    "# also, don't forget to `.dropna` else risk an error\n",
    "# when you've figured it out, store as \"toc_text\"\n",
    "df['toc_text'] = df.toc_ul_li.dropna().apply(lambda x : [li.find(name='span', attrs={\n",
    "    'class' : 'toctext'\n",
    "}).text for li in x])"
   ]
  },
  {
   "cell_type": "code",
   "execution_count": 262,
   "metadata": {},
   "outputs": [
    {
     "data": {
      "text/plain": [
       "Cancun                [Etymology and coat of arms, History, City lay...\n",
       "Las Vegas             [History, Geography, Climate, Nearby communiti...\n",
       "Jamaica               [Etymology, History, Prehistory, Spanish rule ...\n",
       "Miami                 [History, Geography, Geology, Cityscape, Neigh...\n",
       "Dominican Republic    [Names and etymology, History, Pre-European hi...\n",
       "South Padre Island                                                  NaN\n",
       "Puerto Vallarta       [History, Pre-Hispanic times to the 19th centu...\n",
       "Bahamas               [Etymology, History, 18th–19th centuries, 20th...\n",
       "Name: toc_text, dtype: object"
      ]
     },
     "execution_count": 262,
     "metadata": {},
     "output_type": "execute_result"
    }
   ],
   "source": [
    "# look at the column \"toc_text\"\n",
    "df.toc_text"
   ]
  },
  {
   "cell_type": "code",
   "execution_count": 263,
   "metadata": {},
   "outputs": [
    {
     "data": {
      "text/plain": [
       "Index(['scraped', 'table_of_contents', 'toc_ul_li', 'toc_text'], dtype='object')"
      ]
     },
     "execution_count": 263,
     "metadata": {},
     "output_type": "execute_result"
    }
   ],
   "source": [
    "# we still have lists as our values... but at least they are lists of text and not html\n",
    "# before we continue any further let's drop some columns that we don't need anymore\n",
    "# first, list the columns\n",
    "df.columns"
   ]
  },
  {
   "cell_type": "code",
   "execution_count": 264,
   "metadata": {},
   "outputs": [],
   "source": [
    "# 'scraped' contains all the html for each row; it should be kept\n",
    "# 'table_of_contents' contains the original html for the toc; it can be dropped\n",
    "# 'toc_ul_li' contains a list of the html for each item in the toc; it can be dropped\n",
    "# 'toc_text' is what we were trying to get to; it should be kept and probably renamed to 'toc\n",
    "# drop the columns\n",
    "df.drop(columns=[\n",
    "    'table_of_contents',\n",
    "    'toc_ul_li'\n",
    "], inplace=True)"
   ]
  },
  {
   "cell_type": "code",
   "execution_count": 265,
   "metadata": {},
   "outputs": [],
   "source": [
    "# rename 'toc_text' to 'toc'\n",
    "df.rename(columns={\n",
    "    'toc_text' : 'toc'\n",
    "}, inplace=True)"
   ]
  },
  {
   "cell_type": "code",
   "execution_count": 266,
   "metadata": {},
   "outputs": [
    {
     "data": {
      "text/html": [
       "<div>\n",
       "<style scoped>\n",
       "    .dataframe tbody tr th:only-of-type {\n",
       "        vertical-align: middle;\n",
       "    }\n",
       "\n",
       "    .dataframe tbody tr th {\n",
       "        vertical-align: top;\n",
       "    }\n",
       "\n",
       "    .dataframe thead th {\n",
       "        text-align: right;\n",
       "    }\n",
       "</style>\n",
       "<table border=\"1\" class=\"dataframe\">\n",
       "  <thead>\n",
       "    <tr style=\"text-align: right;\">\n",
       "      <th></th>\n",
       "      <th>scraped</th>\n",
       "      <th>toc</th>\n",
       "    </tr>\n",
       "  </thead>\n",
       "  <tbody>\n",
       "    <tr>\n",
       "      <th>Cancun</th>\n",
       "      <td>&lt;html class=\"client-nojs\" dir=\"ltr\" lang=\"en\"&gt;...</td>\n",
       "      <td>[Etymology and coat of arms, History, City lay...</td>\n",
       "    </tr>\n",
       "    <tr>\n",
       "      <th>Las Vegas</th>\n",
       "      <td>&lt;html class=\"client-nojs\" dir=\"ltr\" lang=\"en\"&gt;...</td>\n",
       "      <td>[History, Geography, Climate, Nearby communiti...</td>\n",
       "    </tr>\n",
       "    <tr>\n",
       "      <th>Jamaica</th>\n",
       "      <td>&lt;html class=\"client-nojs\" dir=\"ltr\" lang=\"en\"&gt;...</td>\n",
       "      <td>[Etymology, History, Prehistory, Spanish rule ...</td>\n",
       "    </tr>\n",
       "    <tr>\n",
       "      <th>Miami</th>\n",
       "      <td>&lt;html class=\"client-nojs\" dir=\"ltr\" lang=\"en\"&gt;...</td>\n",
       "      <td>[History, Geography, Geology, Cityscape, Neigh...</td>\n",
       "    </tr>\n",
       "    <tr>\n",
       "      <th>Dominican Republic</th>\n",
       "      <td>&lt;html class=\"client-nojs\" dir=\"ltr\" lang=\"en\"&gt;...</td>\n",
       "      <td>[Names and etymology, History, Pre-European hi...</td>\n",
       "    </tr>\n",
       "  </tbody>\n",
       "</table>\n",
       "</div>"
      ],
      "text/plain": [
       "                                                              scraped  \\\n",
       "Cancun              <html class=\"client-nojs\" dir=\"ltr\" lang=\"en\">...   \n",
       "Las Vegas           <html class=\"client-nojs\" dir=\"ltr\" lang=\"en\">...   \n",
       "Jamaica             <html class=\"client-nojs\" dir=\"ltr\" lang=\"en\">...   \n",
       "Miami               <html class=\"client-nojs\" dir=\"ltr\" lang=\"en\">...   \n",
       "Dominican Republic  <html class=\"client-nojs\" dir=\"ltr\" lang=\"en\">...   \n",
       "\n",
       "                                                                  toc  \n",
       "Cancun              [Etymology and coat of arms, History, City lay...  \n",
       "Las Vegas           [History, Geography, Climate, Nearby communiti...  \n",
       "Jamaica             [Etymology, History, Prehistory, Spanish rule ...  \n",
       "Miami               [History, Geography, Geology, Cityscape, Neigh...  \n",
       "Dominican Republic  [Names and etymology, History, Pre-European hi...  "
      ]
     },
     "execution_count": 266,
     "metadata": {},
     "output_type": "execute_result"
    }
   ],
   "source": [
    "# let's look at what df looks like now\n",
    "df.head()"
   ]
  },
  {
   "cell_type": "code",
   "execution_count": 267,
   "metadata": {},
   "outputs": [
    {
     "data": {
      "text/plain": [
       "Cancun                17.0\n",
       "Las Vegas             36.0\n",
       "Jamaica               43.0\n",
       "Miami                 39.0\n",
       "Dominican Republic    56.0\n",
       "South Padre Island     NaN\n",
       "Puerto Vallarta       46.0\n",
       "Bahamas               35.0\n",
       "Name: toc, dtype: float64"
      ]
     },
     "execution_count": 267,
     "metadata": {},
     "output_type": "execute_result"
    }
   ],
   "source": [
    "# nice and clean\n",
    "# let's get some general information about each row from our toc column, like how many items are in each\n",
    "# to do this we'll look at the toc column only, and then find the `len`gth of the list in each row\n",
    "df.toc.str.len()"
   ]
  },
  {
   "cell_type": "code",
   "execution_count": 268,
   "metadata": {},
   "outputs": [
    {
     "data": {
      "image/png": "[encoded data removed]",
      "text/plain": [
       "<Figure size 432x288 with 1 Axes>"
      ]
     },
     "metadata": {
      "needs_background": "light"
     },
     "output_type": "display_data"
    }
   ],
   "source": [
    "# all the toc's lengths look different\n",
    "# let's visualize this in a bar graph\n",
    "\n",
    "%matplotlib inline\n",
    "\n",
    "df.toc.str.len().plot.bar();"
   ]
  },
  {
   "cell_type": "code",
   "execution_count": 269,
   "metadata": {},
   "outputs": [
    {
     "data": {
      "image/png": "[encoded data removed]",
      "text/plain": [
       "<Figure size 432x288 with 1 Axes>"
      ]
     },
     "metadata": {
      "needs_background": "light"
     },
     "output_type": "display_data"
    }
   ],
   "source": [
    "# the bar plot makes it easy to compare the toc lengths amongst the locations\n",
    "# however, it's still hard to see the ascending/descending length order\n",
    "# let's sort the values and then graph again\n",
    "df.toc.str.len().sort_values().plot.bar();"
   ]
  },
  {
   "cell_type": "code",
   "execution_count": 270,
   "metadata": {},
   "outputs": [
    {
     "data": {
      "image/png": "[encoded data removed]",
      "text/plain": [
       "<Figure size 432x288 with 1 Axes>"
      ]
     },
     "metadata": {
      "needs_background": "light"
     },
     "output_type": "display_data"
    }
   ],
   "source": [
    "# notice that \"South Padre Island\" is at the far right rather than the left\n",
    "# this is because the value is `NaN` rather than 0. If it was 0 then it would be on the far left\n",
    "# suppose you wanted to graph the values in descending order rather than ascending\n",
    "# `.sort_values` accepts the parameter `ascending` where the default value is `True`\n",
    "# switch it to `False` and watch the graph reverse\n",
    "df.toc.str.len().sort_values(ascending=False).plot.bar();"
   ]
  },
  {
   "cell_type": "code",
   "execution_count": 271,
   "metadata": {},
   "outputs": [
    {
     "data": {
      "text/html": [
       "<div>\n",
       "<style scoped>\n",
       "    .dataframe tbody tr th:only-of-type {\n",
       "        vertical-align: middle;\n",
       "    }\n",
       "\n",
       "    .dataframe tbody tr th {\n",
       "        vertical-align: top;\n",
       "    }\n",
       "\n",
       "    .dataframe thead th {\n",
       "        text-align: right;\n",
       "    }\n",
       "</style>\n",
       "<table border=\"1\" class=\"dataframe\">\n",
       "  <thead>\n",
       "    <tr style=\"text-align: right;\">\n",
       "      <th></th>\n",
       "      <th>0</th>\n",
       "      <th>1</th>\n",
       "      <th>2</th>\n",
       "      <th>3</th>\n",
       "      <th>4</th>\n",
       "      <th>5</th>\n",
       "      <th>6</th>\n",
       "      <th>7</th>\n",
       "      <th>8</th>\n",
       "      <th>9</th>\n",
       "      <th>...</th>\n",
       "      <th>46</th>\n",
       "      <th>47</th>\n",
       "      <th>48</th>\n",
       "      <th>49</th>\n",
       "      <th>50</th>\n",
       "      <th>51</th>\n",
       "      <th>52</th>\n",
       "      <th>53</th>\n",
       "      <th>54</th>\n",
       "      <th>55</th>\n",
       "    </tr>\n",
       "  </thead>\n",
       "  <tbody>\n",
       "    <tr>\n",
       "      <th>Cancun</th>\n",
       "      <td>Etymology and coat of arms</td>\n",
       "      <td>History</td>\n",
       "      <td>City layout</td>\n",
       "      <td>Cancún Airport's old Control Tower Memorial</td>\n",
       "      <td>Maya archaeological sites</td>\n",
       "      <td>Transportation</td>\n",
       "      <td>Climate</td>\n",
       "      <td>Hurricane Gilbert</td>\n",
       "      <td>Hurricane Wilma</td>\n",
       "      <td>Hurricane Dean</td>\n",
       "      <td>...</td>\n",
       "      <td>NaN</td>\n",
       "      <td>NaN</td>\n",
       "      <td>NaN</td>\n",
       "      <td>NaN</td>\n",
       "      <td>NaN</td>\n",
       "      <td>NaN</td>\n",
       "      <td>NaN</td>\n",
       "      <td>NaN</td>\n",
       "      <td>NaN</td>\n",
       "      <td>NaN</td>\n",
       "    </tr>\n",
       "    <tr>\n",
       "      <th>Las Vegas</th>\n",
       "      <td>History</td>\n",
       "      <td>Geography</td>\n",
       "      <td>Climate</td>\n",
       "      <td>Nearby communities</td>\n",
       "      <td>Neighborhoods</td>\n",
       "      <td>Demographics</td>\n",
       "      <td>Economy</td>\n",
       "      <td>Tourism</td>\n",
       "      <td>Downtown casinos</td>\n",
       "      <td>Las Vegas Strip</td>\n",
       "      <td>...</td>\n",
       "      <td>NaN</td>\n",
       "      <td>NaN</td>\n",
       "      <td>NaN</td>\n",
       "      <td>NaN</td>\n",
       "      <td>NaN</td>\n",
       "      <td>NaN</td>\n",
       "      <td>NaN</td>\n",
       "      <td>NaN</td>\n",
       "      <td>NaN</td>\n",
       "      <td>NaN</td>\n",
       "    </tr>\n",
       "    <tr>\n",
       "      <th>Jamaica</th>\n",
       "      <td>Etymology</td>\n",
       "      <td>History</td>\n",
       "      <td>Prehistory</td>\n",
       "      <td>Spanish rule (1509–1655)</td>\n",
       "      <td>British rule (1655–1962)</td>\n",
       "      <td>Independence (1962)</td>\n",
       "      <td>Government and politics</td>\n",
       "      <td>Political parties and elections</td>\n",
       "      <td>Administrative divisions</td>\n",
       "      <td>Military</td>\n",
       "      <td>...</td>\n",
       "      <td>NaN</td>\n",
       "      <td>NaN</td>\n",
       "      <td>NaN</td>\n",
       "      <td>NaN</td>\n",
       "      <td>NaN</td>\n",
       "      <td>NaN</td>\n",
       "      <td>NaN</td>\n",
       "      <td>NaN</td>\n",
       "      <td>NaN</td>\n",
       "      <td>NaN</td>\n",
       "    </tr>\n",
       "    <tr>\n",
       "      <th>Miami</th>\n",
       "      <td>History</td>\n",
       "      <td>Geography</td>\n",
       "      <td>Geology</td>\n",
       "      <td>Cityscape</td>\n",
       "      <td>Neighborhoods</td>\n",
       "      <td>Climate</td>\n",
       "      <td>Demographics</td>\n",
       "      <td>Race, ethnicity, religion, and languages</td>\n",
       "      <td>Education, households, and income</td>\n",
       "      <td>Civic engagement</td>\n",
       "      <td>...</td>\n",
       "      <td>NaN</td>\n",
       "      <td>NaN</td>\n",
       "      <td>NaN</td>\n",
       "      <td>NaN</td>\n",
       "      <td>NaN</td>\n",
       "      <td>NaN</td>\n",
       "      <td>NaN</td>\n",
       "      <td>NaN</td>\n",
       "      <td>NaN</td>\n",
       "      <td>NaN</td>\n",
       "    </tr>\n",
       "    <tr>\n",
       "      <th>Dominican Republic</th>\n",
       "      <td>Names and etymology</td>\n",
       "      <td>History</td>\n",
       "      <td>Pre-European history</td>\n",
       "      <td>European colonization</td>\n",
       "      <td>18th century</td>\n",
       "      <td>French rule</td>\n",
       "      <td>Independence from Spain (1821)</td>\n",
       "      <td>Unification of Hispaniola (1822–44)</td>\n",
       "      <td>Independence from Haiti (1844)</td>\n",
       "      <td>First Republic</td>\n",
       "      <td>...</td>\n",
       "      <td>Cuisine</td>\n",
       "      <td>Music and dance</td>\n",
       "      <td>Fashion</td>\n",
       "      <td>National symbols</td>\n",
       "      <td>Sports</td>\n",
       "      <td>See also</td>\n",
       "      <td>Notes and references</td>\n",
       "      <td>Bibliography</td>\n",
       "      <td>Further reading</td>\n",
       "      <td>External links</td>\n",
       "    </tr>\n",
       "    <tr>\n",
       "      <th>South Padre Island</th>\n",
       "      <td>NaN</td>\n",
       "      <td>NaN</td>\n",
       "      <td>NaN</td>\n",
       "      <td>NaN</td>\n",
       "      <td>NaN</td>\n",
       "      <td>NaN</td>\n",
       "      <td>NaN</td>\n",
       "      <td>NaN</td>\n",
       "      <td>NaN</td>\n",
       "      <td>NaN</td>\n",
       "      <td>...</td>\n",
       "      <td>NaN</td>\n",
       "      <td>NaN</td>\n",
       "      <td>NaN</td>\n",
       "      <td>NaN</td>\n",
       "      <td>NaN</td>\n",
       "      <td>NaN</td>\n",
       "      <td>NaN</td>\n",
       "      <td>NaN</td>\n",
       "      <td>NaN</td>\n",
       "      <td>NaN</td>\n",
       "    </tr>\n",
       "    <tr>\n",
       "      <th>Puerto Vallarta</th>\n",
       "      <td>History</td>\n",
       "      <td>Pre-Hispanic times to the 19th century</td>\n",
       "      <td>El Carrizal and Las Peñas - 19th century</td>\n",
       "      <td>The early municipality - early 20th century</td>\n",
       "      <td>The modern resort - 1960s to the present</td>\n",
       "      <td>Climate</td>\n",
       "      <td>Hurricane Patricia</td>\n",
       "      <td>Geography, geology and ecology</td>\n",
       "      <td>Geographical characteristics</td>\n",
       "      <td>Seismic history</td>\n",
       "      <td>...</td>\n",
       "      <td>NaN</td>\n",
       "      <td>NaN</td>\n",
       "      <td>NaN</td>\n",
       "      <td>NaN</td>\n",
       "      <td>NaN</td>\n",
       "      <td>NaN</td>\n",
       "      <td>NaN</td>\n",
       "      <td>NaN</td>\n",
       "      <td>NaN</td>\n",
       "      <td>NaN</td>\n",
       "    </tr>\n",
       "    <tr>\n",
       "      <th>Bahamas</th>\n",
       "      <td>Etymology</td>\n",
       "      <td>History</td>\n",
       "      <td>18th–19th centuries</td>\n",
       "      <td>20th century</td>\n",
       "      <td>Post-Second World War</td>\n",
       "      <td>Geography</td>\n",
       "      <td>Castaway Cay</td>\n",
       "      <td>Climate</td>\n",
       "      <td>Geology</td>\n",
       "      <td>Government and politics</td>\n",
       "      <td>...</td>\n",
       "      <td>NaN</td>\n",
       "      <td>NaN</td>\n",
       "      <td>NaN</td>\n",
       "      <td>NaN</td>\n",
       "      <td>NaN</td>\n",
       "      <td>NaN</td>\n",
       "      <td>NaN</td>\n",
       "      <td>NaN</td>\n",
       "      <td>NaN</td>\n",
       "      <td>NaN</td>\n",
       "    </tr>\n",
       "  </tbody>\n",
       "</table>\n",
       "<p>8 rows × 56 columns</p>\n",
       "</div>"
      ],
      "text/plain": [
       "                                            0   \\\n",
       "Cancun              Etymology and coat of arms   \n",
       "Las Vegas                              History   \n",
       "Jamaica                              Etymology   \n",
       "Miami                                  History   \n",
       "Dominican Republic         Names and etymology   \n",
       "South Padre Island                         NaN   \n",
       "Puerto Vallarta                        History   \n",
       "Bahamas                              Etymology   \n",
       "\n",
       "                                                        1   \\\n",
       "Cancun                                             History   \n",
       "Las Vegas                                        Geography   \n",
       "Jamaica                                            History   \n",
       "Miami                                            Geography   \n",
       "Dominican Republic                                 History   \n",
       "South Padre Island                                     NaN   \n",
       "Puerto Vallarta     Pre-Hispanic times to the 19th century   \n",
       "Bahamas                                            History   \n",
       "\n",
       "                                                          2   \\\n",
       "Cancun                                           City layout   \n",
       "Las Vegas                                            Climate   \n",
       "Jamaica                                           Prehistory   \n",
       "Miami                                                Geology   \n",
       "Dominican Republic                      Pre-European history   \n",
       "South Padre Island                                       NaN   \n",
       "Puerto Vallarta     El Carrizal and Las Peñas - 19th century   \n",
       "Bahamas                                  18th–19th centuries   \n",
       "\n",
       "                                                             3   \\\n",
       "Cancun              Cancún Airport's old Control Tower Memorial   \n",
       "Las Vegas                                    Nearby communities   \n",
       "Jamaica                                Spanish rule (1509–1655)   \n",
       "Miami                                                 Cityscape   \n",
       "Dominican Republic                        European colonization   \n",
       "South Padre Island                                          NaN   \n",
       "Puerto Vallarta     The early municipality - early 20th century   \n",
       "Bahamas                                            20th century   \n",
       "\n",
       "                                                          4   \\\n",
       "Cancun                             Maya archaeological sites   \n",
       "Las Vegas                                      Neighborhoods   \n",
       "Jamaica                             British rule (1655–1962)   \n",
       "Miami                                          Neighborhoods   \n",
       "Dominican Republic                              18th century   \n",
       "South Padre Island                                       NaN   \n",
       "Puerto Vallarta     The modern resort - 1960s to the present   \n",
       "Bahamas                                Post-Second World War   \n",
       "\n",
       "                                     5                               6   \\\n",
       "Cancun                   Transportation                         Climate   \n",
       "Las Vegas                  Demographics                         Economy   \n",
       "Jamaica             Independence (1962)         Government and politics   \n",
       "Miami                           Climate                    Demographics   \n",
       "Dominican Republic          French rule  Independence from Spain (1821)   \n",
       "South Padre Island                  NaN                             NaN   \n",
       "Puerto Vallarta                 Climate              Hurricane Patricia   \n",
       "Bahamas                       Geography                    Castaway Cay   \n",
       "\n",
       "                                                          7   \\\n",
       "Cancun                                     Hurricane Gilbert   \n",
       "Las Vegas                                            Tourism   \n",
       "Jamaica                      Political parties and elections   \n",
       "Miami               Race, ethnicity, religion, and languages   \n",
       "Dominican Republic       Unification of Hispaniola (1822–44)   \n",
       "South Padre Island                                       NaN   \n",
       "Puerto Vallarta               Geography, geology and ecology   \n",
       "Bahamas                                              Climate   \n",
       "\n",
       "                                                   8   \\\n",
       "Cancun                                Hurricane Wilma   \n",
       "Las Vegas                            Downtown casinos   \n",
       "Jamaica                      Administrative divisions   \n",
       "Miami               Education, households, and income   \n",
       "Dominican Republic     Independence from Haiti (1844)   \n",
       "South Padre Island                                NaN   \n",
       "Puerto Vallarta          Geographical characteristics   \n",
       "Bahamas                                       Geology   \n",
       "\n",
       "                                         9        ...             46  \\\n",
       "Cancun                       Hurricane Dean       ...            NaN   \n",
       "Las Vegas                   Las Vegas Strip       ...            NaN   \n",
       "Jamaica                            Military       ...            NaN   \n",
       "Miami                      Civic engagement       ...            NaN   \n",
       "Dominican Republic           First Republic       ...        Cuisine   \n",
       "South Padre Island                      NaN       ...            NaN   \n",
       "Puerto Vallarta             Seismic history       ...            NaN   \n",
       "Bahamas             Government and politics       ...            NaN   \n",
       "\n",
       "                                 47       48                49      50  \\\n",
       "Cancun                          NaN      NaN               NaN     NaN   \n",
       "Las Vegas                       NaN      NaN               NaN     NaN   \n",
       "Jamaica                         NaN      NaN               NaN     NaN   \n",
       "Miami                           NaN      NaN               NaN     NaN   \n",
       "Dominican Republic  Music and dance  Fashion  National symbols  Sports   \n",
       "South Padre Island              NaN      NaN               NaN     NaN   \n",
       "Puerto Vallarta                 NaN      NaN               NaN     NaN   \n",
       "Bahamas                         NaN      NaN               NaN     NaN   \n",
       "\n",
       "                          51                    52            53  \\\n",
       "Cancun                   NaN                   NaN           NaN   \n",
       "Las Vegas                NaN                   NaN           NaN   \n",
       "Jamaica                  NaN                   NaN           NaN   \n",
       "Miami                    NaN                   NaN           NaN   \n",
       "Dominican Republic  See also  Notes and references  Bibliography   \n",
       "South Padre Island       NaN                   NaN           NaN   \n",
       "Puerto Vallarta          NaN                   NaN           NaN   \n",
       "Bahamas                  NaN                   NaN           NaN   \n",
       "\n",
       "                                 54              55  \n",
       "Cancun                          NaN             NaN  \n",
       "Las Vegas                       NaN             NaN  \n",
       "Jamaica                         NaN             NaN  \n",
       "Miami                           NaN             NaN  \n",
       "Dominican Republic  Further reading  External links  \n",
       "South Padre Island              NaN             NaN  \n",
       "Puerto Vallarta                 NaN             NaN  \n",
       "Bahamas                         NaN             NaN  \n",
       "\n",
       "[8 rows x 56 columns]"
      ]
     },
     "execution_count": 271,
     "metadata": {},
     "output_type": "execute_result"
    }
   ],
   "source": [
    "# notice that \"South Padre Island\" was placed on the far right again\n",
    "# `.sort_values` does this by default with the parameter `na_position` which is set to \"last\" by default\n",
    "# suppose we want a row for each toc item with respect to location\n",
    "# to do this we can apply the function `pd.Series` to the column and watch the values explode into columns\n",
    "df.toc.apply(pd.Series)"
   ]
  },
  {
   "cell_type": "code",
   "execution_count": 272,
   "metadata": {},
   "outputs": [],
   "source": [
    "# store this as toc_explode so we can work with it separate from df\n",
    "toc_explode = df.toc.apply(pd.Series)"
   ]
  },
  {
   "cell_type": "code",
   "execution_count": 273,
   "metadata": {},
   "outputs": [
    {
     "data": {
      "text/plain": [
       "RangeIndex(start=0, stop=56, step=1)"
      ]
     },
     "execution_count": 273,
     "metadata": {},
     "output_type": "execute_result"
    }
   ],
   "source": [
    "# check out the columns\n",
    "toc_explode.columns"
   ]
  },
  {
   "cell_type": "code",
   "execution_count": 274,
   "metadata": {
    "scrolled": true
   },
   "outputs": [
    {
     "data": {
      "text/html": [
       "<div>\n",
       "<style scoped>\n",
       "    .dataframe tbody tr th:only-of-type {\n",
       "        vertical-align: middle;\n",
       "    }\n",
       "\n",
       "    .dataframe tbody tr th {\n",
       "        vertical-align: top;\n",
       "    }\n",
       "\n",
       "    .dataframe thead th {\n",
       "        text-align: right;\n",
       "    }\n",
       "</style>\n",
       "<table border=\"1\" class=\"dataframe\">\n",
       "  <thead>\n",
       "    <tr style=\"text-align: right;\">\n",
       "      <th></th>\n",
       "      <th>variable</th>\n",
       "      <th>value</th>\n",
       "    </tr>\n",
       "  </thead>\n",
       "  <tbody>\n",
       "    <tr>\n",
       "      <th>0</th>\n",
       "      <td>0</td>\n",
       "      <td>Etymology and coat of arms</td>\n",
       "    </tr>\n",
       "    <tr>\n",
       "      <th>1</th>\n",
       "      <td>0</td>\n",
       "      <td>History</td>\n",
       "    </tr>\n",
       "    <tr>\n",
       "      <th>2</th>\n",
       "      <td>0</td>\n",
       "      <td>Etymology</td>\n",
       "    </tr>\n",
       "    <tr>\n",
       "      <th>3</th>\n",
       "      <td>0</td>\n",
       "      <td>History</td>\n",
       "    </tr>\n",
       "    <tr>\n",
       "      <th>4</th>\n",
       "      <td>0</td>\n",
       "      <td>Names and etymology</td>\n",
       "    </tr>\n",
       "    <tr>\n",
       "      <th>5</th>\n",
       "      <td>0</td>\n",
       "      <td>NaN</td>\n",
       "    </tr>\n",
       "    <tr>\n",
       "      <th>6</th>\n",
       "      <td>0</td>\n",
       "      <td>History</td>\n",
       "    </tr>\n",
       "    <tr>\n",
       "      <th>7</th>\n",
       "      <td>0</td>\n",
       "      <td>Etymology</td>\n",
       "    </tr>\n",
       "    <tr>\n",
       "      <th>8</th>\n",
       "      <td>1</td>\n",
       "      <td>History</td>\n",
       "    </tr>\n",
       "    <tr>\n",
       "      <th>9</th>\n",
       "      <td>1</td>\n",
       "      <td>Geography</td>\n",
       "    </tr>\n",
       "    <tr>\n",
       "      <th>10</th>\n",
       "      <td>1</td>\n",
       "      <td>History</td>\n",
       "    </tr>\n",
       "    <tr>\n",
       "      <th>11</th>\n",
       "      <td>1</td>\n",
       "      <td>Geography</td>\n",
       "    </tr>\n",
       "    <tr>\n",
       "      <th>12</th>\n",
       "      <td>1</td>\n",
       "      <td>History</td>\n",
       "    </tr>\n",
       "    <tr>\n",
       "      <th>13</th>\n",
       "      <td>1</td>\n",
       "      <td>NaN</td>\n",
       "    </tr>\n",
       "    <tr>\n",
       "      <th>14</th>\n",
       "      <td>1</td>\n",
       "      <td>Pre-Hispanic times to the 19th century</td>\n",
       "    </tr>\n",
       "    <tr>\n",
       "      <th>15</th>\n",
       "      <td>1</td>\n",
       "      <td>History</td>\n",
       "    </tr>\n",
       "    <tr>\n",
       "      <th>16</th>\n",
       "      <td>2</td>\n",
       "      <td>City layout</td>\n",
       "    </tr>\n",
       "    <tr>\n",
       "      <th>17</th>\n",
       "      <td>2</td>\n",
       "      <td>Climate</td>\n",
       "    </tr>\n",
       "    <tr>\n",
       "      <th>18</th>\n",
       "      <td>2</td>\n",
       "      <td>Prehistory</td>\n",
       "    </tr>\n",
       "    <tr>\n",
       "      <th>19</th>\n",
       "      <td>2</td>\n",
       "      <td>Geology</td>\n",
       "    </tr>\n",
       "    <tr>\n",
       "      <th>20</th>\n",
       "      <td>2</td>\n",
       "      <td>Pre-European history</td>\n",
       "    </tr>\n",
       "    <tr>\n",
       "      <th>21</th>\n",
       "      <td>2</td>\n",
       "      <td>NaN</td>\n",
       "    </tr>\n",
       "    <tr>\n",
       "      <th>22</th>\n",
       "      <td>2</td>\n",
       "      <td>El Carrizal and Las Peñas - 19th century</td>\n",
       "    </tr>\n",
       "    <tr>\n",
       "      <th>23</th>\n",
       "      <td>2</td>\n",
       "      <td>18th–19th centuries</td>\n",
       "    </tr>\n",
       "    <tr>\n",
       "      <th>24</th>\n",
       "      <td>3</td>\n",
       "      <td>Cancún Airport's old Control Tower Memorial</td>\n",
       "    </tr>\n",
       "    <tr>\n",
       "      <th>25</th>\n",
       "      <td>3</td>\n",
       "      <td>Nearby communities</td>\n",
       "    </tr>\n",
       "    <tr>\n",
       "      <th>26</th>\n",
       "      <td>3</td>\n",
       "      <td>Spanish rule (1509–1655)</td>\n",
       "    </tr>\n",
       "    <tr>\n",
       "      <th>27</th>\n",
       "      <td>3</td>\n",
       "      <td>Cityscape</td>\n",
       "    </tr>\n",
       "    <tr>\n",
       "      <th>28</th>\n",
       "      <td>3</td>\n",
       "      <td>European colonization</td>\n",
       "    </tr>\n",
       "    <tr>\n",
       "      <th>29</th>\n",
       "      <td>3</td>\n",
       "      <td>NaN</td>\n",
       "    </tr>\n",
       "    <tr>\n",
       "      <th>...</th>\n",
       "      <td>...</td>\n",
       "      <td>...</td>\n",
       "    </tr>\n",
       "    <tr>\n",
       "      <th>418</th>\n",
       "      <td>52</td>\n",
       "      <td>NaN</td>\n",
       "    </tr>\n",
       "    <tr>\n",
       "      <th>419</th>\n",
       "      <td>52</td>\n",
       "      <td>NaN</td>\n",
       "    </tr>\n",
       "    <tr>\n",
       "      <th>420</th>\n",
       "      <td>52</td>\n",
       "      <td>Notes and references</td>\n",
       "    </tr>\n",
       "    <tr>\n",
       "      <th>421</th>\n",
       "      <td>52</td>\n",
       "      <td>NaN</td>\n",
       "    </tr>\n",
       "    <tr>\n",
       "      <th>422</th>\n",
       "      <td>52</td>\n",
       "      <td>NaN</td>\n",
       "    </tr>\n",
       "    <tr>\n",
       "      <th>423</th>\n",
       "      <td>52</td>\n",
       "      <td>NaN</td>\n",
       "    </tr>\n",
       "    <tr>\n",
       "      <th>424</th>\n",
       "      <td>53</td>\n",
       "      <td>NaN</td>\n",
       "    </tr>\n",
       "    <tr>\n",
       "      <th>425</th>\n",
       "      <td>53</td>\n",
       "      <td>NaN</td>\n",
       "    </tr>\n",
       "    <tr>\n",
       "      <th>426</th>\n",
       "      <td>53</td>\n",
       "      <td>NaN</td>\n",
       "    </tr>\n",
       "    <tr>\n",
       "      <th>427</th>\n",
       "      <td>53</td>\n",
       "      <td>NaN</td>\n",
       "    </tr>\n",
       "    <tr>\n",
       "      <th>428</th>\n",
       "      <td>53</td>\n",
       "      <td>Bibliography</td>\n",
       "    </tr>\n",
       "    <tr>\n",
       "      <th>429</th>\n",
       "      <td>53</td>\n",
       "      <td>NaN</td>\n",
       "    </tr>\n",
       "    <tr>\n",
       "      <th>430</th>\n",
       "      <td>53</td>\n",
       "      <td>NaN</td>\n",
       "    </tr>\n",
       "    <tr>\n",
       "      <th>431</th>\n",
       "      <td>53</td>\n",
       "      <td>NaN</td>\n",
       "    </tr>\n",
       "    <tr>\n",
       "      <th>432</th>\n",
       "      <td>54</td>\n",
       "      <td>NaN</td>\n",
       "    </tr>\n",
       "    <tr>\n",
       "      <th>433</th>\n",
       "      <td>54</td>\n",
       "      <td>NaN</td>\n",
       "    </tr>\n",
       "    <tr>\n",
       "      <th>434</th>\n",
       "      <td>54</td>\n",
       "      <td>NaN</td>\n",
       "    </tr>\n",
       "    <tr>\n",
       "      <th>435</th>\n",
       "      <td>54</td>\n",
       "      <td>NaN</td>\n",
       "    </tr>\n",
       "    <tr>\n",
       "      <th>436</th>\n",
       "      <td>54</td>\n",
       "      <td>Further reading</td>\n",
       "    </tr>\n",
       "    <tr>\n",
       "      <th>437</th>\n",
       "      <td>54</td>\n",
       "      <td>NaN</td>\n",
       "    </tr>\n",
       "    <tr>\n",
       "      <th>438</th>\n",
       "      <td>54</td>\n",
       "      <td>NaN</td>\n",
       "    </tr>\n",
       "    <tr>\n",
       "      <th>439</th>\n",
       "      <td>54</td>\n",
       "      <td>NaN</td>\n",
       "    </tr>\n",
       "    <tr>\n",
       "      <th>440</th>\n",
       "      <td>55</td>\n",
       "      <td>NaN</td>\n",
       "    </tr>\n",
       "    <tr>\n",
       "      <th>441</th>\n",
       "      <td>55</td>\n",
       "      <td>NaN</td>\n",
       "    </tr>\n",
       "    <tr>\n",
       "      <th>442</th>\n",
       "      <td>55</td>\n",
       "      <td>NaN</td>\n",
       "    </tr>\n",
       "    <tr>\n",
       "      <th>443</th>\n",
       "      <td>55</td>\n",
       "      <td>NaN</td>\n",
       "    </tr>\n",
       "    <tr>\n",
       "      <th>444</th>\n",
       "      <td>55</td>\n",
       "      <td>External links</td>\n",
       "    </tr>\n",
       "    <tr>\n",
       "      <th>445</th>\n",
       "      <td>55</td>\n",
       "      <td>NaN</td>\n",
       "    </tr>\n",
       "    <tr>\n",
       "      <th>446</th>\n",
       "      <td>55</td>\n",
       "      <td>NaN</td>\n",
       "    </tr>\n",
       "    <tr>\n",
       "      <th>447</th>\n",
       "      <td>55</td>\n",
       "      <td>NaN</td>\n",
       "    </tr>\n",
       "  </tbody>\n",
       "</table>\n",
       "<p>448 rows × 2 columns</p>\n",
       "</div>"
      ],
      "text/plain": [
       "     variable                                        value\n",
       "0           0                   Etymology and coat of arms\n",
       "1           0                                      History\n",
       "2           0                                    Etymology\n",
       "3           0                                      History\n",
       "4           0                          Names and etymology\n",
       "5           0                                          NaN\n",
       "6           0                                      History\n",
       "7           0                                    Etymology\n",
       "8           1                                      History\n",
       "9           1                                    Geography\n",
       "10          1                                      History\n",
       "11          1                                    Geography\n",
       "12          1                                      History\n",
       "13          1                                          NaN\n",
       "14          1       Pre-Hispanic times to the 19th century\n",
       "15          1                                      History\n",
       "16          2                                  City layout\n",
       "17          2                                      Climate\n",
       "18          2                                   Prehistory\n",
       "19          2                                      Geology\n",
       "20          2                         Pre-European history\n",
       "21          2                                          NaN\n",
       "22          2     El Carrizal and Las Peñas - 19th century\n",
       "23          2                          18th–19th centuries\n",
       "24          3  Cancún Airport's old Control Tower Memorial\n",
       "25          3                           Nearby communities\n",
       "26          3                     Spanish rule (1509–1655)\n",
       "27          3                                    Cityscape\n",
       "28          3                        European colonization\n",
       "29          3                                          NaN\n",
       "..        ...                                          ...\n",
       "418        52                                          NaN\n",
       "419        52                                          NaN\n",
       "420        52                         Notes and references\n",
       "421        52                                          NaN\n",
       "422        52                                          NaN\n",
       "423        52                                          NaN\n",
       "424        53                                          NaN\n",
       "425        53                                          NaN\n",
       "426        53                                          NaN\n",
       "427        53                                          NaN\n",
       "428        53                                 Bibliography\n",
       "429        53                                          NaN\n",
       "430        53                                          NaN\n",
       "431        53                                          NaN\n",
       "432        54                                          NaN\n",
       "433        54                                          NaN\n",
       "434        54                                          NaN\n",
       "435        54                                          NaN\n",
       "436        54                              Further reading\n",
       "437        54                                          NaN\n",
       "438        54                                          NaN\n",
       "439        54                                          NaN\n",
       "440        55                                          NaN\n",
       "441        55                                          NaN\n",
       "442        55                                          NaN\n",
       "443        55                                          NaN\n",
       "444        55                               External links\n",
       "445        55                                          NaN\n",
       "446        55                                          NaN\n",
       "447        55                                          NaN\n",
       "\n",
       "[448 rows x 2 columns]"
      ]
     },
     "execution_count": 274,
     "metadata": {},
     "output_type": "execute_result"
    }
   ],
   "source": [
    "# there are 56 of them (range between 0 and 56, inclusive)\n",
    "# looking at the bar plot (or table) above we can see the Dominican Republic has 57 items in its toc\n",
    "# since it is the largest, that was the number of columns made\n",
    "# if a location doesn't have that many, it fills in as many columns as it can with its values, and NaN for the rest\n",
    "# the issue with this is we want rows, not columns\n",
    "# we also want to keep our locations in the index\n",
    "# to do this manipulation we'll have to `melt` our dataframe\n",
    "toc_explode.melt()"
   ]
  },
  {
   "cell_type": "code",
   "execution_count": 275,
   "metadata": {},
   "outputs": [],
   "source": [
    "# simply performing the `melt` causes us to lose information (*hint, hint, the index*)\n",
    "# to keep the index, we'll reset it to a column first\n",
    "toc_explode.reset_index(inplace=True)"
   ]
  },
  {
   "cell_type": "code",
   "execution_count": 276,
   "metadata": {},
   "outputs": [
    {
     "data": {
      "text/html": [
       "<div>\n",
       "<style scoped>\n",
       "    .dataframe tbody tr th:only-of-type {\n",
       "        vertical-align: middle;\n",
       "    }\n",
       "\n",
       "    .dataframe tbody tr th {\n",
       "        vertical-align: top;\n",
       "    }\n",
       "\n",
       "    .dataframe thead th {\n",
       "        text-align: right;\n",
       "    }\n",
       "</style>\n",
       "<table border=\"1\" class=\"dataframe\">\n",
       "  <thead>\n",
       "    <tr style=\"text-align: right;\">\n",
       "      <th></th>\n",
       "      <th>index</th>\n",
       "      <th>0</th>\n",
       "      <th>1</th>\n",
       "      <th>2</th>\n",
       "      <th>3</th>\n",
       "      <th>4</th>\n",
       "      <th>5</th>\n",
       "      <th>6</th>\n",
       "      <th>7</th>\n",
       "      <th>8</th>\n",
       "      <th>...</th>\n",
       "      <th>46</th>\n",
       "      <th>47</th>\n",
       "      <th>48</th>\n",
       "      <th>49</th>\n",
       "      <th>50</th>\n",
       "      <th>51</th>\n",
       "      <th>52</th>\n",
       "      <th>53</th>\n",
       "      <th>54</th>\n",
       "      <th>55</th>\n",
       "    </tr>\n",
       "  </thead>\n",
       "  <tbody>\n",
       "    <tr>\n",
       "      <th>0</th>\n",
       "      <td>Cancun</td>\n",
       "      <td>Etymology and coat of arms</td>\n",
       "      <td>History</td>\n",
       "      <td>City layout</td>\n",
       "      <td>Cancún Airport's old Control Tower Memorial</td>\n",
       "      <td>Maya archaeological sites</td>\n",
       "      <td>Transportation</td>\n",
       "      <td>Climate</td>\n",
       "      <td>Hurricane Gilbert</td>\n",
       "      <td>Hurricane Wilma</td>\n",
       "      <td>...</td>\n",
       "      <td>NaN</td>\n",
       "      <td>NaN</td>\n",
       "      <td>NaN</td>\n",
       "      <td>NaN</td>\n",
       "      <td>NaN</td>\n",
       "      <td>NaN</td>\n",
       "      <td>NaN</td>\n",
       "      <td>NaN</td>\n",
       "      <td>NaN</td>\n",
       "      <td>NaN</td>\n",
       "    </tr>\n",
       "    <tr>\n",
       "      <th>1</th>\n",
       "      <td>Las Vegas</td>\n",
       "      <td>History</td>\n",
       "      <td>Geography</td>\n",
       "      <td>Climate</td>\n",
       "      <td>Nearby communities</td>\n",
       "      <td>Neighborhoods</td>\n",
       "      <td>Demographics</td>\n",
       "      <td>Economy</td>\n",
       "      <td>Tourism</td>\n",
       "      <td>Downtown casinos</td>\n",
       "      <td>...</td>\n",
       "      <td>NaN</td>\n",
       "      <td>NaN</td>\n",
       "      <td>NaN</td>\n",
       "      <td>NaN</td>\n",
       "      <td>NaN</td>\n",
       "      <td>NaN</td>\n",
       "      <td>NaN</td>\n",
       "      <td>NaN</td>\n",
       "      <td>NaN</td>\n",
       "      <td>NaN</td>\n",
       "    </tr>\n",
       "    <tr>\n",
       "      <th>2</th>\n",
       "      <td>Jamaica</td>\n",
       "      <td>Etymology</td>\n",
       "      <td>History</td>\n",
       "      <td>Prehistory</td>\n",
       "      <td>Spanish rule (1509–1655)</td>\n",
       "      <td>British rule (1655–1962)</td>\n",
       "      <td>Independence (1962)</td>\n",
       "      <td>Government and politics</td>\n",
       "      <td>Political parties and elections</td>\n",
       "      <td>Administrative divisions</td>\n",
       "      <td>...</td>\n",
       "      <td>NaN</td>\n",
       "      <td>NaN</td>\n",
       "      <td>NaN</td>\n",
       "      <td>NaN</td>\n",
       "      <td>NaN</td>\n",
       "      <td>NaN</td>\n",
       "      <td>NaN</td>\n",
       "      <td>NaN</td>\n",
       "      <td>NaN</td>\n",
       "      <td>NaN</td>\n",
       "    </tr>\n",
       "    <tr>\n",
       "      <th>3</th>\n",
       "      <td>Miami</td>\n",
       "      <td>History</td>\n",
       "      <td>Geography</td>\n",
       "      <td>Geology</td>\n",
       "      <td>Cityscape</td>\n",
       "      <td>Neighborhoods</td>\n",
       "      <td>Climate</td>\n",
       "      <td>Demographics</td>\n",
       "      <td>Race, ethnicity, religion, and languages</td>\n",
       "      <td>Education, households, and income</td>\n",
       "      <td>...</td>\n",
       "      <td>NaN</td>\n",
       "      <td>NaN</td>\n",
       "      <td>NaN</td>\n",
       "      <td>NaN</td>\n",
       "      <td>NaN</td>\n",
       "      <td>NaN</td>\n",
       "      <td>NaN</td>\n",
       "      <td>NaN</td>\n",
       "      <td>NaN</td>\n",
       "      <td>NaN</td>\n",
       "    </tr>\n",
       "    <tr>\n",
       "      <th>4</th>\n",
       "      <td>Dominican Republic</td>\n",
       "      <td>Names and etymology</td>\n",
       "      <td>History</td>\n",
       "      <td>Pre-European history</td>\n",
       "      <td>European colonization</td>\n",
       "      <td>18th century</td>\n",
       "      <td>French rule</td>\n",
       "      <td>Independence from Spain (1821)</td>\n",
       "      <td>Unification of Hispaniola (1822–44)</td>\n",
       "      <td>Independence from Haiti (1844)</td>\n",
       "      <td>...</td>\n",
       "      <td>Cuisine</td>\n",
       "      <td>Music and dance</td>\n",
       "      <td>Fashion</td>\n",
       "      <td>National symbols</td>\n",
       "      <td>Sports</td>\n",
       "      <td>See also</td>\n",
       "      <td>Notes and references</td>\n",
       "      <td>Bibliography</td>\n",
       "      <td>Further reading</td>\n",
       "      <td>External links</td>\n",
       "    </tr>\n",
       "  </tbody>\n",
       "</table>\n",
       "<p>5 rows × 57 columns</p>\n",
       "</div>"
      ],
      "text/plain": [
       "                index                           0          1  \\\n",
       "0              Cancun  Etymology and coat of arms    History   \n",
       "1           Las Vegas                     History  Geography   \n",
       "2             Jamaica                   Etymology    History   \n",
       "3               Miami                     History  Geography   \n",
       "4  Dominican Republic         Names and etymology    History   \n",
       "\n",
       "                      2                                            3  \\\n",
       "0           City layout  Cancún Airport's old Control Tower Memorial   \n",
       "1               Climate                           Nearby communities   \n",
       "2            Prehistory                     Spanish rule (1509–1655)   \n",
       "3               Geology                                    Cityscape   \n",
       "4  Pre-European history                        European colonization   \n",
       "\n",
       "                           4                    5  \\\n",
       "0  Maya archaeological sites       Transportation   \n",
       "1              Neighborhoods         Demographics   \n",
       "2   British rule (1655–1962)  Independence (1962)   \n",
       "3              Neighborhoods              Climate   \n",
       "4               18th century          French rule   \n",
       "\n",
       "                                6                                         7  \\\n",
       "0                         Climate                         Hurricane Gilbert   \n",
       "1                         Economy                                   Tourism   \n",
       "2         Government and politics           Political parties and elections   \n",
       "3                    Demographics  Race, ethnicity, religion, and languages   \n",
       "4  Independence from Spain (1821)       Unification of Hispaniola (1822–44)   \n",
       "\n",
       "                                   8       ...             46  \\\n",
       "0                    Hurricane Wilma       ...            NaN   \n",
       "1                   Downtown casinos       ...            NaN   \n",
       "2           Administrative divisions       ...            NaN   \n",
       "3  Education, households, and income       ...            NaN   \n",
       "4     Independence from Haiti (1844)       ...        Cuisine   \n",
       "\n",
       "                47       48                49      50        51  \\\n",
       "0              NaN      NaN               NaN     NaN       NaN   \n",
       "1              NaN      NaN               NaN     NaN       NaN   \n",
       "2              NaN      NaN               NaN     NaN       NaN   \n",
       "3              NaN      NaN               NaN     NaN       NaN   \n",
       "4  Music and dance  Fashion  National symbols  Sports  See also   \n",
       "\n",
       "                     52            53               54              55  \n",
       "0                   NaN           NaN              NaN             NaN  \n",
       "1                   NaN           NaN              NaN             NaN  \n",
       "2                   NaN           NaN              NaN             NaN  \n",
       "3                   NaN           NaN              NaN             NaN  \n",
       "4  Notes and references  Bibliography  Further reading  External links  \n",
       "\n",
       "[5 rows x 57 columns]"
      ]
     },
     "execution_count": 276,
     "metadata": {},
     "output_type": "execute_result"
    }
   ],
   "source": [
    "# look at what we did\n",
    "toc_explode.head()"
   ]
  },
  {
   "cell_type": "code",
   "execution_count": 277,
   "metadata": {
    "scrolled": true
   },
   "outputs": [
    {
     "data": {
      "text/html": [
       "<div>\n",
       "<style scoped>\n",
       "    .dataframe tbody tr th:only-of-type {\n",
       "        vertical-align: middle;\n",
       "    }\n",
       "\n",
       "    .dataframe tbody tr th {\n",
       "        vertical-align: top;\n",
       "    }\n",
       "\n",
       "    .dataframe thead th {\n",
       "        text-align: right;\n",
       "    }\n",
       "</style>\n",
       "<table border=\"1\" class=\"dataframe\">\n",
       "  <thead>\n",
       "    <tr style=\"text-align: right;\">\n",
       "      <th></th>\n",
       "      <th>index</th>\n",
       "      <th>variable</th>\n",
       "      <th>value</th>\n",
       "    </tr>\n",
       "  </thead>\n",
       "  <tbody>\n",
       "    <tr>\n",
       "      <th>0</th>\n",
       "      <td>Cancun</td>\n",
       "      <td>0</td>\n",
       "      <td>Etymology and coat of arms</td>\n",
       "    </tr>\n",
       "    <tr>\n",
       "      <th>1</th>\n",
       "      <td>Las Vegas</td>\n",
       "      <td>0</td>\n",
       "      <td>History</td>\n",
       "    </tr>\n",
       "    <tr>\n",
       "      <th>2</th>\n",
       "      <td>Jamaica</td>\n",
       "      <td>0</td>\n",
       "      <td>Etymology</td>\n",
       "    </tr>\n",
       "    <tr>\n",
       "      <th>3</th>\n",
       "      <td>Miami</td>\n",
       "      <td>0</td>\n",
       "      <td>History</td>\n",
       "    </tr>\n",
       "    <tr>\n",
       "      <th>4</th>\n",
       "      <td>Dominican Republic</td>\n",
       "      <td>0</td>\n",
       "      <td>Names and etymology</td>\n",
       "    </tr>\n",
       "    <tr>\n",
       "      <th>5</th>\n",
       "      <td>South Padre Island</td>\n",
       "      <td>0</td>\n",
       "      <td>NaN</td>\n",
       "    </tr>\n",
       "    <tr>\n",
       "      <th>6</th>\n",
       "      <td>Puerto Vallarta</td>\n",
       "      <td>0</td>\n",
       "      <td>History</td>\n",
       "    </tr>\n",
       "    <tr>\n",
       "      <th>7</th>\n",
       "      <td>Bahamas</td>\n",
       "      <td>0</td>\n",
       "      <td>Etymology</td>\n",
       "    </tr>\n",
       "    <tr>\n",
       "      <th>8</th>\n",
       "      <td>Cancun</td>\n",
       "      <td>1</td>\n",
       "      <td>History</td>\n",
       "    </tr>\n",
       "    <tr>\n",
       "      <th>9</th>\n",
       "      <td>Las Vegas</td>\n",
       "      <td>1</td>\n",
       "      <td>Geography</td>\n",
       "    </tr>\n",
       "    <tr>\n",
       "      <th>10</th>\n",
       "      <td>Jamaica</td>\n",
       "      <td>1</td>\n",
       "      <td>History</td>\n",
       "    </tr>\n",
       "    <tr>\n",
       "      <th>11</th>\n",
       "      <td>Miami</td>\n",
       "      <td>1</td>\n",
       "      <td>Geography</td>\n",
       "    </tr>\n",
       "    <tr>\n",
       "      <th>12</th>\n",
       "      <td>Dominican Republic</td>\n",
       "      <td>1</td>\n",
       "      <td>History</td>\n",
       "    </tr>\n",
       "    <tr>\n",
       "      <th>13</th>\n",
       "      <td>South Padre Island</td>\n",
       "      <td>1</td>\n",
       "      <td>NaN</td>\n",
       "    </tr>\n",
       "    <tr>\n",
       "      <th>14</th>\n",
       "      <td>Puerto Vallarta</td>\n",
       "      <td>1</td>\n",
       "      <td>Pre-Hispanic times to the 19th century</td>\n",
       "    </tr>\n",
       "    <tr>\n",
       "      <th>15</th>\n",
       "      <td>Bahamas</td>\n",
       "      <td>1</td>\n",
       "      <td>History</td>\n",
       "    </tr>\n",
       "    <tr>\n",
       "      <th>16</th>\n",
       "      <td>Cancun</td>\n",
       "      <td>2</td>\n",
       "      <td>City layout</td>\n",
       "    </tr>\n",
       "    <tr>\n",
       "      <th>17</th>\n",
       "      <td>Las Vegas</td>\n",
       "      <td>2</td>\n",
       "      <td>Climate</td>\n",
       "    </tr>\n",
       "    <tr>\n",
       "      <th>18</th>\n",
       "      <td>Jamaica</td>\n",
       "      <td>2</td>\n",
       "      <td>Prehistory</td>\n",
       "    </tr>\n",
       "    <tr>\n",
       "      <th>19</th>\n",
       "      <td>Miami</td>\n",
       "      <td>2</td>\n",
       "      <td>Geology</td>\n",
       "    </tr>\n",
       "    <tr>\n",
       "      <th>20</th>\n",
       "      <td>Dominican Republic</td>\n",
       "      <td>2</td>\n",
       "      <td>Pre-European history</td>\n",
       "    </tr>\n",
       "    <tr>\n",
       "      <th>21</th>\n",
       "      <td>South Padre Island</td>\n",
       "      <td>2</td>\n",
       "      <td>NaN</td>\n",
       "    </tr>\n",
       "    <tr>\n",
       "      <th>22</th>\n",
       "      <td>Puerto Vallarta</td>\n",
       "      <td>2</td>\n",
       "      <td>El Carrizal and Las Peñas - 19th century</td>\n",
       "    </tr>\n",
       "    <tr>\n",
       "      <th>23</th>\n",
       "      <td>Bahamas</td>\n",
       "      <td>2</td>\n",
       "      <td>18th–19th centuries</td>\n",
       "    </tr>\n",
       "    <tr>\n",
       "      <th>24</th>\n",
       "      <td>Cancun</td>\n",
       "      <td>3</td>\n",
       "      <td>Cancún Airport's old Control Tower Memorial</td>\n",
       "    </tr>\n",
       "    <tr>\n",
       "      <th>25</th>\n",
       "      <td>Las Vegas</td>\n",
       "      <td>3</td>\n",
       "      <td>Nearby communities</td>\n",
       "    </tr>\n",
       "    <tr>\n",
       "      <th>26</th>\n",
       "      <td>Jamaica</td>\n",
       "      <td>3</td>\n",
       "      <td>Spanish rule (1509–1655)</td>\n",
       "    </tr>\n",
       "    <tr>\n",
       "      <th>27</th>\n",
       "      <td>Miami</td>\n",
       "      <td>3</td>\n",
       "      <td>Cityscape</td>\n",
       "    </tr>\n",
       "    <tr>\n",
       "      <th>28</th>\n",
       "      <td>Dominican Republic</td>\n",
       "      <td>3</td>\n",
       "      <td>European colonization</td>\n",
       "    </tr>\n",
       "    <tr>\n",
       "      <th>29</th>\n",
       "      <td>South Padre Island</td>\n",
       "      <td>3</td>\n",
       "      <td>NaN</td>\n",
       "    </tr>\n",
       "    <tr>\n",
       "      <th>...</th>\n",
       "      <td>...</td>\n",
       "      <td>...</td>\n",
       "      <td>...</td>\n",
       "    </tr>\n",
       "    <tr>\n",
       "      <th>418</th>\n",
       "      <td>Jamaica</td>\n",
       "      <td>52</td>\n",
       "      <td>NaN</td>\n",
       "    </tr>\n",
       "    <tr>\n",
       "      <th>419</th>\n",
       "      <td>Miami</td>\n",
       "      <td>52</td>\n",
       "      <td>NaN</td>\n",
       "    </tr>\n",
       "    <tr>\n",
       "      <th>420</th>\n",
       "      <td>Dominican Republic</td>\n",
       "      <td>52</td>\n",
       "      <td>Notes and references</td>\n",
       "    </tr>\n",
       "    <tr>\n",
       "      <th>421</th>\n",
       "      <td>South Padre Island</td>\n",
       "      <td>52</td>\n",
       "      <td>NaN</td>\n",
       "    </tr>\n",
       "    <tr>\n",
       "      <th>422</th>\n",
       "      <td>Puerto Vallarta</td>\n",
       "      <td>52</td>\n",
       "      <td>NaN</td>\n",
       "    </tr>\n",
       "    <tr>\n",
       "      <th>423</th>\n",
       "      <td>Bahamas</td>\n",
       "      <td>52</td>\n",
       "      <td>NaN</td>\n",
       "    </tr>\n",
       "    <tr>\n",
       "      <th>424</th>\n",
       "      <td>Cancun</td>\n",
       "      <td>53</td>\n",
       "      <td>NaN</td>\n",
       "    </tr>\n",
       "    <tr>\n",
       "      <th>425</th>\n",
       "      <td>Las Vegas</td>\n",
       "      <td>53</td>\n",
       "      <td>NaN</td>\n",
       "    </tr>\n",
       "    <tr>\n",
       "      <th>426</th>\n",
       "      <td>Jamaica</td>\n",
       "      <td>53</td>\n",
       "      <td>NaN</td>\n",
       "    </tr>\n",
       "    <tr>\n",
       "      <th>427</th>\n",
       "      <td>Miami</td>\n",
       "      <td>53</td>\n",
       "      <td>NaN</td>\n",
       "    </tr>\n",
       "    <tr>\n",
       "      <th>428</th>\n",
       "      <td>Dominican Republic</td>\n",
       "      <td>53</td>\n",
       "      <td>Bibliography</td>\n",
       "    </tr>\n",
       "    <tr>\n",
       "      <th>429</th>\n",
       "      <td>South Padre Island</td>\n",
       "      <td>53</td>\n",
       "      <td>NaN</td>\n",
       "    </tr>\n",
       "    <tr>\n",
       "      <th>430</th>\n",
       "      <td>Puerto Vallarta</td>\n",
       "      <td>53</td>\n",
       "      <td>NaN</td>\n",
       "    </tr>\n",
       "    <tr>\n",
       "      <th>431</th>\n",
       "      <td>Bahamas</td>\n",
       "      <td>53</td>\n",
       "      <td>NaN</td>\n",
       "    </tr>\n",
       "    <tr>\n",
       "      <th>432</th>\n",
       "      <td>Cancun</td>\n",
       "      <td>54</td>\n",
       "      <td>NaN</td>\n",
       "    </tr>\n",
       "    <tr>\n",
       "      <th>433</th>\n",
       "      <td>Las Vegas</td>\n",
       "      <td>54</td>\n",
       "      <td>NaN</td>\n",
       "    </tr>\n",
       "    <tr>\n",
       "      <th>434</th>\n",
       "      <td>Jamaica</td>\n",
       "      <td>54</td>\n",
       "      <td>NaN</td>\n",
       "    </tr>\n",
       "    <tr>\n",
       "      <th>435</th>\n",
       "      <td>Miami</td>\n",
       "      <td>54</td>\n",
       "      <td>NaN</td>\n",
       "    </tr>\n",
       "    <tr>\n",
       "      <th>436</th>\n",
       "      <td>Dominican Republic</td>\n",
       "      <td>54</td>\n",
       "      <td>Further reading</td>\n",
       "    </tr>\n",
       "    <tr>\n",
       "      <th>437</th>\n",
       "      <td>South Padre Island</td>\n",
       "      <td>54</td>\n",
       "      <td>NaN</td>\n",
       "    </tr>\n",
       "    <tr>\n",
       "      <th>438</th>\n",
       "      <td>Puerto Vallarta</td>\n",
       "      <td>54</td>\n",
       "      <td>NaN</td>\n",
       "    </tr>\n",
       "    <tr>\n",
       "      <th>439</th>\n",
       "      <td>Bahamas</td>\n",
       "      <td>54</td>\n",
       "      <td>NaN</td>\n",
       "    </tr>\n",
       "    <tr>\n",
       "      <th>440</th>\n",
       "      <td>Cancun</td>\n",
       "      <td>55</td>\n",
       "      <td>NaN</td>\n",
       "    </tr>\n",
       "    <tr>\n",
       "      <th>441</th>\n",
       "      <td>Las Vegas</td>\n",
       "      <td>55</td>\n",
       "      <td>NaN</td>\n",
       "    </tr>\n",
       "    <tr>\n",
       "      <th>442</th>\n",
       "      <td>Jamaica</td>\n",
       "      <td>55</td>\n",
       "      <td>NaN</td>\n",
       "    </tr>\n",
       "    <tr>\n",
       "      <th>443</th>\n",
       "      <td>Miami</td>\n",
       "      <td>55</td>\n",
       "      <td>NaN</td>\n",
       "    </tr>\n",
       "    <tr>\n",
       "      <th>444</th>\n",
       "      <td>Dominican Republic</td>\n",
       "      <td>55</td>\n",
       "      <td>External links</td>\n",
       "    </tr>\n",
       "    <tr>\n",
       "      <th>445</th>\n",
       "      <td>South Padre Island</td>\n",
       "      <td>55</td>\n",
       "      <td>NaN</td>\n",
       "    </tr>\n",
       "    <tr>\n",
       "      <th>446</th>\n",
       "      <td>Puerto Vallarta</td>\n",
       "      <td>55</td>\n",
       "      <td>NaN</td>\n",
       "    </tr>\n",
       "    <tr>\n",
       "      <th>447</th>\n",
       "      <td>Bahamas</td>\n",
       "      <td>55</td>\n",
       "      <td>NaN</td>\n",
       "    </tr>\n",
       "  </tbody>\n",
       "</table>\n",
       "<p>448 rows × 3 columns</p>\n",
       "</div>"
      ],
      "text/plain": [
       "                  index variable                                        value\n",
       "0                Cancun        0                   Etymology and coat of arms\n",
       "1             Las Vegas        0                                      History\n",
       "2               Jamaica        0                                    Etymology\n",
       "3                 Miami        0                                      History\n",
       "4    Dominican Republic        0                          Names and etymology\n",
       "5    South Padre Island        0                                          NaN\n",
       "6       Puerto Vallarta        0                                      History\n",
       "7               Bahamas        0                                    Etymology\n",
       "8                Cancun        1                                      History\n",
       "9             Las Vegas        1                                    Geography\n",
       "10              Jamaica        1                                      History\n",
       "11                Miami        1                                    Geography\n",
       "12   Dominican Republic        1                                      History\n",
       "13   South Padre Island        1                                          NaN\n",
       "14      Puerto Vallarta        1       Pre-Hispanic times to the 19th century\n",
       "15              Bahamas        1                                      History\n",
       "16               Cancun        2                                  City layout\n",
       "17            Las Vegas        2                                      Climate\n",
       "18              Jamaica        2                                   Prehistory\n",
       "19                Miami        2                                      Geology\n",
       "20   Dominican Republic        2                         Pre-European history\n",
       "21   South Padre Island        2                                          NaN\n",
       "22      Puerto Vallarta        2     El Carrizal and Las Peñas - 19th century\n",
       "23              Bahamas        2                          18th–19th centuries\n",
       "24               Cancun        3  Cancún Airport's old Control Tower Memorial\n",
       "25            Las Vegas        3                           Nearby communities\n",
       "26              Jamaica        3                     Spanish rule (1509–1655)\n",
       "27                Miami        3                                    Cityscape\n",
       "28   Dominican Republic        3                        European colonization\n",
       "29   South Padre Island        3                                          NaN\n",
       "..                  ...      ...                                          ...\n",
       "418             Jamaica       52                                          NaN\n",
       "419               Miami       52                                          NaN\n",
       "420  Dominican Republic       52                         Notes and references\n",
       "421  South Padre Island       52                                          NaN\n",
       "422     Puerto Vallarta       52                                          NaN\n",
       "423             Bahamas       52                                          NaN\n",
       "424              Cancun       53                                          NaN\n",
       "425           Las Vegas       53                                          NaN\n",
       "426             Jamaica       53                                          NaN\n",
       "427               Miami       53                                          NaN\n",
       "428  Dominican Republic       53                                 Bibliography\n",
       "429  South Padre Island       53                                          NaN\n",
       "430     Puerto Vallarta       53                                          NaN\n",
       "431             Bahamas       53                                          NaN\n",
       "432              Cancun       54                                          NaN\n",
       "433           Las Vegas       54                                          NaN\n",
       "434             Jamaica       54                                          NaN\n",
       "435               Miami       54                                          NaN\n",
       "436  Dominican Republic       54                              Further reading\n",
       "437  South Padre Island       54                                          NaN\n",
       "438     Puerto Vallarta       54                                          NaN\n",
       "439             Bahamas       54                                          NaN\n",
       "440              Cancun       55                                          NaN\n",
       "441           Las Vegas       55                                          NaN\n",
       "442             Jamaica       55                                          NaN\n",
       "443               Miami       55                                          NaN\n",
       "444  Dominican Republic       55                               External links\n",
       "445  South Padre Island       55                                          NaN\n",
       "446     Puerto Vallarta       55                                          NaN\n",
       "447             Bahamas       55                                          NaN\n",
       "\n",
       "[448 rows x 3 columns]"
      ]
     },
     "execution_count": 277,
     "metadata": {},
     "output_type": "execute_result"
    }
   ],
   "source": [
    "# now let's perform the melt and use the parameter `id_vars`\n",
    "toc_explode.melt(id_vars='index')"
   ]
  },
  {
   "cell_type": "code",
   "execution_count": 278,
   "metadata": {},
   "outputs": [],
   "source": [
    "# setting the \"index\" column to `id_vars` allows it to remain a column\n",
    "# we can also use the parameter `value_name` to name the column full of table of contents values\n",
    "# store the result as `toc_melt`\n",
    "toc_melt = toc_explode.melt(id_vars='index', value_name='toc_values')"
   ]
  },
  {
   "cell_type": "code",
   "execution_count": 279,
   "metadata": {},
   "outputs": [
    {
     "data": {
      "text/html": [
       "<div>\n",
       "<style scoped>\n",
       "    .dataframe tbody tr th:only-of-type {\n",
       "        vertical-align: middle;\n",
       "    }\n",
       "\n",
       "    .dataframe tbody tr th {\n",
       "        vertical-align: top;\n",
       "    }\n",
       "\n",
       "    .dataframe thead th {\n",
       "        text-align: right;\n",
       "    }\n",
       "</style>\n",
       "<table border=\"1\" class=\"dataframe\">\n",
       "  <thead>\n",
       "    <tr style=\"text-align: right;\">\n",
       "      <th></th>\n",
       "      <th>index</th>\n",
       "      <th>variable</th>\n",
       "      <th>toc_values</th>\n",
       "    </tr>\n",
       "  </thead>\n",
       "  <tbody>\n",
       "    <tr>\n",
       "      <th>0</th>\n",
       "      <td>Cancun</td>\n",
       "      <td>0</td>\n",
       "      <td>Etymology and coat of arms</td>\n",
       "    </tr>\n",
       "    <tr>\n",
       "      <th>1</th>\n",
       "      <td>Las Vegas</td>\n",
       "      <td>0</td>\n",
       "      <td>History</td>\n",
       "    </tr>\n",
       "    <tr>\n",
       "      <th>2</th>\n",
       "      <td>Jamaica</td>\n",
       "      <td>0</td>\n",
       "      <td>Etymology</td>\n",
       "    </tr>\n",
       "    <tr>\n",
       "      <th>3</th>\n",
       "      <td>Miami</td>\n",
       "      <td>0</td>\n",
       "      <td>History</td>\n",
       "    </tr>\n",
       "    <tr>\n",
       "      <th>4</th>\n",
       "      <td>Dominican Republic</td>\n",
       "      <td>0</td>\n",
       "      <td>Names and etymology</td>\n",
       "    </tr>\n",
       "  </tbody>\n",
       "</table>\n",
       "</div>"
      ],
      "text/plain": [
       "                index variable                  toc_values\n",
       "0              Cancun        0  Etymology and coat of arms\n",
       "1           Las Vegas        0                     History\n",
       "2             Jamaica        0                   Etymology\n",
       "3               Miami        0                     History\n",
       "4  Dominican Republic        0         Names and etymology"
      ]
     },
     "execution_count": 279,
     "metadata": {},
     "output_type": "execute_result"
    }
   ],
   "source": [
    "# let's see what it looks like\n",
    "toc_melt.head()"
   ]
  },
  {
   "cell_type": "code",
   "execution_count": 280,
   "metadata": {},
   "outputs": [],
   "source": [
    "# we don't need the column \"variable\"; drop it\n",
    "toc_melt.drop(columns='variable', inplace=True)"
   ]
  },
  {
   "cell_type": "code",
   "execution_count": 281,
   "metadata": {},
   "outputs": [
    {
     "data": {
      "text/html": [
       "<div>\n",
       "<style scoped>\n",
       "    .dataframe tbody tr th:only-of-type {\n",
       "        vertical-align: middle;\n",
       "    }\n",
       "\n",
       "    .dataframe tbody tr th {\n",
       "        vertical-align: top;\n",
       "    }\n",
       "\n",
       "    .dataframe thead th {\n",
       "        text-align: right;\n",
       "    }\n",
       "</style>\n",
       "<table border=\"1\" class=\"dataframe\">\n",
       "  <thead>\n",
       "    <tr style=\"text-align: right;\">\n",
       "      <th></th>\n",
       "      <th>index</th>\n",
       "      <th>toc_values</th>\n",
       "    </tr>\n",
       "  </thead>\n",
       "  <tbody>\n",
       "    <tr>\n",
       "      <th>0</th>\n",
       "      <td>Cancun</td>\n",
       "      <td>Etymology and coat of arms</td>\n",
       "    </tr>\n",
       "    <tr>\n",
       "      <th>1</th>\n",
       "      <td>Las Vegas</td>\n",
       "      <td>History</td>\n",
       "    </tr>\n",
       "    <tr>\n",
       "      <th>2</th>\n",
       "      <td>Jamaica</td>\n",
       "      <td>Etymology</td>\n",
       "    </tr>\n",
       "    <tr>\n",
       "      <th>3</th>\n",
       "      <td>Miami</td>\n",
       "      <td>History</td>\n",
       "    </tr>\n",
       "    <tr>\n",
       "      <th>4</th>\n",
       "      <td>Dominican Republic</td>\n",
       "      <td>Names and etymology</td>\n",
       "    </tr>\n",
       "  </tbody>\n",
       "</table>\n",
       "</div>"
      ],
      "text/plain": [
       "                index                  toc_values\n",
       "0              Cancun  Etymology and coat of arms\n",
       "1           Las Vegas                     History\n",
       "2             Jamaica                   Etymology\n",
       "3               Miami                     History\n",
       "4  Dominican Republic         Names and etymology"
      ]
     },
     "execution_count": 281,
     "metadata": {},
     "output_type": "execute_result"
    }
   ],
   "source": [
    "# check it out again\n",
    "toc_melt.head()"
   ]
  },
  {
   "cell_type": "code",
   "execution_count": 282,
   "metadata": {},
   "outputs": [],
   "source": [
    "# now we need to return the column \"index\" to our index\n",
    "toc_melt.set_index('index', inplace=True)"
   ]
  },
  {
   "cell_type": "code",
   "execution_count": 283,
   "metadata": {},
   "outputs": [
    {
     "data": {
      "text/html": [
       "<div>\n",
       "<style scoped>\n",
       "    .dataframe tbody tr th:only-of-type {\n",
       "        vertical-align: middle;\n",
       "    }\n",
       "\n",
       "    .dataframe tbody tr th {\n",
       "        vertical-align: top;\n",
       "    }\n",
       "\n",
       "    .dataframe thead th {\n",
       "        text-align: right;\n",
       "    }\n",
       "</style>\n",
       "<table border=\"1\" class=\"dataframe\">\n",
       "  <thead>\n",
       "    <tr style=\"text-align: right;\">\n",
       "      <th></th>\n",
       "      <th>toc_values</th>\n",
       "    </tr>\n",
       "    <tr>\n",
       "      <th>index</th>\n",
       "      <th></th>\n",
       "    </tr>\n",
       "  </thead>\n",
       "  <tbody>\n",
       "    <tr>\n",
       "      <th>Cancun</th>\n",
       "      <td>Etymology and coat of arms</td>\n",
       "    </tr>\n",
       "    <tr>\n",
       "      <th>Las Vegas</th>\n",
       "      <td>History</td>\n",
       "    </tr>\n",
       "    <tr>\n",
       "      <th>Jamaica</th>\n",
       "      <td>Etymology</td>\n",
       "    </tr>\n",
       "    <tr>\n",
       "      <th>Miami</th>\n",
       "      <td>History</td>\n",
       "    </tr>\n",
       "    <tr>\n",
       "      <th>Dominican Republic</th>\n",
       "      <td>Names and etymology</td>\n",
       "    </tr>\n",
       "  </tbody>\n",
       "</table>\n",
       "</div>"
      ],
      "text/plain": [
       "                                    toc_values\n",
       "index                                         \n",
       "Cancun              Etymology and coat of arms\n",
       "Las Vegas                              History\n",
       "Jamaica                              Etymology\n",
       "Miami                                  History\n",
       "Dominican Republic         Names and etymology"
      ]
     },
     "execution_count": 283,
     "metadata": {},
     "output_type": "execute_result"
    }
   ],
   "source": [
    "# look at it\n",
    "toc_melt.head()"
   ]
  },
  {
   "cell_type": "code",
   "execution_count": 284,
   "metadata": {},
   "outputs": [],
   "source": [
    "# rememeber the index of our original df has no name, but our current one does (\"index\")\n",
    "# rename the index name as an empty string\n",
    "toc_melt.index.name = ''"
   ]
  },
  {
   "cell_type": "code",
   "execution_count": 285,
   "metadata": {},
   "outputs": [
    {
     "data": {
      "text/html": [
       "<div>\n",
       "<style scoped>\n",
       "    .dataframe tbody tr th:only-of-type {\n",
       "        vertical-align: middle;\n",
       "    }\n",
       "\n",
       "    .dataframe tbody tr th {\n",
       "        vertical-align: top;\n",
       "    }\n",
       "\n",
       "    .dataframe thead th {\n",
       "        text-align: right;\n",
       "    }\n",
       "</style>\n",
       "<table border=\"1\" class=\"dataframe\">\n",
       "  <thead>\n",
       "    <tr style=\"text-align: right;\">\n",
       "      <th></th>\n",
       "      <th>toc_values</th>\n",
       "    </tr>\n",
       "    <tr>\n",
       "      <th></th>\n",
       "      <th></th>\n",
       "    </tr>\n",
       "  </thead>\n",
       "  <tbody>\n",
       "    <tr>\n",
       "      <th>Cancun</th>\n",
       "      <td>Etymology and coat of arms</td>\n",
       "    </tr>\n",
       "    <tr>\n",
       "      <th>Las Vegas</th>\n",
       "      <td>History</td>\n",
       "    </tr>\n",
       "    <tr>\n",
       "      <th>Jamaica</th>\n",
       "      <td>Etymology</td>\n",
       "    </tr>\n",
       "    <tr>\n",
       "      <th>Miami</th>\n",
       "      <td>History</td>\n",
       "    </tr>\n",
       "    <tr>\n",
       "      <th>Dominican Republic</th>\n",
       "      <td>Names and etymology</td>\n",
       "    </tr>\n",
       "  </tbody>\n",
       "</table>\n",
       "</div>"
      ],
      "text/plain": [
       "                                    toc_values\n",
       "                                              \n",
       "Cancun              Etymology and coat of arms\n",
       "Las Vegas                              History\n",
       "Jamaica                              Etymology\n",
       "Miami                                  History\n",
       "Dominican Republic         Names and etymology"
      ]
     },
     "execution_count": 285,
     "metadata": {},
     "output_type": "execute_result"
    }
   ],
   "source": [
    "# look at what happened\n",
    "toc_melt.head()"
   ]
  },
  {
   "cell_type": "code",
   "execution_count": 286,
   "metadata": {
    "scrolled": true
   },
   "outputs": [
    {
     "data": {
      "text/html": [
       "<div>\n",
       "<style scoped>\n",
       "    .dataframe tbody tr th:only-of-type {\n",
       "        vertical-align: middle;\n",
       "    }\n",
       "\n",
       "    .dataframe tbody tr th {\n",
       "        vertical-align: top;\n",
       "    }\n",
       "\n",
       "    .dataframe thead th {\n",
       "        text-align: right;\n",
       "    }\n",
       "</style>\n",
       "<table border=\"1\" class=\"dataframe\">\n",
       "  <thead>\n",
       "    <tr style=\"text-align: right;\">\n",
       "      <th></th>\n",
       "      <th>toc_values</th>\n",
       "    </tr>\n",
       "    <tr>\n",
       "      <th></th>\n",
       "      <th></th>\n",
       "    </tr>\n",
       "  </thead>\n",
       "  <tbody>\n",
       "    <tr>\n",
       "      <th>Cancun</th>\n",
       "      <td>Etymology and coat of arms</td>\n",
       "    </tr>\n",
       "    <tr>\n",
       "      <th>Las Vegas</th>\n",
       "      <td>History</td>\n",
       "    </tr>\n",
       "    <tr>\n",
       "      <th>Jamaica</th>\n",
       "      <td>Etymology</td>\n",
       "    </tr>\n",
       "    <tr>\n",
       "      <th>Miami</th>\n",
       "      <td>History</td>\n",
       "    </tr>\n",
       "    <tr>\n",
       "      <th>Dominican Republic</th>\n",
       "      <td>Names and etymology</td>\n",
       "    </tr>\n",
       "    <tr>\n",
       "      <th>South Padre Island</th>\n",
       "      <td>NaN</td>\n",
       "    </tr>\n",
       "    <tr>\n",
       "      <th>Puerto Vallarta</th>\n",
       "      <td>History</td>\n",
       "    </tr>\n",
       "    <tr>\n",
       "      <th>Bahamas</th>\n",
       "      <td>Etymology</td>\n",
       "    </tr>\n",
       "    <tr>\n",
       "      <th>Cancun</th>\n",
       "      <td>History</td>\n",
       "    </tr>\n",
       "    <tr>\n",
       "      <th>Las Vegas</th>\n",
       "      <td>Geography</td>\n",
       "    </tr>\n",
       "    <tr>\n",
       "      <th>Jamaica</th>\n",
       "      <td>History</td>\n",
       "    </tr>\n",
       "    <tr>\n",
       "      <th>Miami</th>\n",
       "      <td>Geography</td>\n",
       "    </tr>\n",
       "    <tr>\n",
       "      <th>Dominican Republic</th>\n",
       "      <td>History</td>\n",
       "    </tr>\n",
       "    <tr>\n",
       "      <th>South Padre Island</th>\n",
       "      <td>NaN</td>\n",
       "    </tr>\n",
       "    <tr>\n",
       "      <th>Puerto Vallarta</th>\n",
       "      <td>Pre-Hispanic times to the 19th century</td>\n",
       "    </tr>\n",
       "    <tr>\n",
       "      <th>Bahamas</th>\n",
       "      <td>History</td>\n",
       "    </tr>\n",
       "    <tr>\n",
       "      <th>Cancun</th>\n",
       "      <td>City layout</td>\n",
       "    </tr>\n",
       "    <tr>\n",
       "      <th>Las Vegas</th>\n",
       "      <td>Climate</td>\n",
       "    </tr>\n",
       "    <tr>\n",
       "      <th>Jamaica</th>\n",
       "      <td>Prehistory</td>\n",
       "    </tr>\n",
       "    <tr>\n",
       "      <th>Miami</th>\n",
       "      <td>Geology</td>\n",
       "    </tr>\n",
       "    <tr>\n",
       "      <th>Dominican Republic</th>\n",
       "      <td>Pre-European history</td>\n",
       "    </tr>\n",
       "    <tr>\n",
       "      <th>South Padre Island</th>\n",
       "      <td>NaN</td>\n",
       "    </tr>\n",
       "    <tr>\n",
       "      <th>Puerto Vallarta</th>\n",
       "      <td>El Carrizal and Las Peñas - 19th century</td>\n",
       "    </tr>\n",
       "    <tr>\n",
       "      <th>Bahamas</th>\n",
       "      <td>18th–19th centuries</td>\n",
       "    </tr>\n",
       "    <tr>\n",
       "      <th>Cancun</th>\n",
       "      <td>Cancún Airport's old Control Tower Memorial</td>\n",
       "    </tr>\n",
       "    <tr>\n",
       "      <th>Las Vegas</th>\n",
       "      <td>Nearby communities</td>\n",
       "    </tr>\n",
       "    <tr>\n",
       "      <th>Jamaica</th>\n",
       "      <td>Spanish rule (1509–1655)</td>\n",
       "    </tr>\n",
       "    <tr>\n",
       "      <th>Miami</th>\n",
       "      <td>Cityscape</td>\n",
       "    </tr>\n",
       "    <tr>\n",
       "      <th>Dominican Republic</th>\n",
       "      <td>European colonization</td>\n",
       "    </tr>\n",
       "    <tr>\n",
       "      <th>South Padre Island</th>\n",
       "      <td>NaN</td>\n",
       "    </tr>\n",
       "    <tr>\n",
       "      <th>...</th>\n",
       "      <td>...</td>\n",
       "    </tr>\n",
       "    <tr>\n",
       "      <th>Jamaica</th>\n",
       "      <td>NaN</td>\n",
       "    </tr>\n",
       "    <tr>\n",
       "      <th>Miami</th>\n",
       "      <td>NaN</td>\n",
       "    </tr>\n",
       "    <tr>\n",
       "      <th>Dominican Republic</th>\n",
       "      <td>Notes and references</td>\n",
       "    </tr>\n",
       "    <tr>\n",
       "      <th>South Padre Island</th>\n",
       "      <td>NaN</td>\n",
       "    </tr>\n",
       "    <tr>\n",
       "      <th>Puerto Vallarta</th>\n",
       "      <td>NaN</td>\n",
       "    </tr>\n",
       "    <tr>\n",
       "      <th>Bahamas</th>\n",
       "      <td>NaN</td>\n",
       "    </tr>\n",
       "    <tr>\n",
       "      <th>Cancun</th>\n",
       "      <td>NaN</td>\n",
       "    </tr>\n",
       "    <tr>\n",
       "      <th>Las Vegas</th>\n",
       "      <td>NaN</td>\n",
       "    </tr>\n",
       "    <tr>\n",
       "      <th>Jamaica</th>\n",
       "      <td>NaN</td>\n",
       "    </tr>\n",
       "    <tr>\n",
       "      <th>Miami</th>\n",
       "      <td>NaN</td>\n",
       "    </tr>\n",
       "    <tr>\n",
       "      <th>Dominican Republic</th>\n",
       "      <td>Bibliography</td>\n",
       "    </tr>\n",
       "    <tr>\n",
       "      <th>South Padre Island</th>\n",
       "      <td>NaN</td>\n",
       "    </tr>\n",
       "    <tr>\n",
       "      <th>Puerto Vallarta</th>\n",
       "      <td>NaN</td>\n",
       "    </tr>\n",
       "    <tr>\n",
       "      <th>Bahamas</th>\n",
       "      <td>NaN</td>\n",
       "    </tr>\n",
       "    <tr>\n",
       "      <th>Cancun</th>\n",
       "      <td>NaN</td>\n",
       "    </tr>\n",
       "    <tr>\n",
       "      <th>Las Vegas</th>\n",
       "      <td>NaN</td>\n",
       "    </tr>\n",
       "    <tr>\n",
       "      <th>Jamaica</th>\n",
       "      <td>NaN</td>\n",
       "    </tr>\n",
       "    <tr>\n",
       "      <th>Miami</th>\n",
       "      <td>NaN</td>\n",
       "    </tr>\n",
       "    <tr>\n",
       "      <th>Dominican Republic</th>\n",
       "      <td>Further reading</td>\n",
       "    </tr>\n",
       "    <tr>\n",
       "      <th>South Padre Island</th>\n",
       "      <td>NaN</td>\n",
       "    </tr>\n",
       "    <tr>\n",
       "      <th>Puerto Vallarta</th>\n",
       "      <td>NaN</td>\n",
       "    </tr>\n",
       "    <tr>\n",
       "      <th>Bahamas</th>\n",
       "      <td>NaN</td>\n",
       "    </tr>\n",
       "    <tr>\n",
       "      <th>Cancun</th>\n",
       "      <td>NaN</td>\n",
       "    </tr>\n",
       "    <tr>\n",
       "      <th>Las Vegas</th>\n",
       "      <td>NaN</td>\n",
       "    </tr>\n",
       "    <tr>\n",
       "      <th>Jamaica</th>\n",
       "      <td>NaN</td>\n",
       "    </tr>\n",
       "    <tr>\n",
       "      <th>Miami</th>\n",
       "      <td>NaN</td>\n",
       "    </tr>\n",
       "    <tr>\n",
       "      <th>Dominican Republic</th>\n",
       "      <td>External links</td>\n",
       "    </tr>\n",
       "    <tr>\n",
       "      <th>South Padre Island</th>\n",
       "      <td>NaN</td>\n",
       "    </tr>\n",
       "    <tr>\n",
       "      <th>Puerto Vallarta</th>\n",
       "      <td>NaN</td>\n",
       "    </tr>\n",
       "    <tr>\n",
       "      <th>Bahamas</th>\n",
       "      <td>NaN</td>\n",
       "    </tr>\n",
       "  </tbody>\n",
       "</table>\n",
       "<p>448 rows × 1 columns</p>\n",
       "</div>"
      ],
      "text/plain": [
       "                                                     toc_values\n",
       "                                                               \n",
       "Cancun                               Etymology and coat of arms\n",
       "Las Vegas                                               History\n",
       "Jamaica                                               Etymology\n",
       "Miami                                                   History\n",
       "Dominican Republic                          Names and etymology\n",
       "South Padre Island                                          NaN\n",
       "Puerto Vallarta                                         History\n",
       "Bahamas                                               Etymology\n",
       "Cancun                                                  History\n",
       "Las Vegas                                             Geography\n",
       "Jamaica                                                 History\n",
       "Miami                                                 Geography\n",
       "Dominican Republic                                      History\n",
       "South Padre Island                                          NaN\n",
       "Puerto Vallarta          Pre-Hispanic times to the 19th century\n",
       "Bahamas                                                 History\n",
       "Cancun                                              City layout\n",
       "Las Vegas                                               Climate\n",
       "Jamaica                                              Prehistory\n",
       "Miami                                                   Geology\n",
       "Dominican Republic                         Pre-European history\n",
       "South Padre Island                                          NaN\n",
       "Puerto Vallarta        El Carrizal and Las Peñas - 19th century\n",
       "Bahamas                                     18th–19th centuries\n",
       "Cancun              Cancún Airport's old Control Tower Memorial\n",
       "Las Vegas                                    Nearby communities\n",
       "Jamaica                                Spanish rule (1509–1655)\n",
       "Miami                                                 Cityscape\n",
       "Dominican Republic                        European colonization\n",
       "South Padre Island                                          NaN\n",
       "...                                                         ...\n",
       "Jamaica                                                     NaN\n",
       "Miami                                                       NaN\n",
       "Dominican Republic                         Notes and references\n",
       "South Padre Island                                          NaN\n",
       "Puerto Vallarta                                             NaN\n",
       "Bahamas                                                     NaN\n",
       "Cancun                                                      NaN\n",
       "Las Vegas                                                   NaN\n",
       "Jamaica                                                     NaN\n",
       "Miami                                                       NaN\n",
       "Dominican Republic                                 Bibliography\n",
       "South Padre Island                                          NaN\n",
       "Puerto Vallarta                                             NaN\n",
       "Bahamas                                                     NaN\n",
       "Cancun                                                      NaN\n",
       "Las Vegas                                                   NaN\n",
       "Jamaica                                                     NaN\n",
       "Miami                                                       NaN\n",
       "Dominican Republic                              Further reading\n",
       "South Padre Island                                          NaN\n",
       "Puerto Vallarta                                             NaN\n",
       "Bahamas                                                     NaN\n",
       "Cancun                                                      NaN\n",
       "Las Vegas                                                   NaN\n",
       "Jamaica                                                     NaN\n",
       "Miami                                                       NaN\n",
       "Dominican Republic                               External links\n",
       "South Padre Island                                          NaN\n",
       "Puerto Vallarta                                             NaN\n",
       "Bahamas                                                     NaN\n",
       "\n",
       "[448 rows x 1 columns]"
      ]
     },
     "execution_count": 286,
     "metadata": {},
     "output_type": "execute_result"
    }
   ],
   "source": [
    "# good\n",
    "# if you look at more of the dataframe you can see NaN values\n",
    "toc_melt"
   ]
  },
  {
   "cell_type": "code",
   "execution_count": 287,
   "metadata": {},
   "outputs": [],
   "source": [
    "# these came from instances where the location index didn't have that many columns\n",
    "# they don't give us any information beyond that so we can drop them\n",
    "toc_melt.dropna(inplace=True)"
   ]
  },
  {
   "cell_type": "code",
   "execution_count": 288,
   "metadata": {
    "scrolled": true
   },
   "outputs": [
    {
     "data": {
      "text/html": [
       "<div>\n",
       "<style scoped>\n",
       "    .dataframe tbody tr th:only-of-type {\n",
       "        vertical-align: middle;\n",
       "    }\n",
       "\n",
       "    .dataframe tbody tr th {\n",
       "        vertical-align: top;\n",
       "    }\n",
       "\n",
       "    .dataframe thead th {\n",
       "        text-align: right;\n",
       "    }\n",
       "</style>\n",
       "<table border=\"1\" class=\"dataframe\">\n",
       "  <thead>\n",
       "    <tr style=\"text-align: right;\">\n",
       "      <th></th>\n",
       "      <th>toc_values</th>\n",
       "    </tr>\n",
       "    <tr>\n",
       "      <th></th>\n",
       "      <th></th>\n",
       "    </tr>\n",
       "  </thead>\n",
       "  <tbody>\n",
       "    <tr>\n",
       "      <th>Cancun</th>\n",
       "      <td>Etymology and coat of arms</td>\n",
       "    </tr>\n",
       "    <tr>\n",
       "      <th>Las Vegas</th>\n",
       "      <td>History</td>\n",
       "    </tr>\n",
       "    <tr>\n",
       "      <th>Jamaica</th>\n",
       "      <td>Etymology</td>\n",
       "    </tr>\n",
       "    <tr>\n",
       "      <th>Miami</th>\n",
       "      <td>History</td>\n",
       "    </tr>\n",
       "    <tr>\n",
       "      <th>Dominican Republic</th>\n",
       "      <td>Names and etymology</td>\n",
       "    </tr>\n",
       "    <tr>\n",
       "      <th>Puerto Vallarta</th>\n",
       "      <td>History</td>\n",
       "    </tr>\n",
       "    <tr>\n",
       "      <th>Bahamas</th>\n",
       "      <td>Etymology</td>\n",
       "    </tr>\n",
       "    <tr>\n",
       "      <th>Cancun</th>\n",
       "      <td>History</td>\n",
       "    </tr>\n",
       "    <tr>\n",
       "      <th>Las Vegas</th>\n",
       "      <td>Geography</td>\n",
       "    </tr>\n",
       "    <tr>\n",
       "      <th>Jamaica</th>\n",
       "      <td>History</td>\n",
       "    </tr>\n",
       "    <tr>\n",
       "      <th>Miami</th>\n",
       "      <td>Geography</td>\n",
       "    </tr>\n",
       "    <tr>\n",
       "      <th>Dominican Republic</th>\n",
       "      <td>History</td>\n",
       "    </tr>\n",
       "    <tr>\n",
       "      <th>Puerto Vallarta</th>\n",
       "      <td>Pre-Hispanic times to the 19th century</td>\n",
       "    </tr>\n",
       "    <tr>\n",
       "      <th>Bahamas</th>\n",
       "      <td>History</td>\n",
       "    </tr>\n",
       "    <tr>\n",
       "      <th>Cancun</th>\n",
       "      <td>City layout</td>\n",
       "    </tr>\n",
       "    <tr>\n",
       "      <th>Las Vegas</th>\n",
       "      <td>Climate</td>\n",
       "    </tr>\n",
       "    <tr>\n",
       "      <th>Jamaica</th>\n",
       "      <td>Prehistory</td>\n",
       "    </tr>\n",
       "    <tr>\n",
       "      <th>Miami</th>\n",
       "      <td>Geology</td>\n",
       "    </tr>\n",
       "    <tr>\n",
       "      <th>Dominican Republic</th>\n",
       "      <td>Pre-European history</td>\n",
       "    </tr>\n",
       "    <tr>\n",
       "      <th>Puerto Vallarta</th>\n",
       "      <td>El Carrizal and Las Peñas - 19th century</td>\n",
       "    </tr>\n",
       "    <tr>\n",
       "      <th>Bahamas</th>\n",
       "      <td>18th–19th centuries</td>\n",
       "    </tr>\n",
       "    <tr>\n",
       "      <th>Cancun</th>\n",
       "      <td>Cancún Airport's old Control Tower Memorial</td>\n",
       "    </tr>\n",
       "    <tr>\n",
       "      <th>Las Vegas</th>\n",
       "      <td>Nearby communities</td>\n",
       "    </tr>\n",
       "    <tr>\n",
       "      <th>Jamaica</th>\n",
       "      <td>Spanish rule (1509–1655)</td>\n",
       "    </tr>\n",
       "    <tr>\n",
       "      <th>Miami</th>\n",
       "      <td>Cityscape</td>\n",
       "    </tr>\n",
       "    <tr>\n",
       "      <th>Dominican Republic</th>\n",
       "      <td>European colonization</td>\n",
       "    </tr>\n",
       "    <tr>\n",
       "      <th>Puerto Vallarta</th>\n",
       "      <td>The early municipality - early 20th century</td>\n",
       "    </tr>\n",
       "    <tr>\n",
       "      <th>Bahamas</th>\n",
       "      <td>20th century</td>\n",
       "    </tr>\n",
       "    <tr>\n",
       "      <th>Cancun</th>\n",
       "      <td>Maya archaeological sites</td>\n",
       "    </tr>\n",
       "    <tr>\n",
       "      <th>Las Vegas</th>\n",
       "      <td>Neighborhoods</td>\n",
       "    </tr>\n",
       "    <tr>\n",
       "      <th>...</th>\n",
       "      <td>...</td>\n",
       "    </tr>\n",
       "    <tr>\n",
       "      <th>Dominican Republic</th>\n",
       "      <td>Haitian immigration</td>\n",
       "    </tr>\n",
       "    <tr>\n",
       "      <th>Puerto Vallarta</th>\n",
       "      <td>Beaches north of Puerto Vallarta</td>\n",
       "    </tr>\n",
       "    <tr>\n",
       "      <th>Jamaica</th>\n",
       "      <td>See also</td>\n",
       "    </tr>\n",
       "    <tr>\n",
       "      <th>Dominican Republic</th>\n",
       "      <td>Emigration</td>\n",
       "    </tr>\n",
       "    <tr>\n",
       "      <th>Puerto Vallarta</th>\n",
       "      <td>Local festivals</td>\n",
       "    </tr>\n",
       "    <tr>\n",
       "      <th>Jamaica</th>\n",
       "      <td>References</td>\n",
       "    </tr>\n",
       "    <tr>\n",
       "      <th>Dominican Republic</th>\n",
       "      <td>Health</td>\n",
       "    </tr>\n",
       "    <tr>\n",
       "      <th>Puerto Vallarta</th>\n",
       "      <td>Neighborhoods</td>\n",
       "    </tr>\n",
       "    <tr>\n",
       "      <th>Jamaica</th>\n",
       "      <td>Further reading</td>\n",
       "    </tr>\n",
       "    <tr>\n",
       "      <th>Dominican Republic</th>\n",
       "      <td>Education</td>\n",
       "    </tr>\n",
       "    <tr>\n",
       "      <th>Puerto Vallarta</th>\n",
       "      <td>Sister cities</td>\n",
       "    </tr>\n",
       "    <tr>\n",
       "      <th>Jamaica</th>\n",
       "      <td>External links</td>\n",
       "    </tr>\n",
       "    <tr>\n",
       "      <th>Dominican Republic</th>\n",
       "      <td>Crime</td>\n",
       "    </tr>\n",
       "    <tr>\n",
       "      <th>Puerto Vallarta</th>\n",
       "      <td>See also</td>\n",
       "    </tr>\n",
       "    <tr>\n",
       "      <th>Dominican Republic</th>\n",
       "      <td>Culture</td>\n",
       "    </tr>\n",
       "    <tr>\n",
       "      <th>Puerto Vallarta</th>\n",
       "      <td>Notes</td>\n",
       "    </tr>\n",
       "    <tr>\n",
       "      <th>Dominican Republic</th>\n",
       "      <td>Visual arts</td>\n",
       "    </tr>\n",
       "    <tr>\n",
       "      <th>Puerto Vallarta</th>\n",
       "      <td>References</td>\n",
       "    </tr>\n",
       "    <tr>\n",
       "      <th>Dominican Republic</th>\n",
       "      <td>Architecture</td>\n",
       "    </tr>\n",
       "    <tr>\n",
       "      <th>Puerto Vallarta</th>\n",
       "      <td>External links</td>\n",
       "    </tr>\n",
       "    <tr>\n",
       "      <th>Dominican Republic</th>\n",
       "      <td>Cuisine</td>\n",
       "    </tr>\n",
       "    <tr>\n",
       "      <th>Dominican Republic</th>\n",
       "      <td>Music and dance</td>\n",
       "    </tr>\n",
       "    <tr>\n",
       "      <th>Dominican Republic</th>\n",
       "      <td>Fashion</td>\n",
       "    </tr>\n",
       "    <tr>\n",
       "      <th>Dominican Republic</th>\n",
       "      <td>National symbols</td>\n",
       "    </tr>\n",
       "    <tr>\n",
       "      <th>Dominican Republic</th>\n",
       "      <td>Sports</td>\n",
       "    </tr>\n",
       "    <tr>\n",
       "      <th>Dominican Republic</th>\n",
       "      <td>See also</td>\n",
       "    </tr>\n",
       "    <tr>\n",
       "      <th>Dominican Republic</th>\n",
       "      <td>Notes and references</td>\n",
       "    </tr>\n",
       "    <tr>\n",
       "      <th>Dominican Republic</th>\n",
       "      <td>Bibliography</td>\n",
       "    </tr>\n",
       "    <tr>\n",
       "      <th>Dominican Republic</th>\n",
       "      <td>Further reading</td>\n",
       "    </tr>\n",
       "    <tr>\n",
       "      <th>Dominican Republic</th>\n",
       "      <td>External links</td>\n",
       "    </tr>\n",
       "  </tbody>\n",
       "</table>\n",
       "<p>272 rows × 1 columns</p>\n",
       "</div>"
      ],
      "text/plain": [
       "                                                     toc_values\n",
       "                                                               \n",
       "Cancun                               Etymology and coat of arms\n",
       "Las Vegas                                               History\n",
       "Jamaica                                               Etymology\n",
       "Miami                                                   History\n",
       "Dominican Republic                          Names and etymology\n",
       "Puerto Vallarta                                         History\n",
       "Bahamas                                               Etymology\n",
       "Cancun                                                  History\n",
       "Las Vegas                                             Geography\n",
       "Jamaica                                                 History\n",
       "Miami                                                 Geography\n",
       "Dominican Republic                                      History\n",
       "Puerto Vallarta          Pre-Hispanic times to the 19th century\n",
       "Bahamas                                                 History\n",
       "Cancun                                              City layout\n",
       "Las Vegas                                               Climate\n",
       "Jamaica                                              Prehistory\n",
       "Miami                                                   Geology\n",
       "Dominican Republic                         Pre-European history\n",
       "Puerto Vallarta        El Carrizal and Las Peñas - 19th century\n",
       "Bahamas                                     18th–19th centuries\n",
       "Cancun              Cancún Airport's old Control Tower Memorial\n",
       "Las Vegas                                    Nearby communities\n",
       "Jamaica                                Spanish rule (1509–1655)\n",
       "Miami                                                 Cityscape\n",
       "Dominican Republic                        European colonization\n",
       "Puerto Vallarta     The early municipality - early 20th century\n",
       "Bahamas                                            20th century\n",
       "Cancun                                Maya archaeological sites\n",
       "Las Vegas                                         Neighborhoods\n",
       "...                                                         ...\n",
       "Dominican Republic                          Haitian immigration\n",
       "Puerto Vallarta                Beaches north of Puerto Vallarta\n",
       "Jamaica                                                See also\n",
       "Dominican Republic                                   Emigration\n",
       "Puerto Vallarta                                 Local festivals\n",
       "Jamaica                                              References\n",
       "Dominican Republic                                       Health\n",
       "Puerto Vallarta                                   Neighborhoods\n",
       "Jamaica                                         Further reading\n",
       "Dominican Republic                                    Education\n",
       "Puerto Vallarta                                   Sister cities\n",
       "Jamaica                                          External links\n",
       "Dominican Republic                                        Crime\n",
       "Puerto Vallarta                                        See also\n",
       "Dominican Republic                                      Culture\n",
       "Puerto Vallarta                                           Notes\n",
       "Dominican Republic                                  Visual arts\n",
       "Puerto Vallarta                                      References\n",
       "Dominican Republic                                 Architecture\n",
       "Puerto Vallarta                                  External links\n",
       "Dominican Republic                                      Cuisine\n",
       "Dominican Republic                              Music and dance\n",
       "Dominican Republic                                      Fashion\n",
       "Dominican Republic                             National symbols\n",
       "Dominican Republic                                       Sports\n",
       "Dominican Republic                                     See also\n",
       "Dominican Republic                         Notes and references\n",
       "Dominican Republic                                 Bibliography\n",
       "Dominican Republic                              Further reading\n",
       "Dominican Republic                               External links\n",
       "\n",
       "[272 rows x 1 columns]"
      ]
     },
     "execution_count": 288,
     "metadata": {},
     "output_type": "execute_result"
    }
   ],
   "source": [
    "# look at the dataframe now\n",
    "toc_melt"
   ]
  },
  {
   "cell_type": "code",
   "execution_count": 289,
   "metadata": {},
   "outputs": [],
   "source": [
    "# join the melted data back with our original df and store\n",
    "df = df.join(toc_melt)"
   ]
  },
  {
   "cell_type": "code",
   "execution_count": 290,
   "metadata": {},
   "outputs": [
    {
     "data": {
      "text/html": [
       "<div>\n",
       "<style scoped>\n",
       "    .dataframe tbody tr th:only-of-type {\n",
       "        vertical-align: middle;\n",
       "    }\n",
       "\n",
       "    .dataframe tbody tr th {\n",
       "        vertical-align: top;\n",
       "    }\n",
       "\n",
       "    .dataframe thead th {\n",
       "        text-align: right;\n",
       "    }\n",
       "</style>\n",
       "<table border=\"1\" class=\"dataframe\">\n",
       "  <thead>\n",
       "    <tr style=\"text-align: right;\">\n",
       "      <th></th>\n",
       "      <th>scraped</th>\n",
       "      <th>toc</th>\n",
       "      <th>toc_values</th>\n",
       "    </tr>\n",
       "  </thead>\n",
       "  <tbody>\n",
       "    <tr>\n",
       "      <th>Bahamas</th>\n",
       "      <td>&lt;html class=\"client-nojs\" dir=\"ltr\" lang=\"en\"&gt;...</td>\n",
       "      <td>[Etymology, History, 18th–19th centuries, 20th...</td>\n",
       "      <td>Etymology</td>\n",
       "    </tr>\n",
       "    <tr>\n",
       "      <th>Bahamas</th>\n",
       "      <td>&lt;html class=\"client-nojs\" dir=\"ltr\" lang=\"en\"&gt;...</td>\n",
       "      <td>[Etymology, History, 18th–19th centuries, 20th...</td>\n",
       "      <td>History</td>\n",
       "    </tr>\n",
       "    <tr>\n",
       "      <th>Bahamas</th>\n",
       "      <td>&lt;html class=\"client-nojs\" dir=\"ltr\" lang=\"en\"&gt;...</td>\n",
       "      <td>[Etymology, History, 18th–19th centuries, 20th...</td>\n",
       "      <td>18th–19th centuries</td>\n",
       "    </tr>\n",
       "    <tr>\n",
       "      <th>Bahamas</th>\n",
       "      <td>&lt;html class=\"client-nojs\" dir=\"ltr\" lang=\"en\"&gt;...</td>\n",
       "      <td>[Etymology, History, 18th–19th centuries, 20th...</td>\n",
       "      <td>20th century</td>\n",
       "    </tr>\n",
       "    <tr>\n",
       "      <th>Bahamas</th>\n",
       "      <td>&lt;html class=\"client-nojs\" dir=\"ltr\" lang=\"en\"&gt;...</td>\n",
       "      <td>[Etymology, History, 18th–19th centuries, 20th...</td>\n",
       "      <td>Post-Second World War</td>\n",
       "    </tr>\n",
       "  </tbody>\n",
       "</table>\n",
       "</div>"
      ],
      "text/plain": [
       "                                                   scraped  \\\n",
       "Bahamas  <html class=\"client-nojs\" dir=\"ltr\" lang=\"en\">...   \n",
       "Bahamas  <html class=\"client-nojs\" dir=\"ltr\" lang=\"en\">...   \n",
       "Bahamas  <html class=\"client-nojs\" dir=\"ltr\" lang=\"en\">...   \n",
       "Bahamas  <html class=\"client-nojs\" dir=\"ltr\" lang=\"en\">...   \n",
       "Bahamas  <html class=\"client-nojs\" dir=\"ltr\" lang=\"en\">...   \n",
       "\n",
       "                                                       toc  \\\n",
       "Bahamas  [Etymology, History, 18th–19th centuries, 20th...   \n",
       "Bahamas  [Etymology, History, 18th–19th centuries, 20th...   \n",
       "Bahamas  [Etymology, History, 18th–19th centuries, 20th...   \n",
       "Bahamas  [Etymology, History, 18th–19th centuries, 20th...   \n",
       "Bahamas  [Etymology, History, 18th–19th centuries, 20th...   \n",
       "\n",
       "                    toc_values  \n",
       "Bahamas              Etymology  \n",
       "Bahamas                History  \n",
       "Bahamas    18th–19th centuries  \n",
       "Bahamas           20th century  \n",
       "Bahamas  Post-Second World War  "
      ]
     },
     "execution_count": 290,
     "metadata": {},
     "output_type": "execute_result"
    }
   ],
   "source": [
    "# look what happened\n",
    "df.head()"
   ]
  },
  {
   "cell_type": "code",
   "execution_count": 291,
   "metadata": {},
   "outputs": [],
   "source": [
    "# we still have the \"toc\" column, but we don't really need it anymore because we have the \"toc_values\" column\n",
    "# let's drop the \"toc\" column\n",
    "df.drop(columns='toc', inplace=True)"
   ]
  },
  {
   "cell_type": "code",
   "execution_count": 292,
   "metadata": {},
   "outputs": [
    {
     "data": {
      "text/plain": [
       "Bahamas               35\n",
       "Cancun                17\n",
       "Dominican Republic    56\n",
       "Jamaica               43\n",
       "Las Vegas             36\n",
       "Miami                 39\n",
       "Puerto Vallarta       46\n",
       "South Padre Island     0\n",
       "Name: toc_values, dtype: int64"
      ]
     },
     "execution_count": 292,
     "metadata": {},
     "output_type": "execute_result"
    }
   ],
   "source": [
    "# since we dropped the \"toc\" column we have to find a new way to count the number of \"toc_values\"\n",
    "# to do these we just need to `groupby` our index and `count` our \"toc_values\"\n",
    "df.groupby(level=0).toc_values.count()"
   ]
  },
  {
   "cell_type": "code",
   "execution_count": 293,
   "metadata": {},
   "outputs": [
    {
     "data": {
      "image/png": "[encoded data removed]",
      "text/plain": [
       "<Figure size 432x288 with 1 Axes>"
      ]
     },
     "metadata": {
      "needs_background": "light"
     },
     "output_type": "display_data"
    }
   ],
   "source": [
    "# voila!\n",
    "# we get the same results, and we can graph it the same way too\n",
    "df.groupby(level=0).toc_values.count().sort_values().plot.bar();"
   ]
  },
  {
   "cell_type": "code",
   "execution_count": 294,
   "metadata": {
    "scrolled": true
   },
   "outputs": [
    {
     "data": {
      "text/plain": [
       "toc_values\n",
       "18th century                                   1\n",
       "18th–19th centuries                            1\n",
       "1996–present                                   1\n",
       "20th century                                   1\n",
       "20th century (1900–30)                         1\n",
       "20th century immigration                       1\n",
       "Administrative divisions                       3\n",
       "Agriculture                                    1\n",
       "Air transport                                  1\n",
       "Airports                                       1\n",
       "Amateur teams                                  1\n",
       "Architecture                                   1\n",
       "Armed forces                                   1\n",
       "Beaches South of Puerto Vallarta               1\n",
       "Beaches and beach towns                        1\n",
       "Beaches and parks                              1\n",
       "Beaches in Puerto Vallarta                     1\n",
       "Beaches north of Puerto Vallarta               1\n",
       "Bibliography                                   1\n",
       "British rule (1655–1962)                       1\n",
       "Broadcast                                      1\n",
       "Bus service                                    1\n",
       "Bus station and regional buses                 1\n",
       "Cancún Airport's old Control Tower Memorial    1\n",
       "Castaway Cay                                   1\n",
       "City Commission                                1\n",
       "City council                                   1\n",
       "City layout                                    1\n",
       "Cityscape                                      1\n",
       "Civic engagement                               1\n",
       "                                              ..\n",
       "Racial and ethnic groups                       1\n",
       "Rail                                           1\n",
       "Railways                                       1\n",
       "References                                     6\n",
       "Religion                                       3\n",
       "Restoration republic                           1\n",
       "Roadways                                       1\n",
       "Santo Domingo Metro                            1\n",
       "See also                                       7\n",
       "Seismic history                                1\n",
       "Sister cities                                  2\n",
       "Social history                                 1\n",
       "Society                                        1\n",
       "South Shores beaches                           1\n",
       "Spanish rule (1509–1655)                       1\n",
       "Sport                                          2\n",
       "Sports                                         4\n",
       "The early municipality - early 20th century    1\n",
       "The modern resort - 1960s to the present       1\n",
       "Tourism                                        3\n",
       "Tourism and conventions                        1\n",
       "Tourism trends                                 1\n",
       "Transport                                      1\n",
       "Transportation                                 5\n",
       "Trujillo Age (1930–61)                         1\n",
       "Twin and sister cities                         1\n",
       "Unification of Hispaniola (1822–44)            1\n",
       "Universities                                   1\n",
       "Visual arts                                    1\n",
       "Water pollution                                1\n",
       "Name: scraped, Length: 182, dtype: int64"
      ]
     },
     "execution_count": 294,
     "metadata": {},
     "output_type": "execute_result"
    }
   ],
   "source": [
    "# the cool thing about extracting the toc_values is that we can now use the column values independently\n",
    "# for example, let's group on the \"toc_values\" column and count the number of locations that share them\n",
    "# we know that each location has exactly one unique scraped value, so we'll use it as our column for aggregation\n",
    "df.groupby('toc_values').scraped.count()"
   ]
  },
  {
   "cell_type": "code",
   "execution_count": 295,
   "metadata": {
    "scrolled": true
   },
   "outputs": [
    {
     "data": {
      "text/plain": [
       "toc_values\n",
       "See also                                         7\n",
       "External links                                   7\n",
       "History                                          7\n",
       "Education                                        7\n",
       "Economy                                          6\n",
       "References                                       6\n",
       "Climate                                          6\n",
       "Further reading                                  5\n",
       "Demographics                                     5\n",
       "Transportation                                   5\n",
       "Geography                                        4\n",
       "Culture                                          4\n",
       "Sports                                           4\n",
       "Government and politics                          3\n",
       "Languages                                        3\n",
       "Notes                                            3\n",
       "Neighborhoods                                    3\n",
       "Religion                                         3\n",
       "Cuisine                                          3\n",
       "Tourism                                          3\n",
       "Administrative divisions                         3\n",
       "Colleges and universities                        2\n",
       "Media                                            2\n",
       "Emigration                                       2\n",
       "Political culture                                2\n",
       "Crime                                            2\n",
       "Military                                         2\n",
       "Primary and secondary schools                    2\n",
       "Etymology                                        2\n",
       "Sister cities                                    2\n",
       "                                                ..\n",
       "International relations                          1\n",
       "Independence from Spain (1821)                   1\n",
       "Independence from Haiti (1844)                   1\n",
       "Visual arts                                      1\n",
       "Hurricane Wilma                                  1\n",
       "Hurricane Patricia                               1\n",
       "Hurricane Gilbert                                1\n",
       "Hurricane Dean                                   1\n",
       "Health                                           1\n",
       "Lic. Gustavo Díaz Ordaz International Airport    1\n",
       "Life Below Water                                 1\n",
       "List of teams                                    1\n",
       "Museums and visual arts                          1\n",
       "Newspapers                                       1\n",
       "Nearby communities                               1\n",
       "National flower                                  1\n",
       "National flag                                    1\n",
       "Names and etymology                              1\n",
       "Music and dance                                  1\n",
       "Music                                            1\n",
       "Minor professional teams                         1\n",
       "Literature                                       1\n",
       "Maya archaeological sites                        1\n",
       "Major professional teams                         1\n",
       "Major cities                                     1\n",
       "Magazines                                        1\n",
       "Local transportation                             1\n",
       "Local food specialties                           1\n",
       "Local festivals                                  1\n",
       "18th century                                     1\n",
       "Name: scraped, Length: 182, dtype: int64"
      ]
     },
     "execution_count": 295,
     "metadata": {},
     "output_type": "execute_result"
    }
   ],
   "source": [
    "# a quick look at the top few rows and we can see 3 locations share the toc_value of \"Administrative Divisions\"\n",
    "# lets `sort_values` in descending and see what else is shared\n",
    "df.groupby('toc_values').scraped.count().sort_values(ascending=False)"
   ]
  },
  {
   "cell_type": "code",
   "execution_count": 296,
   "metadata": {},
   "outputs": [
    {
     "data": {
      "text/plain": [
       "scraped\n",
       "1    147\n",
       "2     14\n",
       "3      8\n",
       "4      3\n",
       "5      3\n",
       "6      3\n",
       "7      4\n",
       "Name: toc_values, dtype: int64"
      ]
     },
     "execution_count": 296,
     "metadata": {},
     "output_type": "execute_result"
    }
   ],
   "source": [
    "# some interesting stuff here\n",
    "# we can go even deeper by grouping on our share counts and then counting the number of toc_values in each\n",
    "df.groupby('toc_values').scraped.count().reset_index().groupby('scraped').toc_values.count()"
   ]
  },
  {
   "cell_type": "code",
   "execution_count": 297,
   "metadata": {},
   "outputs": [
    {
     "data": {
      "image/png": "[encoded data removed]",
      "text/plain": [
       "<Figure size 432x288 with 1 Axes>"
      ]
     },
     "metadata": {
      "needs_background": "light"
     },
     "output_type": "display_data"
    }
   ],
   "source": [
    "# this table shows us that there are 147 toc_values that belong to exactly one location, 14 that belong to two, etc.\n",
    "# let's graph this and add some labels so we know what's going on\n",
    "# create the graph, add a `title` parameter, store as `ax`\n",
    "ax = df.groupby('toc_values').scraped.count().reset_index().groupby('scraped').toc_values.count().plot.bar(title='toc_values shared by locations')\n",
    "# set the x-label\n",
    "ax.set_xlabel('number of locations')\n",
    "# set the y-label\n",
    "ax.set_ylabel('number of toc_values');"
   ]
  },
  {
   "cell_type": "code",
   "execution_count": 298,
   "metadata": {
    "scrolled": true
   },
   "outputs": [
    {
     "data": {
      "text/plain": [
       "toc_values\n",
       "Education         7.0\n",
       "External links    7.0\n",
       "History           7.0\n",
       "See also          7.0\n",
       "Name: scraped, dtype: float64"
      ]
     },
     "execution_count": 298,
     "metadata": {},
     "output_type": "execute_result"
    }
   ],
   "source": [
    "# let's see which 4 toc_values belong to 7 locations\n",
    "df.groupby('toc_values').scraped.count().where(lambda x : x == 7).dropna()"
   ]
  },
  {
   "cell_type": "code",
   "execution_count": 299,
   "metadata": {
    "scrolled": false
   },
   "outputs": [],
   "source": [
    "# it's important to note that there is more than one way to do things in python\n",
    "# but according to the \"Zen of Python\":\n",
    "# 'There should be one-- and preferably only one --obvious way to do it.\n",
    "# Although that way may not be obvious at first unless you're Dutch.'\n",
    "import this"
   ]
  },
  {
   "cell_type": "code",
   "execution_count": 300,
   "metadata": {},
   "outputs": [
    {
     "data": {
      "text/plain": [
       "toc_values\n",
       "Education         7\n",
       "External links    7\n",
       "History           7\n",
       "See also          7\n",
       "Name: scraped, dtype: int64"
      ]
     },
     "execution_count": 300,
     "metadata": {},
     "output_type": "execute_result"
    }
   ],
   "source": [
    "# now I'm not Dutch\n",
    "# so for a long time my go to solution for finding the toc_values shared amongst 7 locations would have been the following\n",
    "test = df.groupby('toc_values').scraped.count()\n",
    "test.loc[test == 7]"
   ]
  },
  {
   "cell_type": "code",
   "execution_count": 302,
   "metadata": {},
   "outputs": [],
   "source": [
    "# obviously this solution works, but the downsides are:\n",
    "# 1) I had to define a new variable which sucks up memory\n",
    "# 2) defining a new variable is pointless if all you're going to do is filter it to see something\n",
    "# hence the `.where` method is a much better solution\n",
    "# getting back to the toc_values, a couple of these aren't much use to us right now (\"External Links\", \"See also\")\n",
    "# \"Education\" and \"History\" sound intersting, and since 7/8 of the locations share it, we can probably make columns for them\n",
    "# let's limits our \"scraped\" to just the Bahamas and find the \"education\" section\n",
    "bahamas_scraped = df.loc['Bahamas', 'scraped'].unique()[0]"
   ]
  },
  {
   "cell_type": "code",
   "execution_count": 303,
   "metadata": {},
   "outputs": [],
   "source": [
    "# looking at the html we can see that the \"Education\" section is marked by 'span' with attributes 'class' and 'id'\n",
    "bahamas_scraped_education_span = bahamas_scraped.find(name='span', attrs={\n",
    "    'class' : 'mw-headline',\n",
    "    'id' : 'Education'\n",
    "})"
   ]
  },
  {
   "cell_type": "code",
   "execution_count": 304,
   "metadata": {
    "scrolled": true
   },
   "outputs": [],
   "source": [
    "# https://stackoverflow.com/questions/42450743/extracting-the-text-between-two-header-tags-using-beautifulsoup-in-python\n",
    "\n",
    "# what I want to do is pull all of the tags after the \"Education\" header, but before the next header\n",
    "# to do this we will reference the 'span' tag,\n",
    "# take a step back to its parent (<h2>),\n",
    "# then use the method `.nextSiblingGenerator` to run through the siblings until we see another <h2> tag\n",
    "# store the results in a list\n",
    "# define the empty list...\n",
    "education = []\n",
    "# loop through the parent siblings...\n",
    "for i in bahamas_scraped_education_span.parent.nextSiblingGenerator():\n",
    "    # check the sibling name isn't \"h2\"...\n",
    "    if i.name == 'h2':\n",
    "        break\n",
    "    # append the sibling...\n",
    "    else:\n",
    "        education.append(i)"
   ]
  },
  {
   "cell_type": "code",
   "execution_count": 305,
   "metadata": {},
   "outputs": [
    {
     "data": {
      "text/plain": [
       "['\\n',\n",
       " <div class=\"hatnote navigation-not-searchable\" role=\"note\">Main article: <a href=\"/wiki/Education_in_the_Bahamas\" title=\"Education in the Bahamas\">Education in the Bahamas</a></div>,\n",
       " '\\n',\n",
       " <p>According to 1995 estimates, 98.2% of the Bahamian adult population is literate.<sup class=\"noprint Inline-Template Template-Fact\" style=\"white-space:nowrap;\">[<i><a href=\"/wiki/Wikipedia:Citation_needed\" title=\"Wikipedia:Citation needed\"><span title=\"This claim needs references to reliable sources. (February 2017)\">citation needed</span></a></i>]</sup>\n",
       " </p>,\n",
       " '\\n']"
      ]
     },
     "execution_count": 305,
     "metadata": {},
     "output_type": "execute_result"
    }
   ],
   "source": [
    "# let's look at our education list\n",
    "education"
   ]
  },
  {
   "cell_type": "code",
   "execution_count": 306,
   "metadata": {},
   "outputs": [
    {
     "data": {
      "text/plain": [
       "[bs4.element.NavigableString,\n",
       " bs4.element.Tag,\n",
       " bs4.element.NavigableString,\n",
       " bs4.element.Tag,\n",
       " bs4.element.NavigableString]"
      ]
     },
     "execution_count": 306,
     "metadata": {},
     "output_type": "execute_result"
    }
   ],
   "source": [
    "# see the 3 '\\n' in our list?\n",
    "# we don't want those as they don't provide any information\n",
    "# to this we can check to see what their type is compared to the other items in our list\n",
    "[type(i) for i in education]"
   ]
  },
  {
   "cell_type": "code",
   "execution_count": 307,
   "metadata": {},
   "outputs": [],
   "source": [
    "# the '\\n' have type `bs4.element.NavigableString` and the other items have type `bs4.element.Tag`\n",
    "# to keep the NavigableStrings from getting in our list we can filter them out with an `if` statement\n",
    "# but first we need to import `element` from `bs4`\n",
    "from bs4 import element"
   ]
  },
  {
   "cell_type": "code",
   "execution_count": 308,
   "metadata": {},
   "outputs": [],
   "source": [
    "education = []\n",
    "for i in bahamas_scraped_education_span.parent.nextSiblingGenerator():\n",
    "    if i.name == 'h2':\n",
    "        break\n",
    "    else:\n",
    "        # filter out the `NavigableString`\n",
    "        if type(i) != element.NavigableString:\n",
    "            education.append(i)"
   ]
  },
  {
   "cell_type": "code",
   "execution_count": 309,
   "metadata": {},
   "outputs": [
    {
     "data": {
      "text/plain": [
       "[<div class=\"hatnote navigation-not-searchable\" role=\"note\">Main article: <a href=\"/wiki/Education_in_the_Bahamas\" title=\"Education in the Bahamas\">Education in the Bahamas</a></div>,\n",
       " <p>According to 1995 estimates, 98.2% of the Bahamian adult population is literate.<sup class=\"noprint Inline-Template Template-Fact\" style=\"white-space:nowrap;\">[<i><a href=\"/wiki/Wikipedia:Citation_needed\" title=\"Wikipedia:Citation needed\"><span title=\"This claim needs references to reliable sources. (February 2017)\">citation needed</span></a></i>]</sup>\n",
       " </p>]"
      ]
     },
     "execution_count": 309,
     "metadata": {},
     "output_type": "execute_result"
    }
   ],
   "source": [
    "# look at our list now\n",
    "education"
   ]
  },
  {
   "cell_type": "code",
   "execution_count": 384,
   "metadata": {},
   "outputs": [],
   "source": [
    "# perfect! let's repeat this for all other locations and store the results in an \"education_html\" series\n",
    "education_html = df.scraped.drop_duplicates().apply(lambda x : x.find(name='span', attrs={\n",
    "    'class' : 'mw-headline',\n",
    "    'id' : 'Education'\n",
    "}))"
   ]
  },
  {
   "cell_type": "code",
   "execution_count": 385,
   "metadata": {},
   "outputs": [
    {
     "data": {
      "text/plain": [
       "True"
      ]
     },
     "execution_count": 385,
     "metadata": {},
     "output_type": "execute_result"
    }
   ],
   "source": [
    "# check for nulls\n",
    "education_html.isnull().any()"
   ]
  },
  {
   "cell_type": "code",
   "execution_count": 386,
   "metadata": {},
   "outputs": [],
   "source": [
    "# since there are nulls, we will have to remember to dropna later\n",
    "# something else to note is that we cannot use a `break` inside a list-comprehension\n",
    "# there are methods for getting around this while still doing a \"one-liner\", but they are beyond the scope of this tutorial\n",
    "# this means we will have to define our own function and then apply it to our series\n",
    "# inside our function we will place our for-loop code almost as-is\n",
    "def education(x):\n",
    "    education = []\n",
    "    for i in x.parent.nextSiblingGenerator():\n",
    "        if i.name == 'h2':\n",
    "            break\n",
    "        else:\n",
    "            if type(i) != element.NavigableString:\n",
    "                education.append(i)\n",
    "    return education"
   ]
  },
  {
   "cell_type": "code",
   "execution_count": 387,
   "metadata": {
    "scrolled": true
   },
   "outputs": [
    {
     "data": {
      "text/plain": [
       "Bahamas               [<div class=\"hatnote navigation-not-searchable...\n",
       "Cancun                [<table class=\"box-Expand_section plainlinks m...\n",
       "Dominican Republic    [<div class=\"hatnote navigation-not-searchable...\n",
       "Jamaica               [<div class=\"hatnote navigation-not-searchable...\n",
       "Las Vegas             [<div class=\"hatnote navigation-not-searchable...\n",
       "Miami                 [<h3><span class=\"mw-headline\" id=\"Colleges_an...\n",
       "Puerto Vallarta       [<p>Puerto Vallarta has schools for all levels...\n",
       "Name: scraped, dtype: object"
      ]
     },
     "execution_count": 387,
     "metadata": {},
     "output_type": "execute_result"
    }
   ],
   "source": [
    "# there are two ways to apply our function\n",
    "# the first way is to use a lambda expression like we've been doing\n",
    "education_html.dropna().apply(lambda x : education(x))"
   ]
  },
  {
   "cell_type": "code",
   "execution_count": 389,
   "metadata": {
    "scrolled": true
   },
   "outputs": [
    {
     "data": {
      "text/plain": [
       "Bahamas               [<div class=\"hatnote navigation-not-searchable...\n",
       "Cancun                [<table class=\"box-Expand_section plainlinks m...\n",
       "Dominican Republic    [<div class=\"hatnote navigation-not-searchable...\n",
       "Jamaica               [<div class=\"hatnote navigation-not-searchable...\n",
       "Las Vegas             [<div class=\"hatnote navigation-not-searchable...\n",
       "Miami                 [<h3><span class=\"mw-headline\" id=\"Colleges_an...\n",
       "Puerto Vallarta       [<p>Puerto Vallarta has schools for all levels...\n",
       "Name: scraped, dtype: object"
      ]
     },
     "execution_count": 389,
     "metadata": {},
     "output_type": "execute_result"
    }
   ],
   "source": [
    "# the second way is just to apply the function\n",
    "education_html.dropna().apply(education)"
   ]
  },
  {
   "cell_type": "code",
   "execution_count": 391,
   "metadata": {
    "scrolled": true
   },
   "outputs": [],
   "source": [
    "# the reason the second way works is because when you are applying a function,\n",
    "# lambda is only needed when you want to do several things to the `x`\n",
    "# if you are doing just one thing (i.e. applying one function), you can use the function as the only parameter\n",
    "# let's convert our series `to_frame` and name it \"education\", then join it to `df`\n",
    "df = df.join(education_html.dropna().apply(education).to_frame(name='education'))"
   ]
  },
  {
   "cell_type": "code",
   "execution_count": 397,
   "metadata": {},
   "outputs": [],
   "source": [
    "# since we now have an education column we can remove the rows in our \"toc_values\" where it says \"Education\"\n",
    "df = df.loc[df.toc_values != 'Education'].copy()"
   ]
  },
  {
   "cell_type": "code",
   "execution_count": 411,
   "metadata": {},
   "outputs": [],
   "source": [
    "# exercise: repeat the above tasks for \"History\"\n",
    "df = df.join(df.scraped.drop_duplicates().apply(lambda x : x.find(name='span', attrs={\n",
    "    'class' : 'mw-headline',\n",
    "    'id' : 'History'\n",
    "})).dropna().apply(education).to_frame(name='history')).loc[df.toc_values != 'History'].copy()"
   ]
  },
  {
   "cell_type": "code",
   "execution_count": 413,
   "metadata": {},
   "outputs": [
    {
     "data": {
      "text/html": [
       "<div>\n",
       "<style scoped>\n",
       "    .dataframe tbody tr th:only-of-type {\n",
       "        vertical-align: middle;\n",
       "    }\n",
       "\n",
       "    .dataframe tbody tr th {\n",
       "        vertical-align: top;\n",
       "    }\n",
       "\n",
       "    .dataframe thead th {\n",
       "        text-align: right;\n",
       "    }\n",
       "</style>\n",
       "<table border=\"1\" class=\"dataframe\">\n",
       "  <thead>\n",
       "    <tr style=\"text-align: right;\">\n",
       "      <th></th>\n",
       "      <th>scraped</th>\n",
       "      <th>toc_values</th>\n",
       "      <th>education</th>\n",
       "      <th>history</th>\n",
       "    </tr>\n",
       "  </thead>\n",
       "  <tbody>\n",
       "    <tr>\n",
       "      <th>Bahamas</th>\n",
       "      <td>&lt;html class=\"client-nojs\" dir=\"ltr\" lang=\"en\"&gt;...</td>\n",
       "      <td>Etymology</td>\n",
       "      <td>[&lt;div class=\"hatnote navigation-not-searchable...</td>\n",
       "      <td>[&lt;div class=\"hatnote navigation-not-searchable...</td>\n",
       "    </tr>\n",
       "    <tr>\n",
       "      <th>Bahamas</th>\n",
       "      <td>&lt;html class=\"client-nojs\" dir=\"ltr\" lang=\"en\"&gt;...</td>\n",
       "      <td>18th–19th centuries</td>\n",
       "      <td>[&lt;div class=\"hatnote navigation-not-searchable...</td>\n",
       "      <td>[&lt;div class=\"hatnote navigation-not-searchable...</td>\n",
       "    </tr>\n",
       "    <tr>\n",
       "      <th>Bahamas</th>\n",
       "      <td>&lt;html class=\"client-nojs\" dir=\"ltr\" lang=\"en\"&gt;...</td>\n",
       "      <td>20th century</td>\n",
       "      <td>[&lt;div class=\"hatnote navigation-not-searchable...</td>\n",
       "      <td>[&lt;div class=\"hatnote navigation-not-searchable...</td>\n",
       "    </tr>\n",
       "    <tr>\n",
       "      <th>Bahamas</th>\n",
       "      <td>&lt;html class=\"client-nojs\" dir=\"ltr\" lang=\"en\"&gt;...</td>\n",
       "      <td>Post-Second World War</td>\n",
       "      <td>[&lt;div class=\"hatnote navigation-not-searchable...</td>\n",
       "      <td>[&lt;div class=\"hatnote navigation-not-searchable...</td>\n",
       "    </tr>\n",
       "    <tr>\n",
       "      <th>Bahamas</th>\n",
       "      <td>&lt;html class=\"client-nojs\" dir=\"ltr\" lang=\"en\"&gt;...</td>\n",
       "      <td>Geography</td>\n",
       "      <td>[&lt;div class=\"hatnote navigation-not-searchable...</td>\n",
       "      <td>[&lt;div class=\"hatnote navigation-not-searchable...</td>\n",
       "    </tr>\n",
       "  </tbody>\n",
       "</table>\n",
       "</div>"
      ],
      "text/plain": [
       "                                                   scraped  \\\n",
       "Bahamas  <html class=\"client-nojs\" dir=\"ltr\" lang=\"en\">...   \n",
       "Bahamas  <html class=\"client-nojs\" dir=\"ltr\" lang=\"en\">...   \n",
       "Bahamas  <html class=\"client-nojs\" dir=\"ltr\" lang=\"en\">...   \n",
       "Bahamas  <html class=\"client-nojs\" dir=\"ltr\" lang=\"en\">...   \n",
       "Bahamas  <html class=\"client-nojs\" dir=\"ltr\" lang=\"en\">...   \n",
       "\n",
       "                    toc_values  \\\n",
       "Bahamas              Etymology   \n",
       "Bahamas    18th–19th centuries   \n",
       "Bahamas           20th century   \n",
       "Bahamas  Post-Second World War   \n",
       "Bahamas              Geography   \n",
       "\n",
       "                                                 education  \\\n",
       "Bahamas  [<div class=\"hatnote navigation-not-searchable...   \n",
       "Bahamas  [<div class=\"hatnote navigation-not-searchable...   \n",
       "Bahamas  [<div class=\"hatnote navigation-not-searchable...   \n",
       "Bahamas  [<div class=\"hatnote navigation-not-searchable...   \n",
       "Bahamas  [<div class=\"hatnote navigation-not-searchable...   \n",
       "\n",
       "                                                   history  \n",
       "Bahamas  [<div class=\"hatnote navigation-not-searchable...  \n",
       "Bahamas  [<div class=\"hatnote navigation-not-searchable...  \n",
       "Bahamas  [<div class=\"hatnote navigation-not-searchable...  \n",
       "Bahamas  [<div class=\"hatnote navigation-not-searchable...  \n",
       "Bahamas  [<div class=\"hatnote navigation-not-searchable...  "
      ]
     },
     "execution_count": 413,
     "metadata": {},
     "output_type": "execute_result"
    }
   ],
   "source": [
    "# look at df\n",
    "df.head()"
   ]
  },
  {
   "cell_type": "code",
   "execution_count": 418,
   "metadata": {},
   "outputs": [
    {
     "data": {
      "text/plain": [
       "Bahamas                 2\n",
       "Cancun                  4\n",
       "Dominican Republic     10\n",
       "Jamaica                 8\n",
       "Las Vegas               6\n",
       "Miami                  15\n",
       "Puerto Vallarta         3\n",
       "South Padre Island    NaN\n",
       "Name: education, dtype: object"
      ]
     },
     "execution_count": 418,
     "metadata": {},
     "output_type": "execute_result"
    }
   ],
   "source": [
    "# now that we have two new columns, we can analyze them\n",
    "# let's see how many tags are in the education column with respect to location\n",
    "df.groupby(level=0).education.apply(lambda x : x.str.len()).drop_duplicates()"
   ]
  },
  {
   "cell_type": "code",
   "execution_count": 435,
   "metadata": {},
   "outputs": [
    {
     "data": {
      "text/plain": [
       "Bahamas                35\n",
       "Cancun                 12\n",
       "Dominican Republic    100\n",
       "Jamaica                31\n",
       "Las Vegas              18\n",
       "Puerto Vallarta        38\n",
       "South Padre Island    NaN\n",
       "Name: history, dtype: object"
      ]
     },
     "execution_count": 435,
     "metadata": {},
     "output_type": "execute_result"
    }
   ],
   "source": [
    "# let's also look at how many tags are in the history column\n",
    "df.groupby(level=0).history.apply(lambda x : x.str.len()).drop_duplicates()"
   ]
  },
  {
   "cell_type": "code",
   "execution_count": 444,
   "metadata": {},
   "outputs": [
    {
     "data": {
      "text/html": [
       "<div>\n",
       "<style scoped>\n",
       "    .dataframe tbody tr th:only-of-type {\n",
       "        vertical-align: middle;\n",
       "    }\n",
       "\n",
       "    .dataframe tbody tr th {\n",
       "        vertical-align: top;\n",
       "    }\n",
       "\n",
       "    .dataframe thead th {\n",
       "        text-align: right;\n",
       "    }\n",
       "</style>\n",
       "<table border=\"1\" class=\"dataframe\">\n",
       "  <thead>\n",
       "    <tr style=\"text-align: right;\">\n",
       "      <th></th>\n",
       "      <th>education</th>\n",
       "      <th>history</th>\n",
       "    </tr>\n",
       "  </thead>\n",
       "  <tbody>\n",
       "    <tr>\n",
       "      <th>Bahamas</th>\n",
       "      <td>2</td>\n",
       "      <td>35</td>\n",
       "    </tr>\n",
       "    <tr>\n",
       "      <th>Cancun</th>\n",
       "      <td>4</td>\n",
       "      <td>12</td>\n",
       "    </tr>\n",
       "    <tr>\n",
       "      <th>Dominican Republic</th>\n",
       "      <td>10</td>\n",
       "      <td>100</td>\n",
       "    </tr>\n",
       "    <tr>\n",
       "      <th>Jamaica</th>\n",
       "      <td>8</td>\n",
       "      <td>31</td>\n",
       "    </tr>\n",
       "    <tr>\n",
       "      <th>Las Vegas</th>\n",
       "      <td>6</td>\n",
       "      <td>18</td>\n",
       "    </tr>\n",
       "    <tr>\n",
       "      <th>Miami</th>\n",
       "      <td>15</td>\n",
       "      <td>12</td>\n",
       "    </tr>\n",
       "    <tr>\n",
       "      <th>Puerto Vallarta</th>\n",
       "      <td>3</td>\n",
       "      <td>38</td>\n",
       "    </tr>\n",
       "    <tr>\n",
       "      <th>South Padre Island</th>\n",
       "      <td>NaN</td>\n",
       "      <td>NaN</td>\n",
       "    </tr>\n",
       "  </tbody>\n",
       "</table>\n",
       "</div>"
      ],
      "text/plain": [
       "                   education history\n",
       "Bahamas                    2      35\n",
       "Cancun                     4      12\n",
       "Dominican Republic        10     100\n",
       "Jamaica                    8      31\n",
       "Las Vegas                  6      18\n",
       "Miami                     15      12\n",
       "Puerto Vallarta            3      38\n",
       "South Padre Island       NaN     NaN"
      ]
     },
     "execution_count": 444,
     "metadata": {},
     "output_type": "execute_result"
    }
   ],
   "source": [
    "# let's do them at the same time\n",
    "df.groupby(level=0)[[\n",
    "    'education',\n",
    "    'history'\n",
    "]].transform(lambda x : x.str.len()).drop_duplicates()"
   ]
  },
  {
   "cell_type": "code",
   "execution_count": 445,
   "metadata": {},
   "outputs": [
    {
     "data": {
      "image/png": "[encoded data removed]",
      "text/plain": [
       "<Figure size 720x432 with 1 Axes>"
      ]
     },
     "metadata": {
      "needs_background": "light"
     },
     "output_type": "display_data"
    }
   ],
   "source": [
    "# notice that we used the method `transform` rather than `apply`\n",
    "# if we had used apply we would have received an AttributeError\n",
    "# this is because the apply function is mean for series\n",
    "# what we have created before the transform is a `groupby` object, and the transform returns a dataframe\n",
    "# now let's plot our results\n",
    "df.groupby(level=0)[[\n",
    "    'education',\n",
    "    'history'\n",
    "]].transform(lambda x : x.str.len()).drop_duplicates().plot.bar(figsize=(10,6));"
   ]
  },
  {
   "cell_type": "code",
   "execution_count": null,
   "metadata": {},
   "outputs": [],
   "source": [
    "df.melt()"
   ]
  },
  {
   "cell_type": "code",
   "execution_count": 467,
   "metadata": {},
   "outputs": [
    {
     "data": {
      "text/html": [
       "<div>\n",
       "<style scoped>\n",
       "    .dataframe tbody tr th:only-of-type {\n",
       "        vertical-align: middle;\n",
       "    }\n",
       "\n",
       "    .dataframe tbody tr th {\n",
       "        vertical-align: top;\n",
       "    }\n",
       "\n",
       "    .dataframe thead th {\n",
       "        text-align: right;\n",
       "    }\n",
       "</style>\n",
       "<table border=\"1\" class=\"dataframe\">\n",
       "  <thead>\n",
       "    <tr style=\"text-align: right;\">\n",
       "      <th></th>\n",
       "      <th>count</th>\n",
       "      <th>nunique</th>\n",
       "    </tr>\n",
       "    <tr>\n",
       "      <th></th>\n",
       "      <th></th>\n",
       "      <th></th>\n",
       "    </tr>\n",
       "  </thead>\n",
       "  <tbody>\n",
       "    <tr>\n",
       "      <th>Bahamas</th>\n",
       "      <td>2</td>\n",
       "      <td>2</td>\n",
       "    </tr>\n",
       "    <tr>\n",
       "      <th>Cancun</th>\n",
       "      <td>4</td>\n",
       "      <td>3</td>\n",
       "    </tr>\n",
       "    <tr>\n",
       "      <th>Dominican Republic</th>\n",
       "      <td>10</td>\n",
       "      <td>3</td>\n",
       "    </tr>\n",
       "    <tr>\n",
       "      <th>Jamaica</th>\n",
       "      <td>8</td>\n",
       "      <td>3</td>\n",
       "    </tr>\n",
       "    <tr>\n",
       "      <th>Las Vegas</th>\n",
       "      <td>6</td>\n",
       "      <td>3</td>\n",
       "    </tr>\n",
       "    <tr>\n",
       "      <th>Miami</th>\n",
       "      <td>15</td>\n",
       "      <td>4</td>\n",
       "    </tr>\n",
       "    <tr>\n",
       "      <th>Puerto Vallarta</th>\n",
       "      <td>3</td>\n",
       "      <td>2</td>\n",
       "    </tr>\n",
       "  </tbody>\n",
       "</table>\n",
       "</div>"
      ],
      "text/plain": [
       "                    count  nunique\n",
       "                                  \n",
       "Bahamas                 2        2\n",
       "Cancun                  4        3\n",
       "Dominican Republic     10        3\n",
       "Jamaica                 8        3\n",
       "Las Vegas               6        3\n",
       "Miami                  15        4\n",
       "Puerto Vallarta         3        2"
      ]
     },
     "execution_count": 467,
     "metadata": {},
     "output_type": "execute_result"
    }
   ],
   "source": [
    "# it's clear that the Dominican Republic has more tags in the \"History\" section of the wiki\n",
    "# but Miami has the more tags in the \"Education\" section\n",
    "# let's dig a little further and see what kinds of tags are in each section starting with the \"education\" column\n",
    "df.education.dropna().apply(lambda x : [i.name for i in x]).apply(pd.Series).drop_duplicates().reset_index().melt(id_vars='index', value_name='education_tags').drop(columns='variable').rename(columns={\n",
    "    'index' : ''\n",
    "}).set_index('').dropna().groupby(level=0).education_tags.agg([\n",
    "    'count',\n",
    "    pd.Series.nunique\n",
    "])"
   ]
  }
 ],
 "metadata": {
  "kernelspec": {
   "display_name": "Python 3",
   "language": "python",
   "name": "python3"
  },
  "language_info": {
   "codemirror_mode": {
    "name": "ipython",
    "version": 3
   },
   "file_extension": ".py",
   "mimetype": "text/x-python",
   "name": "python",
   "nbconvert_exporter": "python",
   "pygments_lexer": "ipython3",
   "version": "3.7.2"
  }
 },
 "nbformat": 4,
 "nbformat_minor": 2
}
