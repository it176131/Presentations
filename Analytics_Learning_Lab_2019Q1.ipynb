{
 "cells": [
  {
   "cell_type": "markdown",
   "metadata": {},
   "source": [
    "# [8 of the best spring break party destinations](https://abcnews.go.com/GMA/Travel/best-spring-break-party-destinations/story?id=52904679)"
   ]
  },
  {
   "cell_type": "markdown",
   "metadata": {},
   "source": [
    "### Web Scraping"
   ]
  },
  {
   "cell_type": "markdown",
   "metadata": {},
   "source": [
    "##### Imports"
   ]
  },
  {
   "cell_type": "code",
   "execution_count": 1,
   "metadata": {},
   "outputs": [],
   "source": [
    "from bs4 import BeautifulSoup\n",
    "import requests"
   ]
  },
  {
   "cell_type": "markdown",
   "metadata": {},
   "source": [
    "##### URLs"
   ]
  },
  {
   "cell_type": "code",
   "execution_count": 2,
   "metadata": {},
   "outputs": [],
   "source": [
    "url = \"https://abcnews.go.com/GMA/Travel/best-spring-break-party-destinations/story?id=52904679\""
   ]
  },
  {
   "cell_type": "markdown",
   "metadata": {},
   "source": [
    "##### Requesting the Page"
   ]
  },
  {
   "cell_type": "code",
   "execution_count": 3,
   "metadata": {},
   "outputs": [],
   "source": [
    "r = requests.get(url)"
   ]
  },
  {
   "cell_type": "markdown",
   "metadata": {},
   "source": [
    "##### Get Text"
   ]
  },
  {
   "cell_type": "code",
   "execution_count": 4,
   "metadata": {
    "scrolled": true
   },
   "outputs": [],
   "source": [
    "t = r.text"
   ]
  },
  {
   "cell_type": "markdown",
   "metadata": {},
   "source": [
    "##### Close the request"
   ]
  },
  {
   "cell_type": "code",
   "execution_count": 5,
   "metadata": {},
   "outputs": [],
   "source": [
    "r.close()"
   ]
  },
  {
   "cell_type": "markdown",
   "metadata": {},
   "source": [
    "##### Make BeautifulSoup"
   ]
  },
  {
   "cell_type": "code",
   "execution_count": 6,
   "metadata": {},
   "outputs": [],
   "source": [
    "soup = BeautifulSoup(t)"
   ]
  },
  {
   "cell_type": "markdown",
   "metadata": {},
   "source": [
    "##### What is Soup?"
   ]
  },
  {
   "cell_type": "code",
   "execution_count": 7,
   "metadata": {},
   "outputs": [
    {
     "data": {
      "text/plain": [
       "str"
      ]
     },
     "execution_count": 7,
     "metadata": {},
     "output_type": "execute_result"
    }
   ],
   "source": [
    "type(t)"
   ]
  },
  {
   "cell_type": "code",
   "execution_count": 8,
   "metadata": {
    "scrolled": true
   },
   "outputs": [],
   "source": [
    "str?"
   ]
  },
  {
   "cell_type": "code",
   "execution_count": 9,
   "metadata": {
    "scrolled": false
   },
   "outputs": [
    {
     "data": {
      "text/plain": [
       "bs4.BeautifulSoup"
      ]
     },
     "execution_count": 9,
     "metadata": {},
     "output_type": "execute_result"
    }
   ],
   "source": [
    "type(soup)"
   ]
  },
  {
   "cell_type": "code",
   "execution_count": 10,
   "metadata": {},
   "outputs": [],
   "source": [
    "BeautifulSoup?"
   ]
  },
  {
   "cell_type": "markdown",
   "metadata": {},
   "source": [
    "##### Soup can `find` things"
   ]
  },
  {
   "cell_type": "code",
   "execution_count": 11,
   "metadata": {},
   "outputs": [
    {
     "name": "stdout",
     "output_type": "stream",
     "text": [
      "#\n",
      "/\n",
      "https://abcnews.go.com/Video\n",
      "https://abcnews.go.com/US\n",
      "https://abcnews.go.com/International\n",
      "https://abcnews.go.com/Politics\n",
      "https://abcnews.go.com/Lifestyle\n",
      "https://abcnews.go.com/Entertainment\n",
      "https://abcnews.go.com/VR\n",
      "https://abcnews.go.com/Health\n",
      "https://abcnews.go.com/Technology\n",
      "https://abcnews.go.com/Sports\n",
      "https://abcnews.go.com/alerts/weather\n",
      "https://fivethirtyeight.com\n",
      "#\n",
      "https://www.goodmorningamerica.com\n",
      "https://abcnews.go.com/WN\n",
      "https://abcnews.go.com/Nightline\n",
      "https://abcnews.go.com/2020\n",
      "https://abcnews.go.com/ThisWeek\n",
      "https://abcnews.go.com/TheView\n",
      "https://abcnews.go.com/WhatWouldYouDo\n",
      "#\n",
      "https://abcnews.go.com/live/video/special-live-11\n",
      "https://abcnews.go.com/live/video/special-live-2\n",
      "https://abcnews.go.com/live/video/special-live-5\n",
      "https://abcnews.go.com/live/video/special-live-4\n",
      "#\n",
      "http://disneyprivacycenter.com\n",
      "https://disneyprivacycenter.com/notice-to-california-residents/\n",
      "https://disneyprivacycenter.com/kids-privacy-policy/english/\n",
      "http://preferences-mgr.truste.com/?type=abcnews&affiliateId=11\n",
      "http://disneytermsofuse.com\n",
      "https://abcnews.go.com/Site/page?id=3068843\n",
      "#\n",
      "#\n",
      "https://abcnews.go.com\n",
      "javascript:void();\n",
      "/myinterests?cid=clicksource_nc_seeall\n",
      "#\n",
      "#\n",
      "#\n",
      "#\n",
      "https://abcnews.go.com/Video\n",
      "https://abcnews.go.com/Live\n",
      "#\n",
      "https://www.goodmorningamerica.com\n",
      "https://abcnews.go.com/WN\n",
      "https://abcnews.go.com/Nightline\n",
      "https://abcnews.go.com/2020\n",
      "https://abcnews.go.com/ThisWeek\n",
      "https://abcnews.go.com/TheView\n",
      "https://abcnews.go.com/WhatWouldYouDo\n",
      "#\n",
      "https://abcnews.go.com/US\n",
      "https://abcnews.go.com/Politics\n",
      "https://abcnews.go.com/International\n",
      "https://abcnews.go.com/Entertainment\n",
      "https://abcnews.go.com/Lifestyle\n",
      "https://abcnews.go.com/Health\n",
      "https://abcnews.go.com/VR\n",
      "https://abcnews.go.com/Technology\n",
      "https://abcnews.go.com/Sports\n",
      "https://abcnews.go.com/alerts/weather\n",
      "https://fivethirtyeight.com\n",
      "http://disneyprivacycenter.com\n",
      "https://disneyprivacycenter.com/notice-to-california-residents/\n",
      "https://disneyprivacycenter.com/kids-privacy-policy/english/\n",
      "http://preferences-mgr.truste.com/?type=abcnews&affiliateId=11\n",
      "http://disneytermsofuse.com\n",
      "https://abcnews.go.com/Site/page?id=3068843\n",
      "#\n",
      "https://www.goodmorningamerica.com\n",
      "https://www.facebook.com/sharer.php?u=http%3A%2F%2Fabcnews.go.com%2FGMA%2FTravel%2Fbest-spring-break-party-destinations%2Fstory%3Fid%3D52904679%26cid%3Dshare_facebook_widget\n",
      "http://twitter.com/intent/tweet?text=8+of+the+best+spring+break+party+destinations+-+ABC+News+-+http%3A%2F%2Fabcn.ws%2F2nIl94u&via=ABC\n",
      "whatsapp://send?text=8+of+the+best+spring+break+party+destinations website:http%3A%2F%2Fabcnews.go.com%2FGMA%2FTravel%2Fbest-spring-break-party-destinations%2Fstory%3Fid%3D52904679%26cid%3Dshare_whatsapp_widget\n",
      "http://api.addthis.com/oexchange/0.8/forward/email/offer?url=http://abcnews.go.com/GMA/Travel/best-spring-break-party-destinations/story?id=52904679&cid=share_addthis_widget&title=8+of+the+best+spring+break+party+destinations\n",
      "https://www.facebook.com/sharer.php?u=http%3A%2F%2Fabcnews.go.com%2FGMA%2FTravel%2Fbest-spring-break-party-destinations%2Fstory%3Fid%3D52904679%26cid%3Dshare_facebook_widget\n",
      "http://twitter.com/intent/tweet?text=8+of+the+best+spring+break+party+destinations+-+ABC+News+-+http%3A%2F%2Fabcn.ws%2F2nIl94u&via=ABC\n",
      "whatsapp://send?text=8+of+the+best+spring+break+party+destinations website:http%3A%2F%2Fabcnews.go.com%2FGMA%2FTravel%2Fbest-spring-break-party-destinations%2Fstory%3Fid%3D52904679%26cid%3Dshare_whatsapp_widget\n",
      "http://api.addthis.com/oexchange/0.8/forward/email/offer?url=http://abcnews.go.com/GMA/Travel/best-spring-break-party-destinations/story?id=52904679&cid=share_addthis_widget&title=8+of+the+best+spring+break+party+destinations\n",
      "https://www.facebook.com/sharer.php?u=http%3A%2F%2Fabcnews.go.com%2FGMA%2FTravel%2Fbest-spring-break-party-destinations%2Fstory%3Fid%3D52904679%26cid%3Dshare_facebook_widget\n",
      "http://twitter.com/intent/tweet?text=8+of+the+best+spring+break+party+destinations+-+ABC+News+-+http%3A%2F%2Fabcn.ws%2F2nIl94u&via=ABC\n",
      "whatsapp://send?text=8+of+the+best+spring+break+party+destinations website:http%3A%2F%2Fabcnews.go.com%2FGMA%2FTravel%2Fbest-spring-break-party-destinations%2Fstory%3Fid%3D52904679%26cid%3Dshare_whatsapp_widget\n",
      "http://api.addthis.com/oexchange/0.8/forward/email/offer?url=http://abcnews.go.com/GMA/Travel/best-spring-break-party-destinations/story?id=52904679&cid=share_addthis_widget&title=8+of+the+best+spring+break+party+destinations\n",
      "#\n",
      "#\n",
      "/GMA/Travel/best-spring-break-party-destinations/story?id=52904679\n",
      "/GMA/Travel/best-spring-break-party-destinations/story?id=52904679\n",
      "/Politics/roger-stone-longtime-president-donald-trump-friend-veteran/story?id=60646251\n",
      "/Politics/roger-stone-longtime-president-donald-trump-friend-veteran/story?id=60646251\n",
      "/International/wireStory/bombs-target-cathedral-south-philippines-dead-60652324\n",
      "/International/wireStory/bombs-target-cathedral-south-philippines-dead-60652324\n",
      "/International/34-dead-300-feared-missing-dam-collapse-brazil/story?id=60630590\n",
      "/International/34-dead-300-feared-missing-dam-collapse-brazil/story?id=60630590\n",
      "/Politics/sanders-targets-black-voters-south-carolina/story?id=60602123\n",
      "/Politics/sanders-targets-black-voters-south-carolina/story?id=60602123\n",
      "/US/arrested-die-protest-rockefeller-center-ice-skating-rink/story?id=60654388\n",
      "/US/arrested-die-protest-rockefeller-center-ice-skating-rink/story?id=60654388\n",
      "/US/dangerous-cold-set-follow-clipper-system-moving-midwest/story?id=60655468\n",
      "/US/dangerous-cold-set-follow-clipper-system-moving-midwest/story?id=60655468\n",
      "/Technology/wireStory/climate-fight-germany-sets-2038-deadline-end-coal-60657402\n",
      "/Technology/wireStory/climate-fight-germany-sets-2038-deadline-end-coal-60657402\n",
      "/International/wireStory/syrias-lady-successful-breast-cancer-surgery-60658511\n",
      "/International/wireStory/syrias-lady-successful-breast-cancer-surgery-60658511\n",
      "/Politics/10-back-democratic-inquiries-including-release-trump-taxes/story?id=60599646\n",
      "/Politics/10-back-democratic-inquiries-including-release-trump-taxes/story?id=60599646\n",
      "/Entertainment/legendary-comedian-steve-martin-makes-cameo-snl-poor/story?id=60653474\n",
      "/Entertainment/legendary-comedian-steve-martin-makes-cameo-snl-poor/story?id=60653474\n",
      "/Politics/wireStory/12-immigrant-workers-trump-golf-fired-lawyer-60649746\n",
      "/Politics/wireStory/12-immigrant-workers-trump-golf-fired-lawyer-60649746\n",
      "/Politics/defiant-roger-stone-pledges-fight-charges-brought-mueller/story?id=60626446\n",
      "/Politics/defiant-roger-stone-pledges-fight-charges-brought-mueller/story?id=60626446\n",
      "/International/venezuelan-govt-standoff-escalates-russia-reportedly-sends-private/story?id=60629749\n",
      "/International/venezuelan-govt-standoff-escalates-russia-reportedly-sends-private/story?id=60629749\n",
      "/Politics/pentagon-saved-47-billion-past-years/story?id=60623672\n",
      "/Politics/pentagon-saved-47-billion-past-years/story?id=60623672\n",
      "/Politics/trump-surrenders-washington-realities-analysis/story?id=60632011\n",
      "/Politics/trump-surrenders-washington-realities-analysis/story?id=60632011\n",
      "/Politics/federal-workers-paid-trump-happen-fast/story?id=60631752\n",
      "/Politics/federal-workers-paid-trump-happen-fast/story?id=60631752\n",
      "/Politics/trump-expected-float-deal-end-shutdown-now-border/story?id=60622221\n",
      "/Politics/trump-expected-float-deal-end-shutdown-now-border/story?id=60622221\n",
      "/US/back-work-monday-wait-federal-workers-thrilled-shutdown/story?id=60630361\n",
      "/US/back-work-monday-wait-federal-workers-thrilled-shutdown/story?id=60630361\n",
      "/Politics/shutdown-fallout-14000-irs-employees-recalled-work-week/story?id=60624672\n",
      "/Politics/shutdown-fallout-14000-irs-employees-recalled-work-week/story?id=60624672\n",
      "/Politics/federal-workers-miss-2nd-paychecks-shutdown-continues/story?id=60599885\n",
      "/Politics/federal-workers-miss-2nd-paychecks-shutdown-continues/story?id=60599885\n",
      "/Politics/wireStory/70000-brussels-protesters-demand-action-climate-60658612\n",
      "/Politics/wireStory/70000-brussels-protesters-demand-action-climate-60658612\n",
      "/Travel/wireStory/auschwitz-survivors-pay-homage-world-remembers-holocaust-60654489\n",
      "/Travel/wireStory/auschwitz-survivors-pay-homage-world-remembers-holocaust-60654489\n",
      "/Sports/wireStory/police-detroit-lions-trevor-bates-punched-officer-60648712\n",
      "/Sports/wireStory/police-detroit-lions-trevor-bates-punched-officer-60648712\n",
      "/US/wireStory/military-recruits-made-usa-athletic-trainers-60657222\n",
      "/US/wireStory/military-recruits-made-usa-athletic-trainers-60657222\n",
      "/International/banksy-tribute-paris-terror-attack-victims-stolen-bataclan/story?id=60648284\n",
      "/International/banksy-tribute-paris-terror-attack-victims-stolen-bataclan/story?id=60648284\n",
      "/International/wireStory/hezbollah-leader-warns-israel-expanding-attacks-syria-60649244\n",
      "/International/wireStory/hezbollah-leader-warns-israel-expanding-attacks-syria-60649244\n",
      "/International/wireStory/cubans-inaugurate-catholic-church-decades-60649301\n",
      "/International/wireStory/cubans-inaugurate-catholic-church-decades-60649301\n",
      "/Politics/wireStory/us-rep-walter-jones-north-carolina-enters-hospice-60649266\n",
      "/Politics/wireStory/us-rep-walter-jones-north-carolina-enters-hospice-60649266\n",
      "/US/weeks-girl-14-missing-feds-local-police-now/story?id=60649247\n",
      "/US/weeks-girl-14-missing-feds-local-police-now/story?id=60649247\n",
      "/GMA/News/parents-utah-track-star-killed-tragedy-preventable/story?id=60604228\n",
      "/GMA/News/parents-utah-track-star-killed-tragedy-preventable/story?id=60604228\n",
      "/US/felon-serving-life-sentence-escapes-alabama-prison/story?id=60615374\n",
      "/US/felon-serving-life-sentence-escapes-alabama-prison/story?id=60615374\n",
      "/US/student-dies-critically-injured-bus-collides-train-texas/story?id=60639941\n",
      "/US/student-dies-critically-injured-bus-collides-train-texas/story?id=60639941\n",
      "/US/rescued-year-endured-heavy-rain-freezing-temperatures-woods/story?id=60619812\n",
      "/US/rescued-year-endured-heavy-rain-freezing-temperatures-woods/story?id=60619812\n",
      "/Weird/wireStory/man-emotional-support-alligator-helps-depression-60646161\n",
      "/Weird/wireStory/man-emotional-support-alligator-helps-depression-60646161\n",
      "/International/wireStory/canadas-ambassador-china-fired-great-us-dropped-huawei-60647983\n",
      "/International/wireStory/canadas-ambassador-china-fired-great-us-dropped-huawei-60647983\n",
      "/Entertainment/wireStory/thai-girl-group-hot-water-singers-swastika-shirt-60654881\n",
      "/Entertainment/wireStory/thai-girl-group-hot-water-singers-swastika-shirt-60654881\n",
      "/GMA/Culture/bradley-cooper-surprises-fans-jumps-stage-perform-lady/story?id=60654812\n",
      "/GMA/Culture/bradley-cooper-surprises-fans-jumps-stage-perform-lady/story?id=60654812\n",
      "/GMA/Culture/11-movies-tv-series-premiering-jan-27-feb/story?id=60624671\n",
      "/GMA/Culture/11-movies-tv-series-premiering-jan-27-feb/story?id=60624671\n",
      "/Entertainment/late-night-host-comedian-graham-norton-releases-inspired/story?id=49608437\n",
      "/Entertainment/late-night-host-comedian-graham-norton-releases-inspired/story?id=49608437\n",
      "/Lifestyle/female-high-school-quarterback-throws-td-1st-pass/story?id=49564020\n",
      "/Lifestyle/female-high-school-quarterback-throws-td-1st-pass/story?id=49564020\n"
     ]
    }
   ],
   "source": [
    "# find all hyperlinks\n",
    "# 'a' stands for anchor tag, href stands for Hypertext REFrence\n",
    "for link in soup.find_all(name='a', href=True):\n",
    "    print(link['href'])"
   ]
  },
  {
   "cell_type": "markdown",
   "metadata": {},
   "source": [
    "# Get the List of Vacation Spots"
   ]
  },
  {
   "cell_type": "code",
   "execution_count": 12,
   "metadata": {},
   "outputs": [
    {
     "data": {
      "text/plain": [
       "<strong>1. Cancun</strong>"
      ]
     },
     "execution_count": 12,
     "metadata": {},
     "output_type": "execute_result"
    }
   ],
   "source": [
    "# soup.find returns the first child (see docs)\n",
    "soup.find(name='strong')"
   ]
  },
  {
   "cell_type": "code",
   "execution_count": 13,
   "metadata": {},
   "outputs": [
    {
     "data": {
      "text/plain": [
       "bs4.element.Tag"
      ]
     },
     "execution_count": 13,
     "metadata": {},
     "output_type": "execute_result"
    }
   ],
   "source": [
    "# store the the result\n",
    "result = soup.find(name='strong')\n",
    "\n",
    "# display the type of the `result`\n",
    "type(result)"
   ]
  },
  {
   "cell_type": "code",
   "execution_count": 14,
   "metadata": {},
   "outputs": [
    {
     "data": {
      "text/plain": [
       "'1. Cancun'"
      ]
     },
     "execution_count": 14,
     "metadata": {},
     "output_type": "execute_result"
    }
   ],
   "source": [
    "# access the text in `result`\n",
    "result.text"
   ]
  },
  {
   "cell_type": "code",
   "execution_count": 15,
   "metadata": {},
   "outputs": [
    {
     "data": {
      "text/plain": [
       "[<strong>1. Cancun</strong>,\n",
       " <strong>2. Las Vegas</strong>,\n",
       " <strong>3. Jamaica</strong>,\n",
       " <strong>4. Miami</strong>,\n",
       " <strong>5. Dominican Republic</strong>,\n",
       " <strong>6. South Padre Island</strong>,\n",
       " <strong>7. Puerto Vallarta</strong>,\n",
       " <strong>8. Bahamas</strong>]"
      ]
     },
     "execution_count": 15,
     "metadata": {},
     "output_type": "execute_result"
    }
   ],
   "source": [
    "# find all locations in the html\n",
    "soup.find_all(name='strong')"
   ]
  },
  {
   "cell_type": "code",
   "execution_count": 16,
   "metadata": {},
   "outputs": [],
   "source": [
    "# store all results\n",
    "results = soup.find_all(name='strong')"
   ]
  },
  {
   "cell_type": "code",
   "execution_count": 17,
   "metadata": {},
   "outputs": [
    {
     "data": {
      "text/plain": [
       "bs4.element.ResultSet"
      ]
     },
     "execution_count": 17,
     "metadata": {},
     "output_type": "execute_result"
    }
   ],
   "source": [
    "# display the type of `results`\n",
    "type(results)"
   ]
  },
  {
   "cell_type": "code",
   "execution_count": 18,
   "metadata": {},
   "outputs": [
    {
     "name": "stdout",
     "output_type": "stream",
     "text": [
      "1. Cancun\n",
      "2. Las Vegas\n",
      "3. Jamaica\n",
      "4. Miami\n",
      "5. Dominican Republic\n",
      "6. South Padre Island\n",
      "7. Puerto Vallarta\n",
      "8. Bahamas\n"
     ]
    }
   ],
   "source": [
    "# print the text for each result in `results`\n",
    "for result in results:\n",
    "    print(result.text)"
   ]
  },
  {
   "cell_type": "code",
   "execution_count": 19,
   "metadata": {},
   "outputs": [
    {
     "data": {
      "text/plain": [
       "['1. Cancun',\n",
       " '2. Las Vegas',\n",
       " '3. Jamaica',\n",
       " '4. Miami',\n",
       " '5. Dominican Republic',\n",
       " '6. South Padre Island',\n",
       " '7. Puerto Vallarta',\n",
       " '8. Bahamas']"
      ]
     },
     "execution_count": 19,
     "metadata": {},
     "output_type": "execute_result"
    }
   ],
   "source": [
    "# make a list of the result.text's\n",
    "# define result_texts as an empty list\n",
    "result_texts = []\n",
    "# loop through the results...\n",
    "for result in results:\n",
    "    # and append them to the result_texts list\n",
    "    result_texts.append(result.text)\n",
    "\n",
    "# show result_texts\n",
    "result_texts"
   ]
  },
  {
   "cell_type": "code",
   "execution_count": 20,
   "metadata": {},
   "outputs": [
    {
     "name": "stdout",
     "output_type": "stream",
     "text": [
      "Cancun\n",
      "Las Vegas\n",
      "Jamaica\n",
      "Miami\n",
      "Dominican Republic\n",
      "South Padre Island\n",
      "Puerto Vallarta\n",
      "Bahamas\n"
     ]
    }
   ],
   "source": [
    "# print the location names without the index\n",
    "for location in result_texts:\n",
    "    print(location[3:])"
   ]
  },
  {
   "cell_type": "code",
   "execution_count": 21,
   "metadata": {},
   "outputs": [
    {
     "name": "stdout",
     "output_type": "stream",
     "text": [
      "['Cancun']\n",
      "['Las', 'Vegas']\n",
      "['Jamaica']\n",
      "['Miami']\n",
      "['Dominican', 'Republic']\n",
      "['South', 'Padre', 'Island']\n",
      "['Puerto', 'Vallarta']\n",
      "['Bahamas']\n"
     ]
    }
   ],
   "source": [
    "# problem: What if I had a list of 10 locations?\n",
    "# I wouldn't be able to use my logic above because it would keep an extra space in front of the name.\n",
    "# use `split` to remove the index\n",
    "for location in result_texts:\n",
    "    print(location.split()[1:])"
   ]
  },
  {
   "cell_type": "code",
   "execution_count": 22,
   "metadata": {},
   "outputs": [
    {
     "data": {
      "text/plain": [
       "[['Cancun'],\n",
       " ['Las', 'Vegas'],\n",
       " ['Jamaica'],\n",
       " ['Miami'],\n",
       " ['Dominican', 'Republic'],\n",
       " ['South', 'Padre', 'Island'],\n",
       " ['Puerto', 'Vallarta'],\n",
       " ['Bahamas']]"
      ]
     },
     "execution_count": 22,
     "metadata": {},
     "output_type": "execute_result"
    }
   ],
   "source": [
    "# store the location names without indices in a new list\n",
    "no_index = []\n",
    "for location in result_texts:\n",
    "    no_index.append(location.split()[1:])\n",
    "\n",
    "# show `no_index`\n",
    "no_index"
   ]
  },
  {
   "cell_type": "code",
   "execution_count": 23,
   "metadata": {},
   "outputs": [
    {
     "name": "stdout",
     "output_type": "stream",
     "text": [
      "Cancun\n",
      "LasVegas\n",
      "Jamaica\n",
      "Miami\n",
      "DominicanRepublic\n",
      "SouthPadreIsland\n",
      "PuertoVallarta\n",
      "Bahamas\n"
     ]
    }
   ],
   "source": [
    "# `no_index` is a list of lists\n",
    "# want to join the strings in each list together to get a list of strings\n",
    "for l in no_index:\n",
    "    print(''.join(l))"
   ]
  },
  {
   "cell_type": "code",
   "execution_count": 24,
   "metadata": {},
   "outputs": [
    {
     "name": "stdout",
     "output_type": "stream",
     "text": [
      "Cancun\n",
      "Las Vegas\n",
      "Jamaica\n",
      "Miami\n",
      "Dominican Republic\n",
      "South Padre Island\n",
      "Puerto Vallarta\n",
      "Bahamas\n"
     ]
    }
   ],
   "source": [
    "# it worked, but the join didn't put a space between the words\n",
    "# try it again, but include a space\n",
    "for l in no_index:\n",
    "    print(' '.join(l))"
   ]
  },
  {
   "cell_type": "code",
   "execution_count": 25,
   "metadata": {},
   "outputs": [
    {
     "data": {
      "text/plain": [
       "['Cancun',\n",
       " 'Las Vegas',\n",
       " 'Jamaica',\n",
       " 'Miami',\n",
       " 'Dominican Republic',\n",
       " 'South Padre Island',\n",
       " 'Puerto Vallarta',\n",
       " 'Bahamas']"
      ]
     },
     "execution_count": 25,
     "metadata": {},
     "output_type": "execute_result"
    }
   ],
   "source": [
    "# much better\n",
    "# let's save these locations in another list\n",
    "locations = []\n",
    "for l in no_index:\n",
    "    locations.append(' '.join(l))\n",
    "\n",
    "# show locations\n",
    "locations"
   ]
  },
  {
   "cell_type": "code",
   "execution_count": 26,
   "metadata": {},
   "outputs": [
    {
     "data": {
      "text/plain": [
       "8"
      ]
     },
     "execution_count": 26,
     "metadata": {},
     "output_type": "execute_result"
    }
   ],
   "source": [
    "# check the `len`gth of locations (should == 8)\n",
    "len(locations)"
   ]
  },
  {
   "cell_type": "code",
   "execution_count": 27,
   "metadata": {},
   "outputs": [
    {
     "data": {
      "text/plain": [
       "['Cancun',\n",
       " 'Las Vegas',\n",
       " 'Jamaica',\n",
       " 'Miami',\n",
       " 'Dominican Republic',\n",
       " 'South Padre Island',\n",
       " 'Puerto Vallarta',\n",
       " 'Bahamas']"
      ]
     },
     "execution_count": 27,
     "metadata": {},
     "output_type": "execute_result"
    }
   ],
   "source": [
    "# that seemed like a lot of work just to extract the names from our results...\n",
    "# well here's a one-liner\n",
    "[' '.join(i.text.split()[1:]) for i in soup.find_all(name='strong')]"
   ]
  },
  {
   "cell_type": "markdown",
   "metadata": {},
   "source": [
    "This bit of code is called [list comprehension](https://docs.python.org/3/tutorial/datastructures.html#list-comprehensions). It's very handy and is often faster than standard for-loops (when n is large)."
   ]
  },
  {
   "cell_type": "code",
   "execution_count": 28,
   "metadata": {},
   "outputs": [
    {
     "name": "stdout",
     "output_type": "stream",
     "text": [
      "1.02 ms ± 156 µs per loop (mean ± std. dev. of 7 runs, 1000 loops each)\n"
     ]
    }
   ],
   "source": [
    "%%timeit -n 1000\n",
    "result_texts = []\n",
    "for i in soup.find_all(name='strong'):\n",
    "    result_texts.append(' '.join(i.text.split()[1:]))"
   ]
  },
  {
   "cell_type": "code",
   "execution_count": 29,
   "metadata": {},
   "outputs": [
    {
     "name": "stdout",
     "output_type": "stream",
     "text": [
      "1.01 ms ± 101 µs per loop (mean ± std. dev. of 7 runs, 1000 loops each)\n"
     ]
    }
   ],
   "source": [
    "%%timeit -n 1000\n",
    "[' '.join(i.text.split()[1:]) for i in soup.find_all(name='strong')]"
   ]
  },
  {
   "cell_type": "markdown",
   "metadata": {},
   "source": [
    "As a precautionary side-note, don't use list comprehension if you don't understand it or the loop is too complex. You can get unexpected results, especially when attempting multiple loops."
   ]
  },
  {
   "cell_type": "markdown",
   "metadata": {},
   "source": [
    "# Get Information on the Locations"
   ]
  },
  {
   "cell_type": "markdown",
   "metadata": {},
   "source": [
    "### Wikipedia"
   ]
  },
  {
   "cell_type": "code",
   "execution_count": 30,
   "metadata": {},
   "outputs": [],
   "source": [
    "# wikipedia url\n",
    "wiki_url = \"https://en.wikipedia.org/wiki/\""
   ]
  },
  {
   "cell_type": "code",
   "execution_count": 31,
   "metadata": {},
   "outputs": [
    {
     "name": "stdout",
     "output_type": "stream",
     "text": [
      "https://en.wikipedia.org/wiki/Cancun\n",
      "https://en.wikipedia.org/wiki/Las_Vegas\n",
      "https://en.wikipedia.org/wiki/Jamaica\n",
      "https://en.wikipedia.org/wiki/Miami\n",
      "https://en.wikipedia.org/wiki/Dominican_Republic\n",
      "https://en.wikipedia.org/wiki/South_Padre_Island\n",
      "https://en.wikipedia.org/wiki/Puerto_Vallarta\n",
      "https://en.wikipedia.org/wiki/Bahamas\n"
     ]
    }
   ],
   "source": [
    "# loop through the locations\n",
    "for l in locations:\n",
    "    # add the wiki url to the location name and replace spaces with underscores\n",
    "    print(f\"{wiki_url}{l.replace(' ', '_')}\")"
   ]
  },
  {
   "cell_type": "code",
   "execution_count": 32,
   "metadata": {},
   "outputs": [],
   "source": [
    "from time import sleep"
   ]
  },
  {
   "cell_type": "code",
   "execution_count": 33,
   "metadata": {},
   "outputs": [],
   "source": [
    "# scrape each page and store in a dictionary\n",
    "# define empty dictionary\n",
    "location_wiki = {}\n",
    "# loop through the locations...\n",
    "for l in locations:\n",
    "    # request the page from wikipedia\n",
    "    r = requests.get(f\"{wiki_url}{l}\")\n",
    "    # make the soup\n",
    "    soup = BeautifulSoup(r.text)\n",
    "    # close the request\n",
    "    r.close()\n",
    "    # store the soup in the dictionary\n",
    "    location_wiki[l] = soup\n",
    "    # wait 2 seconds before scraping again (this respects the robots.txt... and keeps us from getting blocked by wikipedia)\n",
    "    sleep(2)"
   ]
  },
  {
   "cell_type": "markdown",
   "metadata": {},
   "source": [
    "# Data Frames"
   ]
  },
  {
   "cell_type": "code",
   "execution_count": 58,
   "metadata": {},
   "outputs": [],
   "source": [
    "import pandas as pd"
   ]
  },
  {
   "cell_type": "code",
   "execution_count": 68,
   "metadata": {},
   "outputs": [
    {
     "data": {
      "text/plain": [
       "dict"
      ]
     },
     "execution_count": 68,
     "metadata": {},
     "output_type": "execute_result"
    }
   ],
   "source": [
    "# now that we've scraped the wiki pages, let's store some information in a dataframe using `pandas`\n",
    "# we know `location_wiki` is a dict\n",
    "type(location_wiki)"
   ]
  },
  {
   "cell_type": "code",
   "execution_count": 90,
   "metadata": {},
   "outputs": [],
   "source": [
    "# so let's use pandas' DataFrame attribute `from_dict` and orient our keys so that they are the index instead of columns\n",
    "df = pd.DataFrame.from_dict(location_wiki, orient='index')"
   ]
  },
  {
   "cell_type": "code",
   "execution_count": 91,
   "metadata": {},
   "outputs": [
    {
     "data": {
      "text/html": [
       "<div>\n",
       "<style scoped>\n",
       "    .dataframe tbody tr th:only-of-type {\n",
       "        vertical-align: middle;\n",
       "    }\n",
       "\n",
       "    .dataframe tbody tr th {\n",
       "        vertical-align: top;\n",
       "    }\n",
       "\n",
       "    .dataframe thead th {\n",
       "        text-align: right;\n",
       "    }\n",
       "</style>\n",
       "<table border=\"1\" class=\"dataframe\">\n",
       "  <thead>\n",
       "    <tr style=\"text-align: right;\">\n",
       "      <th></th>\n",
       "      <th>0</th>\n",
       "      <th>1</th>\n",
       "      <th>2</th>\n",
       "    </tr>\n",
       "  </thead>\n",
       "  <tbody>\n",
       "    <tr>\n",
       "      <th>Cancun</th>\n",
       "      <td>html</td>\n",
       "      <td>&lt;html class=\"client-nojs\" dir=\"ltr\" lang=\"en\"&gt;...</td>\n",
       "      <td></td>\n",
       "    </tr>\n",
       "    <tr>\n",
       "      <th>Las Vegas</th>\n",
       "      <td>html</td>\n",
       "      <td>&lt;html class=\"client-nojs\" dir=\"ltr\" lang=\"en\"&gt;...</td>\n",
       "      <td></td>\n",
       "    </tr>\n",
       "    <tr>\n",
       "      <th>Jamaica</th>\n",
       "      <td>html</td>\n",
       "      <td>&lt;html class=\"client-nojs\" dir=\"ltr\" lang=\"en\"&gt;...</td>\n",
       "      <td></td>\n",
       "    </tr>\n",
       "    <tr>\n",
       "      <th>Miami</th>\n",
       "      <td>html</td>\n",
       "      <td>&lt;html class=\"client-nojs\" dir=\"ltr\" lang=\"en\"&gt;...</td>\n",
       "      <td></td>\n",
       "    </tr>\n",
       "    <tr>\n",
       "      <th>Dominican Republic</th>\n",
       "      <td>html</td>\n",
       "      <td>&lt;html class=\"client-nojs\" dir=\"ltr\" lang=\"en\"&gt;...</td>\n",
       "      <td></td>\n",
       "    </tr>\n",
       "  </tbody>\n",
       "</table>\n",
       "</div>"
      ],
      "text/plain": [
       "                       0                                                  1  2\n",
       "Cancun              html  <html class=\"client-nojs\" dir=\"ltr\" lang=\"en\">...  \n",
       "\n",
       "Las Vegas           html  <html class=\"client-nojs\" dir=\"ltr\" lang=\"en\">...  \n",
       "\n",
       "Jamaica             html  <html class=\"client-nojs\" dir=\"ltr\" lang=\"en\">...  \n",
       "\n",
       "Miami               html  <html class=\"client-nojs\" dir=\"ltr\" lang=\"en\">...  \n",
       "\n",
       "Dominican Republic  html  <html class=\"client-nojs\" dir=\"ltr\" lang=\"en\">...  "
      ]
     },
     "execution_count": 91,
     "metadata": {},
     "output_type": "execute_result"
    }
   ],
   "source": [
    "# take a peek at df\n",
    "df.head()"
   ]
  },
  {
   "cell_type": "code",
   "execution_count": 92,
   "metadata": {},
   "outputs": [
    {
     "data": {
      "text/plain": [
       "Index(['Cancun', 'Las Vegas', 'Jamaica', 'Miami', 'Dominican Republic',\n",
       "       'South Padre Island', 'Puerto Vallarta', 'Bahamas'],\n",
       "      dtype='object')"
      ]
     },
     "execution_count": 92,
     "metadata": {},
     "output_type": "execute_result"
    }
   ],
   "source": [
    "# we have an index with the names of our locations...\n",
    "df.index"
   ]
  },
  {
   "cell_type": "code",
   "execution_count": 93,
   "metadata": {},
   "outputs": [
    {
     "data": {
      "text/plain": [
       "RangeIndex(start=0, stop=3, step=1)"
      ]
     },
     "execution_count": 93,
     "metadata": {},
     "output_type": "execute_result"
    }
   ],
   "source": [
    "# and we have 3 columns\n",
    "df.columns"
   ]
  },
  {
   "cell_type": "code",
   "execution_count": 94,
   "metadata": {},
   "outputs": [
    {
     "data": {
      "text/html": [
       "<div>\n",
       "<style scoped>\n",
       "    .dataframe tbody tr th:only-of-type {\n",
       "        vertical-align: middle;\n",
       "    }\n",
       "\n",
       "    .dataframe tbody tr th {\n",
       "        vertical-align: top;\n",
       "    }\n",
       "\n",
       "    .dataframe thead th {\n",
       "        text-align: right;\n",
       "    }\n",
       "</style>\n",
       "<table border=\"1\" class=\"dataframe\">\n",
       "  <thead>\n",
       "    <tr style=\"text-align: right;\">\n",
       "      <th></th>\n",
       "      <th>0</th>\n",
       "      <th>1</th>\n",
       "      <th>2</th>\n",
       "    </tr>\n",
       "  </thead>\n",
       "  <tbody>\n",
       "    <tr>\n",
       "      <th>count</th>\n",
       "      <td>8</td>\n",
       "      <td>8</td>\n",
       "      <td>8</td>\n",
       "    </tr>\n",
       "    <tr>\n",
       "      <th>unique</th>\n",
       "      <td>1</td>\n",
       "      <td>8</td>\n",
       "      <td>1</td>\n",
       "    </tr>\n",
       "    <tr>\n",
       "      <th>top</th>\n",
       "      <td>html</td>\n",
       "      <td>&lt;html class=\"client-nojs\" dir=\"ltr\" lang=\"en\"&gt;...</td>\n",
       "      <td></td>\n",
       "    </tr>\n",
       "    <tr>\n",
       "      <th>freq</th>\n",
       "      <td>8</td>\n",
       "      <td>1</td>\n",
       "      <td>8</td>\n",
       "    </tr>\n",
       "  </tbody>\n",
       "</table>\n",
       "</div>"
      ],
      "text/plain": [
       "           0                                                  1  2\n",
       "count      8                                                  8  8\n",
       "unique     1                                                  8  1\n",
       "top     html  <html class=\"client-nojs\" dir=\"ltr\" lang=\"en\">...  \n",
       "\n",
       "freq       8                                                  1  8"
      ]
     },
     "execution_count": 94,
     "metadata": {},
     "output_type": "execute_result"
    }
   ],
   "source": [
    "# describe our columns\n",
    "df.describe(include='all') # the `include` parameter allows us to choose what kinds of data types to include\n",
    "# `describe` only includes numeric columns by default"
   ]
  },
  {
   "cell_type": "code",
   "execution_count": 95,
   "metadata": {},
   "outputs": [],
   "source": [
    "# you can see that columns 0 and 2 have only one unique value ('html' for 0, and an empty string for 2)\n",
    "# let's drop these two columns and save over df using `inplace`\n",
    "df.drop(columns=[\n",
    "    0,\n",
    "    2\n",
    "], inplace=True)"
   ]
  },
  {
   "cell_type": "code",
   "execution_count": 96,
   "metadata": {},
   "outputs": [
    {
     "data": {
      "text/html": [
       "<div>\n",
       "<style scoped>\n",
       "    .dataframe tbody tr th:only-of-type {\n",
       "        vertical-align: middle;\n",
       "    }\n",
       "\n",
       "    .dataframe tbody tr th {\n",
       "        vertical-align: top;\n",
       "    }\n",
       "\n",
       "    .dataframe thead th {\n",
       "        text-align: right;\n",
       "    }\n",
       "</style>\n",
       "<table border=\"1\" class=\"dataframe\">\n",
       "  <thead>\n",
       "    <tr style=\"text-align: right;\">\n",
       "      <th></th>\n",
       "      <th>1</th>\n",
       "    </tr>\n",
       "  </thead>\n",
       "  <tbody>\n",
       "    <tr>\n",
       "      <th>Cancun</th>\n",
       "      <td>&lt;html class=\"client-nojs\" dir=\"ltr\" lang=\"en\"&gt;...</td>\n",
       "    </tr>\n",
       "    <tr>\n",
       "      <th>Las Vegas</th>\n",
       "      <td>&lt;html class=\"client-nojs\" dir=\"ltr\" lang=\"en\"&gt;...</td>\n",
       "    </tr>\n",
       "    <tr>\n",
       "      <th>Jamaica</th>\n",
       "      <td>&lt;html class=\"client-nojs\" dir=\"ltr\" lang=\"en\"&gt;...</td>\n",
       "    </tr>\n",
       "    <tr>\n",
       "      <th>Miami</th>\n",
       "      <td>&lt;html class=\"client-nojs\" dir=\"ltr\" lang=\"en\"&gt;...</td>\n",
       "    </tr>\n",
       "    <tr>\n",
       "      <th>Dominican Republic</th>\n",
       "      <td>&lt;html class=\"client-nojs\" dir=\"ltr\" lang=\"en\"&gt;...</td>\n",
       "    </tr>\n",
       "  </tbody>\n",
       "</table>\n",
       "</div>"
      ],
      "text/plain": [
       "                                                                    1\n",
       "Cancun              <html class=\"client-nojs\" dir=\"ltr\" lang=\"en\">...\n",
       "Las Vegas           <html class=\"client-nojs\" dir=\"ltr\" lang=\"en\">...\n",
       "Jamaica             <html class=\"client-nojs\" dir=\"ltr\" lang=\"en\">...\n",
       "Miami               <html class=\"client-nojs\" dir=\"ltr\" lang=\"en\">...\n",
       "Dominican Republic  <html class=\"client-nojs\" dir=\"ltr\" lang=\"en\">..."
      ]
     },
     "execution_count": 96,
     "metadata": {},
     "output_type": "execute_result"
    }
   ],
   "source": [
    "# let's see what df looks like now\n",
    "df.head()"
   ]
  },
  {
   "cell_type": "code",
   "execution_count": 97,
   "metadata": {},
   "outputs": [],
   "source": [
    "# while we only have one column in df, the name of the column isn't very informative. Let's rename it and save over df\n",
    "df.rename(columns={\n",
    "    1 : 'scraped'\n",
    "}, inplace=True)"
   ]
  },
  {
   "cell_type": "code",
   "execution_count": 99,
   "metadata": {},
   "outputs": [
    {
     "data": {
      "text/plain": [
       "Index(['scraped'], dtype='object')"
      ]
     },
     "execution_count": 99,
     "metadata": {},
     "output_type": "execute_result"
    }
   ],
   "source": [
    "# check if the column name changed\n",
    "df.columns"
   ]
  },
  {
   "cell_type": "code",
   "execution_count": 102,
   "metadata": {},
   "outputs": [
    {
     "data": {
      "text/plain": [
       "scraped    <html class=\"client-nojs\" dir=\"ltr\" lang=\"en\">...\n",
       "Name: Cancun, dtype: object"
      ]
     },
     "execution_count": 102,
     "metadata": {},
     "output_type": "execute_result"
    }
   ],
   "source": [
    "# to begin disecting our scraped data, it would be nice to know how to look at one row\n",
    "# there are multiple ways to do this, but the best practice is to use label or integer indexing\n",
    "# label indexing uses the `.loc` property\n",
    "df.loc['Cancun']"
   ]
  },
  {
   "cell_type": "code",
   "execution_count": 104,
   "metadata": {
    "scrolled": true
   },
   "outputs": [
    {
     "data": {
      "text/plain": [
       "scraped    <html class=\"client-nojs\" dir=\"ltr\" lang=\"en\">...\n",
       "Name: Cancun, dtype: object"
      ]
     },
     "execution_count": 104,
     "metadata": {},
     "output_type": "execute_result"
    }
   ],
   "source": [
    "# integer indexing uses the `.iloc` property\n",
    "df.iloc[0]"
   ]
  },
  {
   "cell_type": "code",
   "execution_count": 106,
   "metadata": {},
   "outputs": [
    {
     "data": {
      "text/html": [
       "<div>\n",
       "<style scoped>\n",
       "    .dataframe tbody tr th:only-of-type {\n",
       "        vertical-align: middle;\n",
       "    }\n",
       "\n",
       "    .dataframe tbody tr th {\n",
       "        vertical-align: top;\n",
       "    }\n",
       "\n",
       "    .dataframe thead th {\n",
       "        text-align: right;\n",
       "    }\n",
       "</style>\n",
       "<table border=\"1\" class=\"dataframe\">\n",
       "  <thead>\n",
       "    <tr style=\"text-align: right;\">\n",
       "      <th></th>\n",
       "      <th>scraped</th>\n",
       "    </tr>\n",
       "  </thead>\n",
       "  <tbody>\n",
       "    <tr>\n",
       "      <th>Cancun</th>\n",
       "      <td>&lt;html class=\"client-nojs\" dir=\"ltr\" lang=\"en\"&gt;...</td>\n",
       "    </tr>\n",
       "    <tr>\n",
       "      <th>Bahamas</th>\n",
       "      <td>&lt;html class=\"client-nojs\" dir=\"ltr\" lang=\"en\"&gt;...</td>\n",
       "    </tr>\n",
       "  </tbody>\n",
       "</table>\n",
       "</div>"
      ],
      "text/plain": [
       "                                                   scraped\n",
       "Cancun   <html class=\"client-nojs\" dir=\"ltr\" lang=\"en\">...\n",
       "Bahamas  <html class=\"client-nojs\" dir=\"ltr\" lang=\"en\">..."
      ]
     },
     "execution_count": 106,
     "metadata": {},
     "output_type": "execute_result"
    }
   ],
   "source": [
    "# you can get a list of rows by giving the property a list of the indices\n",
    "df.loc[[\n",
    "    'Cancun',\n",
    "    'Bahamas'\n",
    "]]"
   ]
  },
  {
   "cell_type": "code",
   "execution_count": 107,
   "metadata": {},
   "outputs": [
    {
     "data": {
      "text/html": [
       "<div>\n",
       "<style scoped>\n",
       "    .dataframe tbody tr th:only-of-type {\n",
       "        vertical-align: middle;\n",
       "    }\n",
       "\n",
       "    .dataframe tbody tr th {\n",
       "        vertical-align: top;\n",
       "    }\n",
       "\n",
       "    .dataframe thead th {\n",
       "        text-align: right;\n",
       "    }\n",
       "</style>\n",
       "<table border=\"1\" class=\"dataframe\">\n",
       "  <thead>\n",
       "    <tr style=\"text-align: right;\">\n",
       "      <th></th>\n",
       "      <th>scraped</th>\n",
       "    </tr>\n",
       "  </thead>\n",
       "  <tbody>\n",
       "    <tr>\n",
       "      <th>Jamaica</th>\n",
       "      <td>&lt;html class=\"client-nojs\" dir=\"ltr\" lang=\"en\"&gt;...</td>\n",
       "    </tr>\n",
       "    <tr>\n",
       "      <th>Miami</th>\n",
       "      <td>&lt;html class=\"client-nojs\" dir=\"ltr\" lang=\"en\"&gt;...</td>\n",
       "    </tr>\n",
       "  </tbody>\n",
       "</table>\n",
       "</div>"
      ],
      "text/plain": [
       "                                                   scraped\n",
       "Jamaica  <html class=\"client-nojs\" dir=\"ltr\" lang=\"en\">...\n",
       "Miami    <html class=\"client-nojs\" dir=\"ltr\" lang=\"en\">..."
      ]
     },
     "execution_count": 107,
     "metadata": {},
     "output_type": "execute_result"
    }
   ],
   "source": [
    "# you can also give the property a \"slice\"\n",
    "df.iloc[2:4]"
   ]
  },
  {
   "cell_type": "code",
   "execution_count": 108,
   "metadata": {},
   "outputs": [
    {
     "data": {
      "text/html": [
       "<div>\n",
       "<style scoped>\n",
       "    .dataframe tbody tr th:only-of-type {\n",
       "        vertical-align: middle;\n",
       "    }\n",
       "\n",
       "    .dataframe tbody tr th {\n",
       "        vertical-align: top;\n",
       "    }\n",
       "\n",
       "    .dataframe thead th {\n",
       "        text-align: right;\n",
       "    }\n",
       "</style>\n",
       "<table border=\"1\" class=\"dataframe\">\n",
       "  <thead>\n",
       "    <tr style=\"text-align: right;\">\n",
       "      <th></th>\n",
       "      <th>scraped</th>\n",
       "    </tr>\n",
       "  </thead>\n",
       "  <tbody>\n",
       "    <tr>\n",
       "      <th>Jamaica</th>\n",
       "      <td>&lt;html class=\"client-nojs\" dir=\"ltr\" lang=\"en\"&gt;...</td>\n",
       "    </tr>\n",
       "    <tr>\n",
       "      <th>Miami</th>\n",
       "      <td>&lt;html class=\"client-nojs\" dir=\"ltr\" lang=\"en\"&gt;...</td>\n",
       "    </tr>\n",
       "    <tr>\n",
       "      <th>Dominican Republic</th>\n",
       "      <td>&lt;html class=\"client-nojs\" dir=\"ltr\" lang=\"en\"&gt;...</td>\n",
       "    </tr>\n",
       "    <tr>\n",
       "      <th>South Padre Island</th>\n",
       "      <td>&lt;html class=\"client-nojs\" dir=\"ltr\" lang=\"en\"&gt;...</td>\n",
       "    </tr>\n",
       "    <tr>\n",
       "      <th>Puerto Vallarta</th>\n",
       "      <td>&lt;html class=\"client-nojs\" dir=\"ltr\" lang=\"en\"&gt;...</td>\n",
       "    </tr>\n",
       "    <tr>\n",
       "      <th>Bahamas</th>\n",
       "      <td>&lt;html class=\"client-nojs\" dir=\"ltr\" lang=\"en\"&gt;...</td>\n",
       "    </tr>\n",
       "  </tbody>\n",
       "</table>\n",
       "</div>"
      ],
      "text/plain": [
       "                                                              scraped\n",
       "Jamaica             <html class=\"client-nojs\" dir=\"ltr\" lang=\"en\">...\n",
       "Miami               <html class=\"client-nojs\" dir=\"ltr\" lang=\"en\">...\n",
       "Dominican Republic  <html class=\"client-nojs\" dir=\"ltr\" lang=\"en\">...\n",
       "South Padre Island  <html class=\"client-nojs\" dir=\"ltr\" lang=\"en\">...\n",
       "Puerto Vallarta     <html class=\"client-nojs\" dir=\"ltr\" lang=\"en\">...\n",
       "Bahamas             <html class=\"client-nojs\" dir=\"ltr\" lang=\"en\">..."
      ]
     },
     "execution_count": 108,
     "metadata": {},
     "output_type": "execute_result"
    }
   ],
   "source": [
    "# notice that only 2 rows were returned (the second and third)\n",
    "# This is becasue the slice is inclusive of the left, and exclusive of the right\n",
    "# If you want to start from an index and include everything after, you can leave of the right bound\n",
    "df.iloc[2:]"
   ]
  },
  {
   "cell_type": "code",
   "execution_count": 111,
   "metadata": {},
   "outputs": [
    {
     "data": {
      "text/plain": [
       "Cancun                <html class=\"client-nojs\" dir=\"ltr\" lang=\"en\">...\n",
       "Las Vegas             <html class=\"client-nojs\" dir=\"ltr\" lang=\"en\">...\n",
       "Jamaica               <html class=\"client-nojs\" dir=\"ltr\" lang=\"en\">...\n",
       "Miami                 <html class=\"client-nojs\" dir=\"ltr\" lang=\"en\">...\n",
       "Dominican Republic    <html class=\"client-nojs\" dir=\"ltr\" lang=\"en\">...\n",
       "South Padre Island    <html class=\"client-nojs\" dir=\"ltr\" lang=\"en\">...\n",
       "Puerto Vallarta       <html class=\"client-nojs\" dir=\"ltr\" lang=\"en\">...\n",
       "Bahamas               <html class=\"client-nojs\" dir=\"ltr\" lang=\"en\">...\n",
       "Name: scraped, dtype: object"
      ]
     },
     "execution_count": 111,
     "metadata": {},
     "output_type": "execute_result"
    }
   ],
   "source": [
    "# you can also index on columns\n",
    "# if you want all rows and a specific column you use the colon (:) for the rows, then a comma to begin indexing on columns\n",
    "# remember that the colon is used for \"slicing\"\n",
    "df.loc[:, 'scraped']"
   ]
  },
  {
   "cell_type": "code",
   "execution_count": 112,
   "metadata": {},
   "outputs": [
    {
     "data": {
      "text/plain": [
       "pandas.core.series.Series"
      ]
     },
     "execution_count": 112,
     "metadata": {},
     "output_type": "execute_result"
    }
   ],
   "source": [
    "# when you index on one column, a `series` is returned, which is just data analysis jargon for column\n",
    "type(df.loc[:, 'scraped'])"
   ]
  },
  {
   "cell_type": "code",
   "execution_count": 125,
   "metadata": {},
   "outputs": [],
   "source": [
    "# now we've figured out how to slice our data, let's look at one row and disect the html in the 'scraped' column\n",
    "cancun_scraped = df.loc['Cancun', 'scraped']"
   ]
  },
  {
   "cell_type": "code",
   "execution_count": 126,
   "metadata": {},
   "outputs": [
    {
     "data": {
      "text/plain": [
       "bs4.element.Tag"
      ]
     },
     "execution_count": 126,
     "metadata": {},
     "output_type": "execute_result"
    }
   ],
   "source": [
    "# check the type of the value\n",
    "type(cancun_scraped)"
   ]
  },
  {
   "cell_type": "code",
   "execution_count": 131,
   "metadata": {},
   "outputs": [],
   "source": [
    "# the value is soup!\n",
    "# this means we it has attributes that we can use to extract values from the html\n",
    "# looking at the webpage for this index, we can see that there is a Table of Contents (toc), find it in the html/store it\n",
    "cancun_scraped_toc = cancun_scraped.find(name='div', attrs={\n",
    "    'id' : 'toc',\n",
    "    'class' : 'toc'\n",
    "})"
   ]
  },
  {
   "cell_type": "code",
   "execution_count": 137,
   "metadata": {},
   "outputs": [],
   "source": [
    "# we've got the toc, but how do we get the values?\n",
    "# notice in the html the values \"ul\" and \"li\"\n",
    "# \"ul\" means \"unordered list\" and \"li\" means \"list item\"\n",
    "# we need the whole \"ul\" and each \"li\" in it\n",
    "# to get to the \"ul\" quickly, we can actually use dot-notation to access it, `find_all` the \"li\" in it, store it\n",
    "cancun_scraped_toc_ul = cancun_scraped_toc.ul.find_all(name='li')"
   ]
  },
  {
   "cell_type": "code",
   "execution_count": 150,
   "metadata": {},
   "outputs": [
    {
     "data": {
      "text/plain": [
       "<li class=\"toclevel-1 tocsection-1\"><a href=\"#Etymology_and_coat_of_arms\"><span class=\"tocnumber\">1</span> <span class=\"toctext\">Etymology and coat of arms</span></a></li>"
      ]
     },
     "execution_count": 150,
     "metadata": {},
     "output_type": "execute_result"
    }
   ],
   "source": [
    "# look at the first \"li\" in the \"ul\"\n",
    "cancun_scraped_toc_ul[0]"
   ]
  },
  {
   "cell_type": "code",
   "execution_count": 153,
   "metadata": {},
   "outputs": [
    {
     "data": {
      "text/plain": [
       "'Etymology and coat of arms'"
      ]
     },
     "execution_count": 153,
     "metadata": {},
     "output_type": "execute_result"
    }
   ],
   "source": [
    "# this \"li\" has a few bits of information\n",
    "# but we're only interested in the Table of Contents Text (toctext)\n",
    "# extract it for this \"li\", then look at the text\n",
    "cancun_scraped_toc_ul[0].find(name='span', attrs={\n",
    "    'class' : 'toctext'\n",
    "}).text"
   ]
  },
  {
   "cell_type": "code",
   "execution_count": 156,
   "metadata": {},
   "outputs": [
    {
     "name": "stdout",
     "output_type": "stream",
     "text": [
      "Etymology and coat of arms\n",
      "History\n",
      "City layout\n",
      "Cancún Airport's old Control Tower Memorial\n",
      "Maya archaeological sites\n",
      "Transportation\n",
      "Climate\n",
      "Hurricane Gilbert\n",
      "Hurricane Wilma\n",
      "Hurricane Dean\n",
      "Education\n",
      "Sports\n",
      "Drug trafficking network\n",
      "Sister cities\n",
      "See also\n",
      "References\n",
      "External links\n"
     ]
    }
   ],
   "source": [
    "# the goal here is to do this for every \"li\"\n",
    "# let's test it on our current \"ul\"\n",
    "for li in cancun_scraped_toc_ul:\n",
    "    print(li.find(name='span', attrs={\n",
    "        'class' : 'toctext'\n",
    "    }).text)"
   ]
  },
  {
   "cell_type": "code",
   "execution_count": 177,
   "metadata": {},
   "outputs": [],
   "source": [
    "# it worked\n",
    "# to do this for all our rows we can `apply` our current work flow to df\n",
    "# start by `find`ing the \"toc\" and saving the returned html as a new column, \"table_of_contents\"\n",
    "df['table_of_contents'] = df.scraped.apply(lambda x : x.find(name='div', attrs={\n",
    "    'id' : 'toc',\n",
    "    'class' : 'toc'\n",
    "}))"
   ]
  },
  {
   "cell_type": "code",
   "execution_count": 180,
   "metadata": {},
   "outputs": [
    {
     "data": {
      "text/plain": [
       "Cancun                <div class=\"toc\" id=\"toc\"><input class=\"toctog...\n",
       "Las Vegas             <div class=\"toc\" id=\"toc\"><input class=\"toctog...\n",
       "Jamaica               <div class=\"toc\" id=\"toc\"><input class=\"toctog...\n",
       "Miami                 <div class=\"toc\" id=\"toc\"><input class=\"toctog...\n",
       "Dominican Republic    <div class=\"toc\" id=\"toc\"><input class=\"toctog...\n",
       "South Padre Island                                                 None\n",
       "Puerto Vallarta       <div class=\"toc\" id=\"toc\"><input class=\"toctog...\n",
       "Bahamas               <div class=\"toc\" id=\"toc\"><input class=\"toctog...\n",
       "Name: table_of_contents, dtype: object"
      ]
     },
     "execution_count": 180,
     "metadata": {},
     "output_type": "execute_result"
    }
   ],
   "source": [
    "# let's look at our new column\n",
    "df.table_of_contents"
   ]
  },
  {
   "cell_type": "code",
   "execution_count": 189,
   "metadata": {},
   "outputs": [
    {
     "ename": "AttributeError",
     "evalue": "'NoneType' object has no attribute 'ul'",
     "output_type": "error",
     "traceback": [
      "\u001b[1;31m---------------------------------------------------------------------------\u001b[0m",
      "\u001b[1;31mAttributeError\u001b[0m                            Traceback (most recent call last)",
      "\u001b[1;32m<ipython-input-189-29ee69eda2c0>\u001b[0m in \u001b[0;36m<module>\u001b[1;34m\u001b[0m\n\u001b[0;32m      4\u001b[0m \u001b[1;31m# if you were to search \"South Padre Island, Texas\" you get a Table of Contents, but that's not what we searched\u001b[0m\u001b[1;33m\u001b[0m\u001b[1;33m\u001b[0m\u001b[1;33m\u001b[0m\u001b[0m\n\u001b[0;32m      5\u001b[0m \u001b[1;31m# let's continue applying our workflow to our new `table_of_contents` column\u001b[0m\u001b[1;33m\u001b[0m\u001b[1;33m\u001b[0m\u001b[1;33m\u001b[0m\u001b[0m\n\u001b[1;32m----> 6\u001b[1;33m \u001b[0mdf\u001b[0m\u001b[1;33m.\u001b[0m\u001b[0mtable_of_contents\u001b[0m\u001b[1;33m.\u001b[0m\u001b[0mapply\u001b[0m\u001b[1;33m(\u001b[0m\u001b[1;32mlambda\u001b[0m \u001b[0mx\u001b[0m \u001b[1;33m:\u001b[0m \u001b[0mx\u001b[0m\u001b[1;33m.\u001b[0m\u001b[0mul\u001b[0m\u001b[1;33m.\u001b[0m\u001b[0mfind_all\u001b[0m\u001b[1;33m(\u001b[0m\u001b[0mname\u001b[0m\u001b[1;33m=\u001b[0m\u001b[1;34m'li'\u001b[0m\u001b[1;33m)\u001b[0m\u001b[1;33m)\u001b[0m\u001b[1;33m\u001b[0m\u001b[1;33m\u001b[0m\u001b[0m\n\u001b[0m",
      "\u001b[1;32m~\\AppData\\Local\\Continuum\\anaconda3\\lib\\site-packages\\pandas\\core\\series.py\u001b[0m in \u001b[0;36mapply\u001b[1;34m(self, func, convert_dtype, args, **kwds)\u001b[0m\n\u001b[0;32m   3192\u001b[0m             \u001b[1;32melse\u001b[0m\u001b[1;33m:\u001b[0m\u001b[1;33m\u001b[0m\u001b[1;33m\u001b[0m\u001b[0m\n\u001b[0;32m   3193\u001b[0m                 \u001b[0mvalues\u001b[0m \u001b[1;33m=\u001b[0m \u001b[0mself\u001b[0m\u001b[1;33m.\u001b[0m\u001b[0mastype\u001b[0m\u001b[1;33m(\u001b[0m\u001b[0mobject\u001b[0m\u001b[1;33m)\u001b[0m\u001b[1;33m.\u001b[0m\u001b[0mvalues\u001b[0m\u001b[1;33m\u001b[0m\u001b[1;33m\u001b[0m\u001b[0m\n\u001b[1;32m-> 3194\u001b[1;33m                 \u001b[0mmapped\u001b[0m \u001b[1;33m=\u001b[0m \u001b[0mlib\u001b[0m\u001b[1;33m.\u001b[0m\u001b[0mmap_infer\u001b[0m\u001b[1;33m(\u001b[0m\u001b[0mvalues\u001b[0m\u001b[1;33m,\u001b[0m \u001b[0mf\u001b[0m\u001b[1;33m,\u001b[0m \u001b[0mconvert\u001b[0m\u001b[1;33m=\u001b[0m\u001b[0mconvert_dtype\u001b[0m\u001b[1;33m)\u001b[0m\u001b[1;33m\u001b[0m\u001b[1;33m\u001b[0m\u001b[0m\n\u001b[0m\u001b[0;32m   3195\u001b[0m \u001b[1;33m\u001b[0m\u001b[0m\n\u001b[0;32m   3196\u001b[0m         \u001b[1;32mif\u001b[0m \u001b[0mlen\u001b[0m\u001b[1;33m(\u001b[0m\u001b[0mmapped\u001b[0m\u001b[1;33m)\u001b[0m \u001b[1;32mand\u001b[0m \u001b[0misinstance\u001b[0m\u001b[1;33m(\u001b[0m\u001b[0mmapped\u001b[0m\u001b[1;33m[\u001b[0m\u001b[1;36m0\u001b[0m\u001b[1;33m]\u001b[0m\u001b[1;33m,\u001b[0m \u001b[0mSeries\u001b[0m\u001b[1;33m)\u001b[0m\u001b[1;33m:\u001b[0m\u001b[1;33m\u001b[0m\u001b[1;33m\u001b[0m\u001b[0m\n",
      "\u001b[1;32mpandas/_libs/src\\inference.pyx\u001b[0m in \u001b[0;36mpandas._libs.lib.map_infer\u001b[1;34m()\u001b[0m\n",
      "\u001b[1;32m<ipython-input-189-29ee69eda2c0>\u001b[0m in \u001b[0;36m<lambda>\u001b[1;34m(x)\u001b[0m\n\u001b[0;32m      4\u001b[0m \u001b[1;31m# if you were to search \"South Padre Island, Texas\" you get a Table of Contents, but that's not what we searched\u001b[0m\u001b[1;33m\u001b[0m\u001b[1;33m\u001b[0m\u001b[1;33m\u001b[0m\u001b[0m\n\u001b[0;32m      5\u001b[0m \u001b[1;31m# let's continue applying our workflow to our new `table_of_contents` column\u001b[0m\u001b[1;33m\u001b[0m\u001b[1;33m\u001b[0m\u001b[1;33m\u001b[0m\u001b[0m\n\u001b[1;32m----> 6\u001b[1;33m \u001b[0mdf\u001b[0m\u001b[1;33m.\u001b[0m\u001b[0mtable_of_contents\u001b[0m\u001b[1;33m.\u001b[0m\u001b[0mapply\u001b[0m\u001b[1;33m(\u001b[0m\u001b[1;32mlambda\u001b[0m \u001b[0mx\u001b[0m \u001b[1;33m:\u001b[0m \u001b[0mx\u001b[0m\u001b[1;33m.\u001b[0m\u001b[0mul\u001b[0m\u001b[1;33m.\u001b[0m\u001b[0mfind_all\u001b[0m\u001b[1;33m(\u001b[0m\u001b[0mname\u001b[0m\u001b[1;33m=\u001b[0m\u001b[1;34m'li'\u001b[0m\u001b[1;33m)\u001b[0m\u001b[1;33m)\u001b[0m\u001b[1;33m\u001b[0m\u001b[1;33m\u001b[0m\u001b[0m\n\u001b[0m",
      "\u001b[1;31mAttributeError\u001b[0m: 'NoneType' object has no attribute 'ul'"
     ]
    }
   ],
   "source": [
    "# notice that value in the \"South Padre Island\" row is None\n",
    "# this should mean that the wiki page for South Padre Island has not Table of Contents\n",
    "# let's check and make sure that's true... it is\n",
    "# if you were to search \"South Padre Island, Texas\" you get a Table of Contents, but that's not what we searched\n",
    "# let's continue applying our workflow to our new `table_of_contents` column\n",
    "df.table_of_contents.apply(lambda x : x.ul.find_all(name='li'))"
   ]
  },
  {
   "cell_type": "code",
   "execution_count": 207,
   "metadata": {},
   "outputs": [],
   "source": [
    "# trying to look for \"ul\" returns an AttributeError\n",
    "# this is because \"South Padre Island\" doesn't have the attribute \"ul\" (because it doesn't have a \"toc\")\n",
    "# to get around this we can `.dropna` from \"table_of_contents\" before applying our function\n",
    "# do this, then store the results in a new column \"toc_ul_li\"\n",
    "df['toc_ul_li'] = df.table_of_contents.dropna().apply(lambda x : x.ul.find_all(name='li'))"
   ]
  },
  {
   "cell_type": "code",
   "execution_count": 211,
   "metadata": {},
   "outputs": [
    {
     "data": {
      "text/plain": [
       "Cancun                [<li class=\"toclevel-1 tocsection-1\"><a href=\"...\n",
       "Las Vegas             [<li class=\"toclevel-1 tocsection-1\"><a href=\"...\n",
       "Jamaica               [<li class=\"toclevel-1 tocsection-1\"><a href=\"...\n",
       "Miami                 [<li class=\"toclevel-1 tocsection-1\"><a href=\"...\n",
       "Dominican Republic    [<li class=\"toclevel-1 tocsection-1\"><a href=\"...\n",
       "South Padre Island                                                  NaN\n",
       "Puerto Vallarta       [<li class=\"toclevel-1 tocsection-1\"><a href=\"...\n",
       "Bahamas               [<li class=\"toclevel-1 tocsection-1\"><a href=\"...\n",
       "Name: toc_ul_li, dtype: object"
      ]
     },
     "execution_count": 211,
     "metadata": {},
     "output_type": "execute_result"
    }
   ],
   "source": [
    "# take a look at the column\n",
    "df.toc_ul_li"
   ]
  },
  {
   "cell_type": "code",
   "execution_count": 214,
   "metadata": {},
   "outputs": [],
   "source": [
    "# note that we now have lists for values in our toc_ul_li column\n",
    "# to apply our function on each item in the list we'll need to use list comprehension\n",
    "# also, don't forget to `.dropna` else risk an error\n",
    "# when you've figured it out, store as \"toc_text\"\n",
    "df['toc_text'] = df.toc_ul_li.dropna().apply(lambda x : [li.find(name='span', attrs={\n",
    "    'class' : 'toctext'\n",
    "}).text for li in x])"
   ]
  },
  {
   "cell_type": "code",
   "execution_count": 215,
   "metadata": {},
   "outputs": [
    {
     "data": {
      "text/plain": [
       "Cancun                [Etymology and coat of arms, History, City lay...\n",
       "Las Vegas             [History, Geography, Climate, Nearby communiti...\n",
       "Jamaica               [Etymology, History, Prehistory, Spanish rule ...\n",
       "Miami                 [History, Geography, Geology, Cityscape, Neigh...\n",
       "Dominican Republic    [Names and etymology, History, Pre-European hi...\n",
       "South Padre Island                                                  NaN\n",
       "Puerto Vallarta       [History, Pre-Hispanic times to the 19th centu...\n",
       "Bahamas               [Etymology, History, 18th–19th centuries, 20th...\n",
       "Name: toc_text, dtype: object"
      ]
     },
     "execution_count": 215,
     "metadata": {},
     "output_type": "execute_result"
    }
   ],
   "source": [
    "# look at the column \"toc_text\"\n",
    "df.toc_text"
   ]
  },
  {
   "cell_type": "code",
   "execution_count": 216,
   "metadata": {},
   "outputs": [
    {
     "data": {
      "text/plain": [
       "Index(['scraped', 'table_of_contents', 'toc_ul_li', 'toc_text'], dtype='object')"
      ]
     },
     "execution_count": 216,
     "metadata": {},
     "output_type": "execute_result"
    }
   ],
   "source": [
    "# we still have lists as our values... but at least they are lists of text and not html\n",
    "# before we continue any further let's drop some columns that we don't need anymore\n",
    "# first, list the columns\n",
    "df.columns"
   ]
  },
  {
   "cell_type": "code",
   "execution_count": 217,
   "metadata": {},
   "outputs": [],
   "source": [
    "# 'scraped' contains all the html for each row; it should be kept\n",
    "# 'table_of_contents' contains the original html for the toc; it can be dropped\n",
    "# 'toc_ul_li' contains a list of the html for each item in the toc; it can be dropped\n",
    "# 'toc_text' is what we were trying to get to; it should be kept and probably renamed to 'toc\n",
    "# drop the columns\n",
    "df.drop(columns=[\n",
    "    'table_of_contents',\n",
    "    'toc_ul_li'\n",
    "], inplace=True)"
   ]
  },
  {
   "cell_type": "code",
   "execution_count": 218,
   "metadata": {},
   "outputs": [],
   "source": [
    "# rename 'toc_text' to 'toc'\n",
    "df.rename(columns={\n",
    "    'toc_text' : 'toc'\n",
    "}, inplace=True)"
   ]
  },
  {
   "cell_type": "code",
   "execution_count": 219,
   "metadata": {},
   "outputs": [
    {
     "data": {
      "text/html": [
       "<div>\n",
       "<style scoped>\n",
       "    .dataframe tbody tr th:only-of-type {\n",
       "        vertical-align: middle;\n",
       "    }\n",
       "\n",
       "    .dataframe tbody tr th {\n",
       "        vertical-align: top;\n",
       "    }\n",
       "\n",
       "    .dataframe thead th {\n",
       "        text-align: right;\n",
       "    }\n",
       "</style>\n",
       "<table border=\"1\" class=\"dataframe\">\n",
       "  <thead>\n",
       "    <tr style=\"text-align: right;\">\n",
       "      <th></th>\n",
       "      <th>scraped</th>\n",
       "      <th>toc</th>\n",
       "    </tr>\n",
       "  </thead>\n",
       "  <tbody>\n",
       "    <tr>\n",
       "      <th>Cancun</th>\n",
       "      <td>&lt;html class=\"client-nojs\" dir=\"ltr\" lang=\"en\"&gt;...</td>\n",
       "      <td>[Etymology and coat of arms, History, City lay...</td>\n",
       "    </tr>\n",
       "    <tr>\n",
       "      <th>Las Vegas</th>\n",
       "      <td>&lt;html class=\"client-nojs\" dir=\"ltr\" lang=\"en\"&gt;...</td>\n",
       "      <td>[History, Geography, Climate, Nearby communiti...</td>\n",
       "    </tr>\n",
       "    <tr>\n",
       "      <th>Jamaica</th>\n",
       "      <td>&lt;html class=\"client-nojs\" dir=\"ltr\" lang=\"en\"&gt;...</td>\n",
       "      <td>[Etymology, History, Prehistory, Spanish rule ...</td>\n",
       "    </tr>\n",
       "    <tr>\n",
       "      <th>Miami</th>\n",
       "      <td>&lt;html class=\"client-nojs\" dir=\"ltr\" lang=\"en\"&gt;...</td>\n",
       "      <td>[History, Geography, Geology, Cityscape, Neigh...</td>\n",
       "    </tr>\n",
       "    <tr>\n",
       "      <th>Dominican Republic</th>\n",
       "      <td>&lt;html class=\"client-nojs\" dir=\"ltr\" lang=\"en\"&gt;...</td>\n",
       "      <td>[Names and etymology, History, Pre-European hi...</td>\n",
       "    </tr>\n",
       "  </tbody>\n",
       "</table>\n",
       "</div>"
      ],
      "text/plain": [
       "                                                              scraped  \\\n",
       "Cancun              <html class=\"client-nojs\" dir=\"ltr\" lang=\"en\">...   \n",
       "Las Vegas           <html class=\"client-nojs\" dir=\"ltr\" lang=\"en\">...   \n",
       "Jamaica             <html class=\"client-nojs\" dir=\"ltr\" lang=\"en\">...   \n",
       "Miami               <html class=\"client-nojs\" dir=\"ltr\" lang=\"en\">...   \n",
       "Dominican Republic  <html class=\"client-nojs\" dir=\"ltr\" lang=\"en\">...   \n",
       "\n",
       "                                                                  toc  \n",
       "Cancun              [Etymology and coat of arms, History, City lay...  \n",
       "Las Vegas           [History, Geography, Climate, Nearby communiti...  \n",
       "Jamaica             [Etymology, History, Prehistory, Spanish rule ...  \n",
       "Miami               [History, Geography, Geology, Cityscape, Neigh...  \n",
       "Dominican Republic  [Names and etymology, History, Pre-European hi...  "
      ]
     },
     "execution_count": 219,
     "metadata": {},
     "output_type": "execute_result"
    }
   ],
   "source": [
    "# let's look at what df looks like now\n",
    "df.head()"
   ]
  },
  {
   "cell_type": "code",
   "execution_count": 221,
   "metadata": {},
   "outputs": [
    {
     "data": {
      "text/plain": [
       "Cancun                17.0\n",
       "Las Vegas             36.0\n",
       "Jamaica               43.0\n",
       "Miami                 39.0\n",
       "Dominican Republic    56.0\n",
       "South Padre Island     NaN\n",
       "Puerto Vallarta       46.0\n",
       "Bahamas               35.0\n",
       "Name: toc, dtype: float64"
      ]
     },
     "execution_count": 221,
     "metadata": {},
     "output_type": "execute_result"
    }
   ],
   "source": [
    "# nice and clean\n",
    "# let's get some general information about each row from our toc column, like how many items are in each\n",
    "# to do this we'll look at the toc column only, and then find the `len`gth of the list in each row\n",
    "df.toc.str.len()"
   ]
  },
  {
   "cell_type": "code",
   "execution_count": 238,
   "metadata": {},
   "outputs": [
    {
     "data": {
      "image/png": "[encoded data removed]",
      "text/plain": [
       "<Figure size 432x288 with 1 Axes>"
      ]
     },
     "metadata": {
      "needs_background": "light"
     },
     "output_type": "display_data"
    }
   ],
   "source": [
    "# all the toc's lengths look different\n",
    "# let's visualize this in a bar graph\n",
    "\n",
    "%matplotlib inline\n",
    "\n",
    "df.toc.str.len().plot.bar();"
   ]
  },
  {
   "cell_type": "code",
   "execution_count": 239,
   "metadata": {},
   "outputs": [
    {
     "data": {
      "image/png": "[encoded data removed]",
      "text/plain": [
       "<Figure size 432x288 with 1 Axes>"
      ]
     },
     "metadata": {
      "needs_background": "light"
     },
     "output_type": "display_data"
    }
   ],
   "source": [
    "# the bar plot makes it easy to compare the toc lengths amongst the locations\n",
    "# however, it's still hard to see the ascending/descending length order\n",
    "# let's sort the values and then graph again\n",
    "df.toc.str.len().sort_values().plot.bar();"
   ]
  },
  {
   "cell_type": "code",
   "execution_count": 241,
   "metadata": {},
   "outputs": [
    {
     "data": {
      "image/png": "[encoded data removed]",
      "text/plain": [
       "<Figure size 432x288 with 1 Axes>"
      ]
     },
     "metadata": {
      "needs_background": "light"
     },
     "output_type": "display_data"
    }
   ],
   "source": [
    "# notice that \"South Padre Island\" is at the far right rather than the left\n",
    "# this is because the value is `NaN` rather than 0. If it was 0 then it would be on the far left\n",
    "# suppose you wanted to graph the values in descending order rather than ascending\n",
    "# `.sort_values` accepts the parameter `ascending` where the default value is `True`\n",
    "# switch it to `False` and watch the graph reverse\n",
    "df.toc.str.len().sort_values(ascending=False).plot.bar();"
   ]
  },
  {
   "cell_type": "code",
   "execution_count": 246,
   "metadata": {},
   "outputs": [
    {
     "data": {
      "text/html": [
       "<div>\n",
       "<style scoped>\n",
       "    .dataframe tbody tr th:only-of-type {\n",
       "        vertical-align: middle;\n",
       "    }\n",
       "\n",
       "    .dataframe tbody tr th {\n",
       "        vertical-align: top;\n",
       "    }\n",
       "\n",
       "    .dataframe thead th {\n",
       "        text-align: right;\n",
       "    }\n",
       "</style>\n",
       "<table border=\"1\" class=\"dataframe\">\n",
       "  <thead>\n",
       "    <tr style=\"text-align: right;\">\n",
       "      <th></th>\n",
       "      <th>0</th>\n",
       "      <th>1</th>\n",
       "      <th>2</th>\n",
       "      <th>3</th>\n",
       "      <th>4</th>\n",
       "      <th>5</th>\n",
       "      <th>6</th>\n",
       "      <th>7</th>\n",
       "      <th>8</th>\n",
       "      <th>9</th>\n",
       "      <th>...</th>\n",
       "      <th>46</th>\n",
       "      <th>47</th>\n",
       "      <th>48</th>\n",
       "      <th>49</th>\n",
       "      <th>50</th>\n",
       "      <th>51</th>\n",
       "      <th>52</th>\n",
       "      <th>53</th>\n",
       "      <th>54</th>\n",
       "      <th>55</th>\n",
       "    </tr>\n",
       "  </thead>\n",
       "  <tbody>\n",
       "    <tr>\n",
       "      <th>Cancun</th>\n",
       "      <td>Etymology and coat of arms</td>\n",
       "      <td>History</td>\n",
       "      <td>City layout</td>\n",
       "      <td>Cancún Airport's old Control Tower Memorial</td>\n",
       "      <td>Maya archaeological sites</td>\n",
       "      <td>Transportation</td>\n",
       "      <td>Climate</td>\n",
       "      <td>Hurricane Gilbert</td>\n",
       "      <td>Hurricane Wilma</td>\n",
       "      <td>Hurricane Dean</td>\n",
       "      <td>...</td>\n",
       "      <td>NaN</td>\n",
       "      <td>NaN</td>\n",
       "      <td>NaN</td>\n",
       "      <td>NaN</td>\n",
       "      <td>NaN</td>\n",
       "      <td>NaN</td>\n",
       "      <td>NaN</td>\n",
       "      <td>NaN</td>\n",
       "      <td>NaN</td>\n",
       "      <td>NaN</td>\n",
       "    </tr>\n",
       "    <tr>\n",
       "      <th>Las Vegas</th>\n",
       "      <td>History</td>\n",
       "      <td>Geography</td>\n",
       "      <td>Climate</td>\n",
       "      <td>Nearby communities</td>\n",
       "      <td>Neighborhoods</td>\n",
       "      <td>Demographics</td>\n",
       "      <td>Economy</td>\n",
       "      <td>Tourism</td>\n",
       "      <td>Downtown casinos</td>\n",
       "      <td>Las Vegas Strip</td>\n",
       "      <td>...</td>\n",
       "      <td>NaN</td>\n",
       "      <td>NaN</td>\n",
       "      <td>NaN</td>\n",
       "      <td>NaN</td>\n",
       "      <td>NaN</td>\n",
       "      <td>NaN</td>\n",
       "      <td>NaN</td>\n",
       "      <td>NaN</td>\n",
       "      <td>NaN</td>\n",
       "      <td>NaN</td>\n",
       "    </tr>\n",
       "    <tr>\n",
       "      <th>Jamaica</th>\n",
       "      <td>Etymology</td>\n",
       "      <td>History</td>\n",
       "      <td>Prehistory</td>\n",
       "      <td>Spanish rule (1509–1655)</td>\n",
       "      <td>British rule (1655–1962)</td>\n",
       "      <td>Independence (1962)</td>\n",
       "      <td>Government and politics</td>\n",
       "      <td>Political parties and elections</td>\n",
       "      <td>Administrative divisions</td>\n",
       "      <td>Military</td>\n",
       "      <td>...</td>\n",
       "      <td>NaN</td>\n",
       "      <td>NaN</td>\n",
       "      <td>NaN</td>\n",
       "      <td>NaN</td>\n",
       "      <td>NaN</td>\n",
       "      <td>NaN</td>\n",
       "      <td>NaN</td>\n",
       "      <td>NaN</td>\n",
       "      <td>NaN</td>\n",
       "      <td>NaN</td>\n",
       "    </tr>\n",
       "    <tr>\n",
       "      <th>Miami</th>\n",
       "      <td>History</td>\n",
       "      <td>Geography</td>\n",
       "      <td>Geology</td>\n",
       "      <td>Cityscape</td>\n",
       "      <td>Neighborhoods</td>\n",
       "      <td>Climate</td>\n",
       "      <td>Demographics</td>\n",
       "      <td>Race, ethnicity, religion, and languages</td>\n",
       "      <td>Education, households, and income</td>\n",
       "      <td>Civic engagement</td>\n",
       "      <td>...</td>\n",
       "      <td>NaN</td>\n",
       "      <td>NaN</td>\n",
       "      <td>NaN</td>\n",
       "      <td>NaN</td>\n",
       "      <td>NaN</td>\n",
       "      <td>NaN</td>\n",
       "      <td>NaN</td>\n",
       "      <td>NaN</td>\n",
       "      <td>NaN</td>\n",
       "      <td>NaN</td>\n",
       "    </tr>\n",
       "    <tr>\n",
       "      <th>Dominican Republic</th>\n",
       "      <td>Names and etymology</td>\n",
       "      <td>History</td>\n",
       "      <td>Pre-European history</td>\n",
       "      <td>European colonization</td>\n",
       "      <td>18th century</td>\n",
       "      <td>French rule</td>\n",
       "      <td>Independence from Spain (1821)</td>\n",
       "      <td>Unification of Hispaniola (1822–44)</td>\n",
       "      <td>Independence from Haiti (1844)</td>\n",
       "      <td>First Republic</td>\n",
       "      <td>...</td>\n",
       "      <td>Cuisine</td>\n",
       "      <td>Music and dance</td>\n",
       "      <td>Fashion</td>\n",
       "      <td>National symbols</td>\n",
       "      <td>Sports</td>\n",
       "      <td>See also</td>\n",
       "      <td>Notes and references</td>\n",
       "      <td>Bibliography</td>\n",
       "      <td>Further reading</td>\n",
       "      <td>External links</td>\n",
       "    </tr>\n",
       "    <tr>\n",
       "      <th>South Padre Island</th>\n",
       "      <td>NaN</td>\n",
       "      <td>NaN</td>\n",
       "      <td>NaN</td>\n",
       "      <td>NaN</td>\n",
       "      <td>NaN</td>\n",
       "      <td>NaN</td>\n",
       "      <td>NaN</td>\n",
       "      <td>NaN</td>\n",
       "      <td>NaN</td>\n",
       "      <td>NaN</td>\n",
       "      <td>...</td>\n",
       "      <td>NaN</td>\n",
       "      <td>NaN</td>\n",
       "      <td>NaN</td>\n",
       "      <td>NaN</td>\n",
       "      <td>NaN</td>\n",
       "      <td>NaN</td>\n",
       "      <td>NaN</td>\n",
       "      <td>NaN</td>\n",
       "      <td>NaN</td>\n",
       "      <td>NaN</td>\n",
       "    </tr>\n",
       "    <tr>\n",
       "      <th>Puerto Vallarta</th>\n",
       "      <td>History</td>\n",
       "      <td>Pre-Hispanic times to the 19th century</td>\n",
       "      <td>El Carrizal and Las Peñas - 19th century</td>\n",
       "      <td>The early municipality - early 20th century</td>\n",
       "      <td>The modern resort - 1960s to the present</td>\n",
       "      <td>Climate</td>\n",
       "      <td>Hurricane Patricia</td>\n",
       "      <td>Geography, geology and ecology</td>\n",
       "      <td>Geographical characteristics</td>\n",
       "      <td>Seismic history</td>\n",
       "      <td>...</td>\n",
       "      <td>NaN</td>\n",
       "      <td>NaN</td>\n",
       "      <td>NaN</td>\n",
       "      <td>NaN</td>\n",
       "      <td>NaN</td>\n",
       "      <td>NaN</td>\n",
       "      <td>NaN</td>\n",
       "      <td>NaN</td>\n",
       "      <td>NaN</td>\n",
       "      <td>NaN</td>\n",
       "    </tr>\n",
       "    <tr>\n",
       "      <th>Bahamas</th>\n",
       "      <td>Etymology</td>\n",
       "      <td>History</td>\n",
       "      <td>18th–19th centuries</td>\n",
       "      <td>20th century</td>\n",
       "      <td>Post-Second World War</td>\n",
       "      <td>Geography</td>\n",
       "      <td>Castaway Cay</td>\n",
       "      <td>Climate</td>\n",
       "      <td>Geology</td>\n",
       "      <td>Government and politics</td>\n",
       "      <td>...</td>\n",
       "      <td>NaN</td>\n",
       "      <td>NaN</td>\n",
       "      <td>NaN</td>\n",
       "      <td>NaN</td>\n",
       "      <td>NaN</td>\n",
       "      <td>NaN</td>\n",
       "      <td>NaN</td>\n",
       "      <td>NaN</td>\n",
       "      <td>NaN</td>\n",
       "      <td>NaN</td>\n",
       "    </tr>\n",
       "  </tbody>\n",
       "</table>\n",
       "<p>8 rows × 56 columns</p>\n",
       "</div>"
      ],
      "text/plain": [
       "                                            0   \\\n",
       "Cancun              Etymology and coat of arms   \n",
       "Las Vegas                              History   \n",
       "Jamaica                              Etymology   \n",
       "Miami                                  History   \n",
       "Dominican Republic         Names and etymology   \n",
       "South Padre Island                         NaN   \n",
       "Puerto Vallarta                        History   \n",
       "Bahamas                              Etymology   \n",
       "\n",
       "                                                        1   \\\n",
       "Cancun                                             History   \n",
       "Las Vegas                                        Geography   \n",
       "Jamaica                                            History   \n",
       "Miami                                            Geography   \n",
       "Dominican Republic                                 History   \n",
       "South Padre Island                                     NaN   \n",
       "Puerto Vallarta     Pre-Hispanic times to the 19th century   \n",
       "Bahamas                                            History   \n",
       "\n",
       "                                                          2   \\\n",
       "Cancun                                           City layout   \n",
       "Las Vegas                                            Climate   \n",
       "Jamaica                                           Prehistory   \n",
       "Miami                                                Geology   \n",
       "Dominican Republic                      Pre-European history   \n",
       "South Padre Island                                       NaN   \n",
       "Puerto Vallarta     El Carrizal and Las Peñas - 19th century   \n",
       "Bahamas                                  18th–19th centuries   \n",
       "\n",
       "                                                             3   \\\n",
       "Cancun              Cancún Airport's old Control Tower Memorial   \n",
       "Las Vegas                                    Nearby communities   \n",
       "Jamaica                                Spanish rule (1509–1655)   \n",
       "Miami                                                 Cityscape   \n",
       "Dominican Republic                        European colonization   \n",
       "South Padre Island                                          NaN   \n",
       "Puerto Vallarta     The early municipality - early 20th century   \n",
       "Bahamas                                            20th century   \n",
       "\n",
       "                                                          4   \\\n",
       "Cancun                             Maya archaeological sites   \n",
       "Las Vegas                                      Neighborhoods   \n",
       "Jamaica                             British rule (1655–1962)   \n",
       "Miami                                          Neighborhoods   \n",
       "Dominican Republic                              18th century   \n",
       "South Padre Island                                       NaN   \n",
       "Puerto Vallarta     The modern resort - 1960s to the present   \n",
       "Bahamas                                Post-Second World War   \n",
       "\n",
       "                                     5                               6   \\\n",
       "Cancun                   Transportation                         Climate   \n",
       "Las Vegas                  Demographics                         Economy   \n",
       "Jamaica             Independence (1962)         Government and politics   \n",
       "Miami                           Climate                    Demographics   \n",
       "Dominican Republic          French rule  Independence from Spain (1821)   \n",
       "South Padre Island                  NaN                             NaN   \n",
       "Puerto Vallarta                 Climate              Hurricane Patricia   \n",
       "Bahamas                       Geography                    Castaway Cay   \n",
       "\n",
       "                                                          7   \\\n",
       "Cancun                                     Hurricane Gilbert   \n",
       "Las Vegas                                            Tourism   \n",
       "Jamaica                      Political parties and elections   \n",
       "Miami               Race, ethnicity, religion, and languages   \n",
       "Dominican Republic       Unification of Hispaniola (1822–44)   \n",
       "South Padre Island                                       NaN   \n",
       "Puerto Vallarta               Geography, geology and ecology   \n",
       "Bahamas                                              Climate   \n",
       "\n",
       "                                                   8   \\\n",
       "Cancun                                Hurricane Wilma   \n",
       "Las Vegas                            Downtown casinos   \n",
       "Jamaica                      Administrative divisions   \n",
       "Miami               Education, households, and income   \n",
       "Dominican Republic     Independence from Haiti (1844)   \n",
       "South Padre Island                                NaN   \n",
       "Puerto Vallarta          Geographical characteristics   \n",
       "Bahamas                                       Geology   \n",
       "\n",
       "                                         9        ...             46  \\\n",
       "Cancun                       Hurricane Dean       ...            NaN   \n",
       "Las Vegas                   Las Vegas Strip       ...            NaN   \n",
       "Jamaica                            Military       ...            NaN   \n",
       "Miami                      Civic engagement       ...            NaN   \n",
       "Dominican Republic           First Republic       ...        Cuisine   \n",
       "South Padre Island                      NaN       ...            NaN   \n",
       "Puerto Vallarta             Seismic history       ...            NaN   \n",
       "Bahamas             Government and politics       ...            NaN   \n",
       "\n",
       "                                 47       48                49      50  \\\n",
       "Cancun                          NaN      NaN               NaN     NaN   \n",
       "Las Vegas                       NaN      NaN               NaN     NaN   \n",
       "Jamaica                         NaN      NaN               NaN     NaN   \n",
       "Miami                           NaN      NaN               NaN     NaN   \n",
       "Dominican Republic  Music and dance  Fashion  National symbols  Sports   \n",
       "South Padre Island              NaN      NaN               NaN     NaN   \n",
       "Puerto Vallarta                 NaN      NaN               NaN     NaN   \n",
       "Bahamas                         NaN      NaN               NaN     NaN   \n",
       "\n",
       "                          51                    52            53  \\\n",
       "Cancun                   NaN                   NaN           NaN   \n",
       "Las Vegas                NaN                   NaN           NaN   \n",
       "Jamaica                  NaN                   NaN           NaN   \n",
       "Miami                    NaN                   NaN           NaN   \n",
       "Dominican Republic  See also  Notes and references  Bibliography   \n",
       "South Padre Island       NaN                   NaN           NaN   \n",
       "Puerto Vallarta          NaN                   NaN           NaN   \n",
       "Bahamas                  NaN                   NaN           NaN   \n",
       "\n",
       "                                 54              55  \n",
       "Cancun                          NaN             NaN  \n",
       "Las Vegas                       NaN             NaN  \n",
       "Jamaica                         NaN             NaN  \n",
       "Miami                           NaN             NaN  \n",
       "Dominican Republic  Further reading  External links  \n",
       "South Padre Island              NaN             NaN  \n",
       "Puerto Vallarta                 NaN             NaN  \n",
       "Bahamas                         NaN             NaN  \n",
       "\n",
       "[8 rows x 56 columns]"
      ]
     },
     "execution_count": 246,
     "metadata": {},
     "output_type": "execute_result"
    }
   ],
   "source": [
    "# notice that \"South Padre Island\" was placed on the far right again\n",
    "# `.sort_values` does this by default with the parameter `na_position` which is set to \"last\" by default\n",
    "# suppose we want a row for each toc item with respect to location\n",
    "# to do this we can apply the function `pd.Series` to the column and watch the values explode into columns\n",
    "df.toc.apply(pd.Series)"
   ]
  },
  {
   "cell_type": "code",
   "execution_count": 247,
   "metadata": {},
   "outputs": [],
   "source": [
    "# store this as toc_explode so we can work with it separate from df\n",
    "toc_explode = df.toc.apply(pd.Series)"
   ]
  },
  {
   "cell_type": "code",
   "execution_count": 249,
   "metadata": {},
   "outputs": [
    {
     "data": {
      "text/plain": [
       "RangeIndex(start=0, stop=56, step=1)"
      ]
     },
     "execution_count": 249,
     "metadata": {},
     "output_type": "execute_result"
    }
   ],
   "source": [
    "# check out the columns\n",
    "toc_explode.columns"
   ]
  },
  {
   "cell_type": "code",
   "execution_count": 250,
   "metadata": {
    "scrolled": true
   },
   "outputs": [
    {
     "data": {
      "text/html": [
       "<div>\n",
       "<style scoped>\n",
       "    .dataframe tbody tr th:only-of-type {\n",
       "        vertical-align: middle;\n",
       "    }\n",
       "\n",
       "    .dataframe tbody tr th {\n",
       "        vertical-align: top;\n",
       "    }\n",
       "\n",
       "    .dataframe thead th {\n",
       "        text-align: right;\n",
       "    }\n",
       "</style>\n",
       "<table border=\"1\" class=\"dataframe\">\n",
       "  <thead>\n",
       "    <tr style=\"text-align: right;\">\n",
       "      <th></th>\n",
       "      <th>variable</th>\n",
       "      <th>value</th>\n",
       "    </tr>\n",
       "  </thead>\n",
       "  <tbody>\n",
       "    <tr>\n",
       "      <th>0</th>\n",
       "      <td>0</td>\n",
       "      <td>Etymology and coat of arms</td>\n",
       "    </tr>\n",
       "    <tr>\n",
       "      <th>1</th>\n",
       "      <td>0</td>\n",
       "      <td>History</td>\n",
       "    </tr>\n",
       "    <tr>\n",
       "      <th>2</th>\n",
       "      <td>0</td>\n",
       "      <td>Etymology</td>\n",
       "    </tr>\n",
       "    <tr>\n",
       "      <th>3</th>\n",
       "      <td>0</td>\n",
       "      <td>History</td>\n",
       "    </tr>\n",
       "    <tr>\n",
       "      <th>4</th>\n",
       "      <td>0</td>\n",
       "      <td>Names and etymology</td>\n",
       "    </tr>\n",
       "    <tr>\n",
       "      <th>5</th>\n",
       "      <td>0</td>\n",
       "      <td>NaN</td>\n",
       "    </tr>\n",
       "    <tr>\n",
       "      <th>6</th>\n",
       "      <td>0</td>\n",
       "      <td>History</td>\n",
       "    </tr>\n",
       "    <tr>\n",
       "      <th>7</th>\n",
       "      <td>0</td>\n",
       "      <td>Etymology</td>\n",
       "    </tr>\n",
       "    <tr>\n",
       "      <th>8</th>\n",
       "      <td>1</td>\n",
       "      <td>History</td>\n",
       "    </tr>\n",
       "    <tr>\n",
       "      <th>9</th>\n",
       "      <td>1</td>\n",
       "      <td>Geography</td>\n",
       "    </tr>\n",
       "    <tr>\n",
       "      <th>10</th>\n",
       "      <td>1</td>\n",
       "      <td>History</td>\n",
       "    </tr>\n",
       "    <tr>\n",
       "      <th>11</th>\n",
       "      <td>1</td>\n",
       "      <td>Geography</td>\n",
       "    </tr>\n",
       "    <tr>\n",
       "      <th>12</th>\n",
       "      <td>1</td>\n",
       "      <td>History</td>\n",
       "    </tr>\n",
       "    <tr>\n",
       "      <th>13</th>\n",
       "      <td>1</td>\n",
       "      <td>NaN</td>\n",
       "    </tr>\n",
       "    <tr>\n",
       "      <th>14</th>\n",
       "      <td>1</td>\n",
       "      <td>Pre-Hispanic times to the 19th century</td>\n",
       "    </tr>\n",
       "    <tr>\n",
       "      <th>15</th>\n",
       "      <td>1</td>\n",
       "      <td>History</td>\n",
       "    </tr>\n",
       "    <tr>\n",
       "      <th>16</th>\n",
       "      <td>2</td>\n",
       "      <td>City layout</td>\n",
       "    </tr>\n",
       "    <tr>\n",
       "      <th>17</th>\n",
       "      <td>2</td>\n",
       "      <td>Climate</td>\n",
       "    </tr>\n",
       "    <tr>\n",
       "      <th>18</th>\n",
       "      <td>2</td>\n",
       "      <td>Prehistory</td>\n",
       "    </tr>\n",
       "    <tr>\n",
       "      <th>19</th>\n",
       "      <td>2</td>\n",
       "      <td>Geology</td>\n",
       "    </tr>\n",
       "    <tr>\n",
       "      <th>20</th>\n",
       "      <td>2</td>\n",
       "      <td>Pre-European history</td>\n",
       "    </tr>\n",
       "    <tr>\n",
       "      <th>21</th>\n",
       "      <td>2</td>\n",
       "      <td>NaN</td>\n",
       "    </tr>\n",
       "    <tr>\n",
       "      <th>22</th>\n",
       "      <td>2</td>\n",
       "      <td>El Carrizal and Las Peñas - 19th century</td>\n",
       "    </tr>\n",
       "    <tr>\n",
       "      <th>23</th>\n",
       "      <td>2</td>\n",
       "      <td>18th–19th centuries</td>\n",
       "    </tr>\n",
       "    <tr>\n",
       "      <th>24</th>\n",
       "      <td>3</td>\n",
       "      <td>Cancún Airport's old Control Tower Memorial</td>\n",
       "    </tr>\n",
       "    <tr>\n",
       "      <th>25</th>\n",
       "      <td>3</td>\n",
       "      <td>Nearby communities</td>\n",
       "    </tr>\n",
       "    <tr>\n",
       "      <th>26</th>\n",
       "      <td>3</td>\n",
       "      <td>Spanish rule (1509–1655)</td>\n",
       "    </tr>\n",
       "    <tr>\n",
       "      <th>27</th>\n",
       "      <td>3</td>\n",
       "      <td>Cityscape</td>\n",
       "    </tr>\n",
       "    <tr>\n",
       "      <th>28</th>\n",
       "      <td>3</td>\n",
       "      <td>European colonization</td>\n",
       "    </tr>\n",
       "    <tr>\n",
       "      <th>29</th>\n",
       "      <td>3</td>\n",
       "      <td>NaN</td>\n",
       "    </tr>\n",
       "    <tr>\n",
       "      <th>...</th>\n",
       "      <td>...</td>\n",
       "      <td>...</td>\n",
       "    </tr>\n",
       "    <tr>\n",
       "      <th>418</th>\n",
       "      <td>52</td>\n",
       "      <td>NaN</td>\n",
       "    </tr>\n",
       "    <tr>\n",
       "      <th>419</th>\n",
       "      <td>52</td>\n",
       "      <td>NaN</td>\n",
       "    </tr>\n",
       "    <tr>\n",
       "      <th>420</th>\n",
       "      <td>52</td>\n",
       "      <td>Notes and references</td>\n",
       "    </tr>\n",
       "    <tr>\n",
       "      <th>421</th>\n",
       "      <td>52</td>\n",
       "      <td>NaN</td>\n",
       "    </tr>\n",
       "    <tr>\n",
       "      <th>422</th>\n",
       "      <td>52</td>\n",
       "      <td>NaN</td>\n",
       "    </tr>\n",
       "    <tr>\n",
       "      <th>423</th>\n",
       "      <td>52</td>\n",
       "      <td>NaN</td>\n",
       "    </tr>\n",
       "    <tr>\n",
       "      <th>424</th>\n",
       "      <td>53</td>\n",
       "      <td>NaN</td>\n",
       "    </tr>\n",
       "    <tr>\n",
       "      <th>425</th>\n",
       "      <td>53</td>\n",
       "      <td>NaN</td>\n",
       "    </tr>\n",
       "    <tr>\n",
       "      <th>426</th>\n",
       "      <td>53</td>\n",
       "      <td>NaN</td>\n",
       "    </tr>\n",
       "    <tr>\n",
       "      <th>427</th>\n",
       "      <td>53</td>\n",
       "      <td>NaN</td>\n",
       "    </tr>\n",
       "    <tr>\n",
       "      <th>428</th>\n",
       "      <td>53</td>\n",
       "      <td>Bibliography</td>\n",
       "    </tr>\n",
       "    <tr>\n",
       "      <th>429</th>\n",
       "      <td>53</td>\n",
       "      <td>NaN</td>\n",
       "    </tr>\n",
       "    <tr>\n",
       "      <th>430</th>\n",
       "      <td>53</td>\n",
       "      <td>NaN</td>\n",
       "    </tr>\n",
       "    <tr>\n",
       "      <th>431</th>\n",
       "      <td>53</td>\n",
       "      <td>NaN</td>\n",
       "    </tr>\n",
       "    <tr>\n",
       "      <th>432</th>\n",
       "      <td>54</td>\n",
       "      <td>NaN</td>\n",
       "    </tr>\n",
       "    <tr>\n",
       "      <th>433</th>\n",
       "      <td>54</td>\n",
       "      <td>NaN</td>\n",
       "    </tr>\n",
       "    <tr>\n",
       "      <th>434</th>\n",
       "      <td>54</td>\n",
       "      <td>NaN</td>\n",
       "    </tr>\n",
       "    <tr>\n",
       "      <th>435</th>\n",
       "      <td>54</td>\n",
       "      <td>NaN</td>\n",
       "    </tr>\n",
       "    <tr>\n",
       "      <th>436</th>\n",
       "      <td>54</td>\n",
       "      <td>Further reading</td>\n",
       "    </tr>\n",
       "    <tr>\n",
       "      <th>437</th>\n",
       "      <td>54</td>\n",
       "      <td>NaN</td>\n",
       "    </tr>\n",
       "    <tr>\n",
       "      <th>438</th>\n",
       "      <td>54</td>\n",
       "      <td>NaN</td>\n",
       "    </tr>\n",
       "    <tr>\n",
       "      <th>439</th>\n",
       "      <td>54</td>\n",
       "      <td>NaN</td>\n",
       "    </tr>\n",
       "    <tr>\n",
       "      <th>440</th>\n",
       "      <td>55</td>\n",
       "      <td>NaN</td>\n",
       "    </tr>\n",
       "    <tr>\n",
       "      <th>441</th>\n",
       "      <td>55</td>\n",
       "      <td>NaN</td>\n",
       "    </tr>\n",
       "    <tr>\n",
       "      <th>442</th>\n",
       "      <td>55</td>\n",
       "      <td>NaN</td>\n",
       "    </tr>\n",
       "    <tr>\n",
       "      <th>443</th>\n",
       "      <td>55</td>\n",
       "      <td>NaN</td>\n",
       "    </tr>\n",
       "    <tr>\n",
       "      <th>444</th>\n",
       "      <td>55</td>\n",
       "      <td>External links</td>\n",
       "    </tr>\n",
       "    <tr>\n",
       "      <th>445</th>\n",
       "      <td>55</td>\n",
       "      <td>NaN</td>\n",
       "    </tr>\n",
       "    <tr>\n",
       "      <th>446</th>\n",
       "      <td>55</td>\n",
       "      <td>NaN</td>\n",
       "    </tr>\n",
       "    <tr>\n",
       "      <th>447</th>\n",
       "      <td>55</td>\n",
       "      <td>NaN</td>\n",
       "    </tr>\n",
       "  </tbody>\n",
       "</table>\n",
       "<p>448 rows × 2 columns</p>\n",
       "</div>"
      ],
      "text/plain": [
       "     variable                                        value\n",
       "0           0                   Etymology and coat of arms\n",
       "1           0                                      History\n",
       "2           0                                    Etymology\n",
       "3           0                                      History\n",
       "4           0                          Names and etymology\n",
       "5           0                                          NaN\n",
       "6           0                                      History\n",
       "7           0                                    Etymology\n",
       "8           1                                      History\n",
       "9           1                                    Geography\n",
       "10          1                                      History\n",
       "11          1                                    Geography\n",
       "12          1                                      History\n",
       "13          1                                          NaN\n",
       "14          1       Pre-Hispanic times to the 19th century\n",
       "15          1                                      History\n",
       "16          2                                  City layout\n",
       "17          2                                      Climate\n",
       "18          2                                   Prehistory\n",
       "19          2                                      Geology\n",
       "20          2                         Pre-European history\n",
       "21          2                                          NaN\n",
       "22          2     El Carrizal and Las Peñas - 19th century\n",
       "23          2                          18th–19th centuries\n",
       "24          3  Cancún Airport's old Control Tower Memorial\n",
       "25          3                           Nearby communities\n",
       "26          3                     Spanish rule (1509–1655)\n",
       "27          3                                    Cityscape\n",
       "28          3                        European colonization\n",
       "29          3                                          NaN\n",
       "..        ...                                          ...\n",
       "418        52                                          NaN\n",
       "419        52                                          NaN\n",
       "420        52                         Notes and references\n",
       "421        52                                          NaN\n",
       "422        52                                          NaN\n",
       "423        52                                          NaN\n",
       "424        53                                          NaN\n",
       "425        53                                          NaN\n",
       "426        53                                          NaN\n",
       "427        53                                          NaN\n",
       "428        53                                 Bibliography\n",
       "429        53                                          NaN\n",
       "430        53                                          NaN\n",
       "431        53                                          NaN\n",
       "432        54                                          NaN\n",
       "433        54                                          NaN\n",
       "434        54                                          NaN\n",
       "435        54                                          NaN\n",
       "436        54                              Further reading\n",
       "437        54                                          NaN\n",
       "438        54                                          NaN\n",
       "439        54                                          NaN\n",
       "440        55                                          NaN\n",
       "441        55                                          NaN\n",
       "442        55                                          NaN\n",
       "443        55                                          NaN\n",
       "444        55                               External links\n",
       "445        55                                          NaN\n",
       "446        55                                          NaN\n",
       "447        55                                          NaN\n",
       "\n",
       "[448 rows x 2 columns]"
      ]
     },
     "execution_count": 250,
     "metadata": {},
     "output_type": "execute_result"
    }
   ],
   "source": [
    "# there are 57 of them (range between 0 and 56, inclusive)\n",
    "# looking at the bar plot (or table) above we can see the Dominican Republic has 57 items in its toc\n",
    "# since it is the largest, that was the number of columns made\n",
    "# if a location doesn't have that many, it fills in as many columns as it can with its values, and NaN for the rest\n",
    "# the issue with this is we want rows, not columns\n",
    "# we also want to keep our locations in the index\n",
    "# to do this manipulation we'll have to `melt` our dataframe\n",
    "toc_explode.melt()"
   ]
  },
  {
   "cell_type": "code",
   "execution_count": 253,
   "metadata": {},
   "outputs": [],
   "source": [
    "# simply performing the `melt` causes us to lose information (*hint, hint, the index*)\n",
    "# to keep the index, we'll reset it to a column first\n",
    "toc_explode.reset_index(inplace=True)"
   ]
  },
  {
   "cell_type": "code",
   "execution_count": 256,
   "metadata": {},
   "outputs": [
    {
     "data": {
      "text/html": [
       "<div>\n",
       "<style scoped>\n",
       "    .dataframe tbody tr th:only-of-type {\n",
       "        vertical-align: middle;\n",
       "    }\n",
       "\n",
       "    .dataframe tbody tr th {\n",
       "        vertical-align: top;\n",
       "    }\n",
       "\n",
       "    .dataframe thead th {\n",
       "        text-align: right;\n",
       "    }\n",
       "</style>\n",
       "<table border=\"1\" class=\"dataframe\">\n",
       "  <thead>\n",
       "    <tr style=\"text-align: right;\">\n",
       "      <th></th>\n",
       "      <th>index</th>\n",
       "      <th>0</th>\n",
       "      <th>1</th>\n",
       "      <th>2</th>\n",
       "      <th>3</th>\n",
       "      <th>4</th>\n",
       "      <th>5</th>\n",
       "      <th>6</th>\n",
       "      <th>7</th>\n",
       "      <th>8</th>\n",
       "      <th>...</th>\n",
       "      <th>46</th>\n",
       "      <th>47</th>\n",
       "      <th>48</th>\n",
       "      <th>49</th>\n",
       "      <th>50</th>\n",
       "      <th>51</th>\n",
       "      <th>52</th>\n",
       "      <th>53</th>\n",
       "      <th>54</th>\n",
       "      <th>55</th>\n",
       "    </tr>\n",
       "  </thead>\n",
       "  <tbody>\n",
       "    <tr>\n",
       "      <th>0</th>\n",
       "      <td>Cancun</td>\n",
       "      <td>Etymology and coat of arms</td>\n",
       "      <td>History</td>\n",
       "      <td>City layout</td>\n",
       "      <td>Cancún Airport's old Control Tower Memorial</td>\n",
       "      <td>Maya archaeological sites</td>\n",
       "      <td>Transportation</td>\n",
       "      <td>Climate</td>\n",
       "      <td>Hurricane Gilbert</td>\n",
       "      <td>Hurricane Wilma</td>\n",
       "      <td>...</td>\n",
       "      <td>NaN</td>\n",
       "      <td>NaN</td>\n",
       "      <td>NaN</td>\n",
       "      <td>NaN</td>\n",
       "      <td>NaN</td>\n",
       "      <td>NaN</td>\n",
       "      <td>NaN</td>\n",
       "      <td>NaN</td>\n",
       "      <td>NaN</td>\n",
       "      <td>NaN</td>\n",
       "    </tr>\n",
       "    <tr>\n",
       "      <th>1</th>\n",
       "      <td>Las Vegas</td>\n",
       "      <td>History</td>\n",
       "      <td>Geography</td>\n",
       "      <td>Climate</td>\n",
       "      <td>Nearby communities</td>\n",
       "      <td>Neighborhoods</td>\n",
       "      <td>Demographics</td>\n",
       "      <td>Economy</td>\n",
       "      <td>Tourism</td>\n",
       "      <td>Downtown casinos</td>\n",
       "      <td>...</td>\n",
       "      <td>NaN</td>\n",
       "      <td>NaN</td>\n",
       "      <td>NaN</td>\n",
       "      <td>NaN</td>\n",
       "      <td>NaN</td>\n",
       "      <td>NaN</td>\n",
       "      <td>NaN</td>\n",
       "      <td>NaN</td>\n",
       "      <td>NaN</td>\n",
       "      <td>NaN</td>\n",
       "    </tr>\n",
       "    <tr>\n",
       "      <th>2</th>\n",
       "      <td>Jamaica</td>\n",
       "      <td>Etymology</td>\n",
       "      <td>History</td>\n",
       "      <td>Prehistory</td>\n",
       "      <td>Spanish rule (1509–1655)</td>\n",
       "      <td>British rule (1655–1962)</td>\n",
       "      <td>Independence (1962)</td>\n",
       "      <td>Government and politics</td>\n",
       "      <td>Political parties and elections</td>\n",
       "      <td>Administrative divisions</td>\n",
       "      <td>...</td>\n",
       "      <td>NaN</td>\n",
       "      <td>NaN</td>\n",
       "      <td>NaN</td>\n",
       "      <td>NaN</td>\n",
       "      <td>NaN</td>\n",
       "      <td>NaN</td>\n",
       "      <td>NaN</td>\n",
       "      <td>NaN</td>\n",
       "      <td>NaN</td>\n",
       "      <td>NaN</td>\n",
       "    </tr>\n",
       "    <tr>\n",
       "      <th>3</th>\n",
       "      <td>Miami</td>\n",
       "      <td>History</td>\n",
       "      <td>Geography</td>\n",
       "      <td>Geology</td>\n",
       "      <td>Cityscape</td>\n",
       "      <td>Neighborhoods</td>\n",
       "      <td>Climate</td>\n",
       "      <td>Demographics</td>\n",
       "      <td>Race, ethnicity, religion, and languages</td>\n",
       "      <td>Education, households, and income</td>\n",
       "      <td>...</td>\n",
       "      <td>NaN</td>\n",
       "      <td>NaN</td>\n",
       "      <td>NaN</td>\n",
       "      <td>NaN</td>\n",
       "      <td>NaN</td>\n",
       "      <td>NaN</td>\n",
       "      <td>NaN</td>\n",
       "      <td>NaN</td>\n",
       "      <td>NaN</td>\n",
       "      <td>NaN</td>\n",
       "    </tr>\n",
       "    <tr>\n",
       "      <th>4</th>\n",
       "      <td>Dominican Republic</td>\n",
       "      <td>Names and etymology</td>\n",
       "      <td>History</td>\n",
       "      <td>Pre-European history</td>\n",
       "      <td>European colonization</td>\n",
       "      <td>18th century</td>\n",
       "      <td>French rule</td>\n",
       "      <td>Independence from Spain (1821)</td>\n",
       "      <td>Unification of Hispaniola (1822–44)</td>\n",
       "      <td>Independence from Haiti (1844)</td>\n",
       "      <td>...</td>\n",
       "      <td>Cuisine</td>\n",
       "      <td>Music and dance</td>\n",
       "      <td>Fashion</td>\n",
       "      <td>National symbols</td>\n",
       "      <td>Sports</td>\n",
       "      <td>See also</td>\n",
       "      <td>Notes and references</td>\n",
       "      <td>Bibliography</td>\n",
       "      <td>Further reading</td>\n",
       "      <td>External links</td>\n",
       "    </tr>\n",
       "  </tbody>\n",
       "</table>\n",
       "<p>5 rows × 57 columns</p>\n",
       "</div>"
      ],
      "text/plain": [
       "                index                           0          1  \\\n",
       "0              Cancun  Etymology and coat of arms    History   \n",
       "1           Las Vegas                     History  Geography   \n",
       "2             Jamaica                   Etymology    History   \n",
       "3               Miami                     History  Geography   \n",
       "4  Dominican Republic         Names and etymology    History   \n",
       "\n",
       "                      2                                            3  \\\n",
       "0           City layout  Cancún Airport's old Control Tower Memorial   \n",
       "1               Climate                           Nearby communities   \n",
       "2            Prehistory                     Spanish rule (1509–1655)   \n",
       "3               Geology                                    Cityscape   \n",
       "4  Pre-European history                        European colonization   \n",
       "\n",
       "                           4                    5  \\\n",
       "0  Maya archaeological sites       Transportation   \n",
       "1              Neighborhoods         Demographics   \n",
       "2   British rule (1655–1962)  Independence (1962)   \n",
       "3              Neighborhoods              Climate   \n",
       "4               18th century          French rule   \n",
       "\n",
       "                                6                                         7  \\\n",
       "0                         Climate                         Hurricane Gilbert   \n",
       "1                         Economy                                   Tourism   \n",
       "2         Government and politics           Political parties and elections   \n",
       "3                    Demographics  Race, ethnicity, religion, and languages   \n",
       "4  Independence from Spain (1821)       Unification of Hispaniola (1822–44)   \n",
       "\n",
       "                                   8       ...             46  \\\n",
       "0                    Hurricane Wilma       ...            NaN   \n",
       "1                   Downtown casinos       ...            NaN   \n",
       "2           Administrative divisions       ...            NaN   \n",
       "3  Education, households, and income       ...            NaN   \n",
       "4     Independence from Haiti (1844)       ...        Cuisine   \n",
       "\n",
       "                47       48                49      50        51  \\\n",
       "0              NaN      NaN               NaN     NaN       NaN   \n",
       "1              NaN      NaN               NaN     NaN       NaN   \n",
       "2              NaN      NaN               NaN     NaN       NaN   \n",
       "3              NaN      NaN               NaN     NaN       NaN   \n",
       "4  Music and dance  Fashion  National symbols  Sports  See also   \n",
       "\n",
       "                     52            53               54              55  \n",
       "0                   NaN           NaN              NaN             NaN  \n",
       "1                   NaN           NaN              NaN             NaN  \n",
       "2                   NaN           NaN              NaN             NaN  \n",
       "3                   NaN           NaN              NaN             NaN  \n",
       "4  Notes and references  Bibliography  Further reading  External links  \n",
       "\n",
       "[5 rows x 57 columns]"
      ]
     },
     "execution_count": 256,
     "metadata": {},
     "output_type": "execute_result"
    }
   ],
   "source": [
    "# look at what we did\n",
    "toc_explode.head()"
   ]
  },
  {
   "cell_type": "code",
   "execution_count": null,
   "metadata": {},
   "outputs": [],
   "source": []
  },
  {
   "cell_type": "code",
   "execution_count": 231,
   "metadata": {},
   "outputs": [
    {
     "data": {
      "text/html": [
       "<div>\n",
       "<style scoped>\n",
       "    .dataframe tbody tr th:only-of-type {\n",
       "        vertical-align: middle;\n",
       "    }\n",
       "\n",
       "    .dataframe tbody tr th {\n",
       "        vertical-align: top;\n",
       "    }\n",
       "\n",
       "    .dataframe thead th {\n",
       "        text-align: right;\n",
       "    }\n",
       "</style>\n",
       "<table border=\"1\" class=\"dataframe\">\n",
       "  <thead>\n",
       "    <tr style=\"text-align: right;\">\n",
       "      <th></th>\n",
       "      <th>value</th>\n",
       "    </tr>\n",
       "    <tr>\n",
       "      <th>index</th>\n",
       "      <th></th>\n",
       "    </tr>\n",
       "  </thead>\n",
       "  <tbody>\n",
       "    <tr>\n",
       "      <th>Cancun</th>\n",
       "      <td>Etymology and coat of arms</td>\n",
       "    </tr>\n",
       "    <tr>\n",
       "      <th>Las Vegas</th>\n",
       "      <td>History</td>\n",
       "    </tr>\n",
       "    <tr>\n",
       "      <th>Jamaica</th>\n",
       "      <td>Etymology</td>\n",
       "    </tr>\n",
       "    <tr>\n",
       "      <th>Miami</th>\n",
       "      <td>History</td>\n",
       "    </tr>\n",
       "    <tr>\n",
       "      <th>Dominican Republic</th>\n",
       "      <td>Names and etymology</td>\n",
       "    </tr>\n",
       "    <tr>\n",
       "      <th>South Padre Island</th>\n",
       "      <td>NaN</td>\n",
       "    </tr>\n",
       "    <tr>\n",
       "      <th>Puerto Vallarta</th>\n",
       "      <td>History</td>\n",
       "    </tr>\n",
       "    <tr>\n",
       "      <th>Bahamas</th>\n",
       "      <td>Etymology</td>\n",
       "    </tr>\n",
       "    <tr>\n",
       "      <th>Cancun</th>\n",
       "      <td>History</td>\n",
       "    </tr>\n",
       "    <tr>\n",
       "      <th>Las Vegas</th>\n",
       "      <td>Geography</td>\n",
       "    </tr>\n",
       "    <tr>\n",
       "      <th>Jamaica</th>\n",
       "      <td>History</td>\n",
       "    </tr>\n",
       "    <tr>\n",
       "      <th>Miami</th>\n",
       "      <td>Geography</td>\n",
       "    </tr>\n",
       "    <tr>\n",
       "      <th>Dominican Republic</th>\n",
       "      <td>History</td>\n",
       "    </tr>\n",
       "    <tr>\n",
       "      <th>South Padre Island</th>\n",
       "      <td>NaN</td>\n",
       "    </tr>\n",
       "    <tr>\n",
       "      <th>Puerto Vallarta</th>\n",
       "      <td>Pre-Hispanic times to the 19th century</td>\n",
       "    </tr>\n",
       "    <tr>\n",
       "      <th>Bahamas</th>\n",
       "      <td>History</td>\n",
       "    </tr>\n",
       "    <tr>\n",
       "      <th>Cancun</th>\n",
       "      <td>City layout</td>\n",
       "    </tr>\n",
       "    <tr>\n",
       "      <th>Las Vegas</th>\n",
       "      <td>Climate</td>\n",
       "    </tr>\n",
       "    <tr>\n",
       "      <th>Jamaica</th>\n",
       "      <td>Prehistory</td>\n",
       "    </tr>\n",
       "    <tr>\n",
       "      <th>Miami</th>\n",
       "      <td>Geology</td>\n",
       "    </tr>\n",
       "    <tr>\n",
       "      <th>Dominican Republic</th>\n",
       "      <td>Pre-European history</td>\n",
       "    </tr>\n",
       "    <tr>\n",
       "      <th>South Padre Island</th>\n",
       "      <td>NaN</td>\n",
       "    </tr>\n",
       "    <tr>\n",
       "      <th>Puerto Vallarta</th>\n",
       "      <td>El Carrizal and Las Peñas - 19th century</td>\n",
       "    </tr>\n",
       "    <tr>\n",
       "      <th>Bahamas</th>\n",
       "      <td>18th–19th centuries</td>\n",
       "    </tr>\n",
       "    <tr>\n",
       "      <th>Cancun</th>\n",
       "      <td>Cancún Airport's old Control Tower Memorial</td>\n",
       "    </tr>\n",
       "    <tr>\n",
       "      <th>Las Vegas</th>\n",
       "      <td>Nearby communities</td>\n",
       "    </tr>\n",
       "    <tr>\n",
       "      <th>Jamaica</th>\n",
       "      <td>Spanish rule (1509–1655)</td>\n",
       "    </tr>\n",
       "    <tr>\n",
       "      <th>Miami</th>\n",
       "      <td>Cityscape</td>\n",
       "    </tr>\n",
       "    <tr>\n",
       "      <th>Dominican Republic</th>\n",
       "      <td>European colonization</td>\n",
       "    </tr>\n",
       "    <tr>\n",
       "      <th>South Padre Island</th>\n",
       "      <td>NaN</td>\n",
       "    </tr>\n",
       "    <tr>\n",
       "      <th>...</th>\n",
       "      <td>...</td>\n",
       "    </tr>\n",
       "    <tr>\n",
       "      <th>Jamaica</th>\n",
       "      <td>NaN</td>\n",
       "    </tr>\n",
       "    <tr>\n",
       "      <th>Miami</th>\n",
       "      <td>NaN</td>\n",
       "    </tr>\n",
       "    <tr>\n",
       "      <th>Dominican Republic</th>\n",
       "      <td>Notes and references</td>\n",
       "    </tr>\n",
       "    <tr>\n",
       "      <th>South Padre Island</th>\n",
       "      <td>NaN</td>\n",
       "    </tr>\n",
       "    <tr>\n",
       "      <th>Puerto Vallarta</th>\n",
       "      <td>NaN</td>\n",
       "    </tr>\n",
       "    <tr>\n",
       "      <th>Bahamas</th>\n",
       "      <td>NaN</td>\n",
       "    </tr>\n",
       "    <tr>\n",
       "      <th>Cancun</th>\n",
       "      <td>NaN</td>\n",
       "    </tr>\n",
       "    <tr>\n",
       "      <th>Las Vegas</th>\n",
       "      <td>NaN</td>\n",
       "    </tr>\n",
       "    <tr>\n",
       "      <th>Jamaica</th>\n",
       "      <td>NaN</td>\n",
       "    </tr>\n",
       "    <tr>\n",
       "      <th>Miami</th>\n",
       "      <td>NaN</td>\n",
       "    </tr>\n",
       "    <tr>\n",
       "      <th>Dominican Republic</th>\n",
       "      <td>Bibliography</td>\n",
       "    </tr>\n",
       "    <tr>\n",
       "      <th>South Padre Island</th>\n",
       "      <td>NaN</td>\n",
       "    </tr>\n",
       "    <tr>\n",
       "      <th>Puerto Vallarta</th>\n",
       "      <td>NaN</td>\n",
       "    </tr>\n",
       "    <tr>\n",
       "      <th>Bahamas</th>\n",
       "      <td>NaN</td>\n",
       "    </tr>\n",
       "    <tr>\n",
       "      <th>Cancun</th>\n",
       "      <td>NaN</td>\n",
       "    </tr>\n",
       "    <tr>\n",
       "      <th>Las Vegas</th>\n",
       "      <td>NaN</td>\n",
       "    </tr>\n",
       "    <tr>\n",
       "      <th>Jamaica</th>\n",
       "      <td>NaN</td>\n",
       "    </tr>\n",
       "    <tr>\n",
       "      <th>Miami</th>\n",
       "      <td>NaN</td>\n",
       "    </tr>\n",
       "    <tr>\n",
       "      <th>Dominican Republic</th>\n",
       "      <td>Further reading</td>\n",
       "    </tr>\n",
       "    <tr>\n",
       "      <th>South Padre Island</th>\n",
       "      <td>NaN</td>\n",
       "    </tr>\n",
       "    <tr>\n",
       "      <th>Puerto Vallarta</th>\n",
       "      <td>NaN</td>\n",
       "    </tr>\n",
       "    <tr>\n",
       "      <th>Bahamas</th>\n",
       "      <td>NaN</td>\n",
       "    </tr>\n",
       "    <tr>\n",
       "      <th>Cancun</th>\n",
       "      <td>NaN</td>\n",
       "    </tr>\n",
       "    <tr>\n",
       "      <th>Las Vegas</th>\n",
       "      <td>NaN</td>\n",
       "    </tr>\n",
       "    <tr>\n",
       "      <th>Jamaica</th>\n",
       "      <td>NaN</td>\n",
       "    </tr>\n",
       "    <tr>\n",
       "      <th>Miami</th>\n",
       "      <td>NaN</td>\n",
       "    </tr>\n",
       "    <tr>\n",
       "      <th>Dominican Republic</th>\n",
       "      <td>External links</td>\n",
       "    </tr>\n",
       "    <tr>\n",
       "      <th>South Padre Island</th>\n",
       "      <td>NaN</td>\n",
       "    </tr>\n",
       "    <tr>\n",
       "      <th>Puerto Vallarta</th>\n",
       "      <td>NaN</td>\n",
       "    </tr>\n",
       "    <tr>\n",
       "      <th>Bahamas</th>\n",
       "      <td>NaN</td>\n",
       "    </tr>\n",
       "  </tbody>\n",
       "</table>\n",
       "<p>448 rows × 1 columns</p>\n",
       "</div>"
      ],
      "text/plain": [
       "                                                          value\n",
       "index                                                          \n",
       "Cancun                               Etymology and coat of arms\n",
       "Las Vegas                                               History\n",
       "Jamaica                                               Etymology\n",
       "Miami                                                   History\n",
       "Dominican Republic                          Names and etymology\n",
       "South Padre Island                                          NaN\n",
       "Puerto Vallarta                                         History\n",
       "Bahamas                                               Etymology\n",
       "Cancun                                                  History\n",
       "Las Vegas                                             Geography\n",
       "Jamaica                                                 History\n",
       "Miami                                                 Geography\n",
       "Dominican Republic                                      History\n",
       "South Padre Island                                          NaN\n",
       "Puerto Vallarta          Pre-Hispanic times to the 19th century\n",
       "Bahamas                                                 History\n",
       "Cancun                                              City layout\n",
       "Las Vegas                                               Climate\n",
       "Jamaica                                              Prehistory\n",
       "Miami                                                   Geology\n",
       "Dominican Republic                         Pre-European history\n",
       "South Padre Island                                          NaN\n",
       "Puerto Vallarta        El Carrizal and Las Peñas - 19th century\n",
       "Bahamas                                     18th–19th centuries\n",
       "Cancun              Cancún Airport's old Control Tower Memorial\n",
       "Las Vegas                                    Nearby communities\n",
       "Jamaica                                Spanish rule (1509–1655)\n",
       "Miami                                                 Cityscape\n",
       "Dominican Republic                        European colonization\n",
       "South Padre Island                                          NaN\n",
       "...                                                         ...\n",
       "Jamaica                                                     NaN\n",
       "Miami                                                       NaN\n",
       "Dominican Republic                         Notes and references\n",
       "South Padre Island                                          NaN\n",
       "Puerto Vallarta                                             NaN\n",
       "Bahamas                                                     NaN\n",
       "Cancun                                                      NaN\n",
       "Las Vegas                                                   NaN\n",
       "Jamaica                                                     NaN\n",
       "Miami                                                       NaN\n",
       "Dominican Republic                                 Bibliography\n",
       "South Padre Island                                          NaN\n",
       "Puerto Vallarta                                             NaN\n",
       "Bahamas                                                     NaN\n",
       "Cancun                                                      NaN\n",
       "Las Vegas                                                   NaN\n",
       "Jamaica                                                     NaN\n",
       "Miami                                                       NaN\n",
       "Dominican Republic                              Further reading\n",
       "South Padre Island                                          NaN\n",
       "Puerto Vallarta                                             NaN\n",
       "Bahamas                                                     NaN\n",
       "Cancun                                                      NaN\n",
       "Las Vegas                                                   NaN\n",
       "Jamaica                                                     NaN\n",
       "Miami                                                       NaN\n",
       "Dominican Republic                               External links\n",
       "South Padre Island                                          NaN\n",
       "Puerto Vallarta                                             NaN\n",
       "Bahamas                                                     NaN\n",
       "\n",
       "[448 rows x 1 columns]"
      ]
     },
     "execution_count": 231,
     "metadata": {},
     "output_type": "execute_result"
    }
   ],
   "source": [
    "df.toc.apply(pd.Series).reset_index().melt(id_vars='index').set_index('index').drop(columns='variable')"
   ]
  }
 ],
 "metadata": {
  "kernelspec": {
   "display_name": "Python 3",
   "language": "python",
   "name": "python3"
  },
  "language_info": {
   "codemirror_mode": {
    "name": "ipython",
    "version": 3
   },
   "file_extension": ".py",
   "mimetype": "text/x-python",
   "name": "python",
   "nbconvert_exporter": "python",
   "pygments_lexer": "ipython3",
   "version": "3.7.2"
  }
 },
 "nbformat": 4,
 "nbformat_minor": 2
}
