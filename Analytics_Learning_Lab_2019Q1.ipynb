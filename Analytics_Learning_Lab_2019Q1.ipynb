{
 "cells": [
  {
   "cell_type": "markdown",
   "metadata": {},
   "source": [
    "# [8 of the best spring break party destinations](https://abcnews.go.com/GMA/Travel/best-spring-break-party-destinations/story?id=52904679)"
   ]
  },
  {
   "cell_type": "markdown",
   "metadata": {},
   "source": [
    "### Web Scraping"
   ]
  },
  {
   "cell_type": "markdown",
   "metadata": {},
   "source": [
    "##### Imports"
   ]
  },
  {
   "cell_type": "code",
   "execution_count": 1,
   "metadata": {},
   "outputs": [],
   "source": [
    "from bs4 import BeautifulSoup\n",
    "import requests"
   ]
  },
  {
   "cell_type": "markdown",
   "metadata": {},
   "source": [
    "##### URLs"
   ]
  },
  {
   "cell_type": "code",
   "execution_count": 2,
   "metadata": {},
   "outputs": [],
   "source": [
    "url = \"https://abcnews.go.com/GMA/Travel/best-spring-break-party-destinations/story?id=52904679\""
   ]
  },
  {
   "cell_type": "markdown",
   "metadata": {},
   "source": [
    "##### Requesting the Page"
   ]
  },
  {
   "cell_type": "code",
   "execution_count": 3,
   "metadata": {},
   "outputs": [],
   "source": [
    "r = requests.get(url)"
   ]
  },
  {
   "cell_type": "markdown",
   "metadata": {},
   "source": [
    "##### Get Text"
   ]
  },
  {
   "cell_type": "code",
   "execution_count": 4,
   "metadata": {
    "scrolled": true
   },
   "outputs": [],
   "source": [
    "t = r.text"
   ]
  },
  {
   "cell_type": "markdown",
   "metadata": {},
   "source": [
    "##### Close the request"
   ]
  },
  {
   "cell_type": "code",
   "execution_count": 5,
   "metadata": {},
   "outputs": [],
   "source": [
    "r.close()"
   ]
  },
  {
   "cell_type": "markdown",
   "metadata": {},
   "source": [
    "##### Make BeautifulSoup"
   ]
  },
  {
   "cell_type": "code",
   "execution_count": 6,
   "metadata": {},
   "outputs": [],
   "source": [
    "soup = BeautifulSoup(t)"
   ]
  },
  {
   "cell_type": "markdown",
   "metadata": {},
   "source": [
    "##### What is Soup?"
   ]
  },
  {
   "cell_type": "code",
   "execution_count": 7,
   "metadata": {},
   "outputs": [
    {
     "data": {
      "text/plain": [
       "str"
      ]
     },
     "execution_count": 7,
     "metadata": {},
     "output_type": "execute_result"
    }
   ],
   "source": [
    "type(t)"
   ]
  },
  {
   "cell_type": "code",
   "execution_count": 8,
   "metadata": {
    "scrolled": true
   },
   "outputs": [],
   "source": [
    "str?"
   ]
  },
  {
   "cell_type": "code",
   "execution_count": 9,
   "metadata": {
    "scrolled": false
   },
   "outputs": [
    {
     "data": {
      "text/plain": [
       "bs4.BeautifulSoup"
      ]
     },
     "execution_count": 9,
     "metadata": {},
     "output_type": "execute_result"
    }
   ],
   "source": [
    "type(soup)"
   ]
  },
  {
   "cell_type": "code",
   "execution_count": 10,
   "metadata": {},
   "outputs": [],
   "source": [
    "BeautifulSoup?"
   ]
  },
  {
   "cell_type": "markdown",
   "metadata": {},
   "source": [
    "##### Soup can `find` things"
   ]
  },
  {
   "cell_type": "code",
   "execution_count": 11,
   "metadata": {},
   "outputs": [
    {
     "name": "stdout",
     "output_type": "stream",
     "text": [
      "#\n",
      "/\n",
      "https://abcnews.go.com/Video\n",
      "https://abcnews.go.com/US\n",
      "https://abcnews.go.com/International\n",
      "https://abcnews.go.com/Politics\n",
      "https://abcnews.go.com/Lifestyle\n",
      "https://abcnews.go.com/Entertainment\n",
      "https://abcnews.go.com/VR\n",
      "https://abcnews.go.com/Health\n",
      "https://abcnews.go.com/Technology\n",
      "https://abcnews.go.com/Sports\n",
      "https://abcnews.go.com/alerts/weather\n",
      "https://fivethirtyeight.com\n",
      "#\n",
      "https://www.goodmorningamerica.com\n",
      "https://abcnews.go.com/WN\n",
      "https://abcnews.go.com/Nightline\n",
      "https://abcnews.go.com/2020\n",
      "https://abcnews.go.com/ThisWeek\n",
      "https://abcnews.go.com/TheView\n",
      "https://abcnews.go.com/WhatWouldYouDo\n",
      "#\n",
      "https://abcnews.go.com/live/video/special-live-11\n",
      "https://abcnews.go.com/live/video/special-live-2\n",
      "https://abcnews.go.com/live/video/special-live-09\n",
      "https://abcnews.go.com/live/video/special-live-07\n",
      "https://abcnews.go.com/live/video/special-live-5\n",
      "https://abcnews.go.com/live/video/special-live-06\n",
      "#\n",
      "http://disneyprivacycenter.com\n",
      "https://disneyprivacycenter.com/notice-to-california-residents/\n",
      "https://disneyprivacycenter.com/kids-privacy-policy/english/\n",
      "http://preferences-mgr.truste.com/?type=abcnews&affiliateId=11\n",
      "http://disneytermsofuse.com\n",
      "https://abcnews.go.com/Site/page?id=3068843\n",
      "#\n",
      "#\n",
      "https://abcnews.go.com\n",
      "javascript:void();\n",
      "/myinterests?cid=clicksource_nc_seeall\n",
      "#\n",
      "#\n",
      "#\n",
      "#\n",
      "https://abcnews.go.com/Video\n",
      "https://abcnews.go.com/Live\n",
      "#\n",
      "https://www.goodmorningamerica.com\n",
      "https://abcnews.go.com/WN\n",
      "https://abcnews.go.com/Nightline\n",
      "https://abcnews.go.com/2020\n",
      "https://abcnews.go.com/ThisWeek\n",
      "https://abcnews.go.com/TheView\n",
      "https://abcnews.go.com/WhatWouldYouDo\n",
      "#\n",
      "https://abcnews.go.com/US\n",
      "https://abcnews.go.com/Politics\n",
      "https://abcnews.go.com/International\n",
      "https://abcnews.go.com/Entertainment\n",
      "https://abcnews.go.com/Lifestyle\n",
      "https://abcnews.go.com/Health\n",
      "https://abcnews.go.com/VR\n",
      "https://abcnews.go.com/Technology\n",
      "https://abcnews.go.com/Sports\n",
      "https://abcnews.go.com/alerts/weather\n",
      "https://fivethirtyeight.com\n",
      "http://disneyprivacycenter.com\n",
      "https://disneyprivacycenter.com/notice-to-california-residents/\n",
      "https://disneyprivacycenter.com/kids-privacy-policy/english/\n",
      "http://preferences-mgr.truste.com/?type=abcnews&affiliateId=11\n",
      "http://disneytermsofuse.com\n",
      "https://abcnews.go.com/Site/page?id=3068843\n",
      "#\n",
      "https://www.goodmorningamerica.com\n",
      "https://www.facebook.com/sharer.php?u=http%3A%2F%2Fabcnews.go.com%2FGMA%2FTravel%2Fbest-spring-break-party-destinations%2Fstory%3Fid%3D52904679%26cid%3Dshare_facebook_widget\n",
      "http://twitter.com/intent/tweet?text=8+of+the+best+spring+break+party+destinations+-+ABC+News+-+http%3A%2F%2Fabcn.ws%2F2nIl94u&via=ABC\n",
      "whatsapp://send?text=8+of+the+best+spring+break+party+destinations website:http%3A%2F%2Fabcnews.go.com%2FGMA%2FTravel%2Fbest-spring-break-party-destinations%2Fstory%3Fid%3D52904679%26cid%3Dshare_whatsapp_widget\n",
      "http://api.addthis.com/oexchange/0.8/forward/email/offer?url=http://abcnews.go.com/GMA/Travel/best-spring-break-party-destinations/story?id=52904679&cid=share_addthis_widget&title=8+of+the+best+spring+break+party+destinations\n",
      "https://www.facebook.com/sharer.php?u=http%3A%2F%2Fabcnews.go.com%2FGMA%2FTravel%2Fbest-spring-break-party-destinations%2Fstory%3Fid%3D52904679%26cid%3Dshare_facebook_widget\n",
      "http://twitter.com/intent/tweet?text=8+of+the+best+spring+break+party+destinations+-+ABC+News+-+http%3A%2F%2Fabcn.ws%2F2nIl94u&via=ABC\n",
      "whatsapp://send?text=8+of+the+best+spring+break+party+destinations website:http%3A%2F%2Fabcnews.go.com%2FGMA%2FTravel%2Fbest-spring-break-party-destinations%2Fstory%3Fid%3D52904679%26cid%3Dshare_whatsapp_widget\n",
      "http://api.addthis.com/oexchange/0.8/forward/email/offer?url=http://abcnews.go.com/GMA/Travel/best-spring-break-party-destinations/story?id=52904679&cid=share_addthis_widget&title=8+of+the+best+spring+break+party+destinations\n",
      "https://www.facebook.com/sharer.php?u=http%3A%2F%2Fabcnews.go.com%2FGMA%2FTravel%2Fbest-spring-break-party-destinations%2Fstory%3Fid%3D52904679%26cid%3Dshare_facebook_widget\n",
      "http://twitter.com/intent/tweet?text=8+of+the+best+spring+break+party+destinations+-+ABC+News+-+http%3A%2F%2Fabcn.ws%2F2nIl94u&via=ABC\n",
      "whatsapp://send?text=8+of+the+best+spring+break+party+destinations website:http%3A%2F%2Fabcnews.go.com%2FGMA%2FTravel%2Fbest-spring-break-party-destinations%2Fstory%3Fid%3D52904679%26cid%3Dshare_whatsapp_widget\n",
      "http://api.addthis.com/oexchange/0.8/forward/email/offer?url=http://abcnews.go.com/GMA/Travel/best-spring-break-party-destinations/story?id=52904679&cid=share_addthis_widget&title=8+of+the+best+spring+break+party+destinations\n",
      "#\n",
      "#\n",
      "/GMA/Travel/best-spring-break-party-destinations/story?id=52904679\n",
      "/GMA/Travel/best-spring-break-party-destinations/story?id=52904679\n",
      "/International/venezuelan-govt-standoff-escalates-russia-reportedly-sends-private/story?id=60629749\n",
      "/International/venezuelan-govt-standoff-escalates-russia-reportedly-sends-private/story?id=60629749\n",
      "/International/34-dead-300-feared-missing-dam-collapse-brazil/story?id=60630590\n",
      "/International/34-dead-300-feared-missing-dam-collapse-brazil/story?id=60630590\n",
      "/Business/government-shutdown-cost-us-economy-6b-higher-price/story?id=60642761\n",
      "/Business/government-shutdown-cost-us-economy-6b-higher-price/story?id=60642761\n",
      "/Politics/pentagon-saved-47-billion-past-years/story?id=60623672\n",
      "/Politics/pentagon-saved-47-billion-past-years/story?id=60623672\n",
      "/International/wireStory/canadas-ambassador-china-fired-great-us-dropped-huawei-60647983\n",
      "/International/wireStory/canadas-ambassador-china-fired-great-us-dropped-huawei-60647983\n",
      "/International/wireStory/spanish-boy-found-dead-borehole-dire-13-day-60640732\n",
      "/International/wireStory/spanish-boy-found-dead-borehole-dire-13-day-60640732\n",
      "/Politics/wireStory/koch-network-gathers-wealthy-donors-2020-trump-snub-60648065\n",
      "/Politics/wireStory/koch-network-gathers-wealthy-donors-2020-trump-snub-60648065\n",
      "/Politics/wireStory/12-immigrant-workers-trump-golf-fired-lawyer-60649746\n",
      "/Politics/wireStory/12-immigrant-workers-trump-golf-fired-lawyer-60649746\n",
      "/International/wireStory/cubans-inaugurate-catholic-church-decades-60649301\n",
      "/International/wireStory/cubans-inaugurate-catholic-church-decades-60649301\n",
      "/International/wireStory/hezbollah-leader-warns-israel-expanding-attacks-syria-60649244\n",
      "/International/wireStory/hezbollah-leader-warns-israel-expanding-attacks-syria-60649244\n",
      "/Sports/wireStory/police-detroit-lions-trevor-bates-punched-officer-60648712\n",
      "/Sports/wireStory/police-detroit-lions-trevor-bates-punched-officer-60648712\n",
      "/Politics/shutdown-blame-stays-trump-approval-historic-low/story?id=60599362\n",
      "/Politics/shutdown-blame-stays-trump-approval-historic-low/story?id=60599362\n",
      "/Politics/trump-surrenders-washington-realities-analysis/story?id=60632011\n",
      "/Politics/trump-surrenders-washington-realities-analysis/story?id=60632011\n",
      "/Politics/federal-workers-paid-trump-happen-fast/story?id=60631752\n",
      "/Politics/federal-workers-paid-trump-happen-fast/story?id=60631752\n",
      "/Politics/trump-expected-float-deal-end-shutdown-now-border/story?id=60622221\n",
      "/Politics/trump-expected-float-deal-end-shutdown-now-border/story?id=60622221\n",
      "/US/back-work-monday-wait-federal-workers-thrilled-shutdown/story?id=60630361\n",
      "/US/back-work-monday-wait-federal-workers-thrilled-shutdown/story?id=60630361\n",
      "/Politics/shutdown-fallout-14000-irs-employees-recalled-work-week/story?id=60624672\n",
      "/Politics/shutdown-fallout-14000-irs-employees-recalled-work-week/story?id=60624672\n",
      "/Politics/federal-workers-miss-2nd-paychecks-shutdown-continues/story?id=60599885\n",
      "/Politics/federal-workers-miss-2nd-paychecks-shutdown-continues/story?id=60599885\n",
      "/Politics/trump-campaign-chairman-paul-manafort-expected-court-confront/story?id=60607783\n",
      "/Politics/trump-campaign-chairman-paul-manafort-expected-court-confront/story?id=60607783\n",
      "/Politics/rnc-push-undivided-support-trump-reelection-state-leaders/story?id=60603125\n",
      "/Politics/rnc-push-undivided-support-trump-reelection-state-leaders/story?id=60603125\n",
      "/Politics/read-roger-stone-indictment/story?id=60619215\n",
      "/Politics/read-roger-stone-indictment/story?id=60619215\n",
      "/Politics/tsa-workers-struggle-afford-daily-necessities-set-miss/story?id=60580506\n",
      "/Politics/tsa-workers-struggle-afford-daily-necessities-set-miss/story?id=60580506\n",
      "/Politics/diversity-discussions-des-moines-weekly-roundup-potential-2020/story?id=60595987\n",
      "/Politics/diversity-discussions-des-moines-weekly-roundup-potential-2020/story?id=60595987\n",
      "/Politics/biden-ahead-2020-run-brushes-off-criticism-bipartisan/story?id=60594847\n",
      "/Politics/biden-ahead-2020-run-brushes-off-criticism-bipartisan/story?id=60594847\n",
      "/US/arctic-blast-continues-northern-plains-northeast-brutal-cold/story?id=60640895\n",
      "/US/arctic-blast-continues-northern-plains-northeast-brutal-cold/story?id=60640895\n",
      "/Politics/wireStory/us-rep-walter-jones-north-carolina-enters-hospice-60649266\n",
      "/Politics/wireStory/us-rep-walter-jones-north-carolina-enters-hospice-60649266\n",
      "/US/study-electric-scooter-injuries-require-er/story?id=60595442\n",
      "/US/study-electric-scooter-injuries-require-er/story?id=60595442\n",
      "/US/arizona-governor-doug-ducey-slams-hacienda-healthcare-vegetative/story?id=60626037\n",
      "/US/arizona-governor-doug-ducey-slams-hacienda-healthcare-vegetative/story?id=60626037\n",
      "/Politics/wireStory/tapping-sorority-network-kamala-harris-returns-sc-60637684\n",
      "/Politics/wireStory/tapping-sorority-network-kamala-harris-returns-sc-60637684\n",
      "/US/georgia-authorities-suspect-pair-double-homicides/story?id=60617711\n",
      "/US/georgia-authorities-suspect-pair-double-homicides/story?id=60617711\n",
      "/Health/salmonella-outbreak-states-linked-pet-hedgehogs/story?id=60634220\n",
      "/Health/salmonella-outbreak-states-linked-pet-hedgehogs/story?id=60634220\n",
      "/GMA/News/parents-utah-track-star-killed-tragedy-preventable/story?id=60604228\n",
      "/GMA/News/parents-utah-track-star-killed-tragedy-preventable/story?id=60604228\n",
      "/US/student-dies-critically-injured-bus-collides-train-texas/story?id=60639941\n",
      "/US/student-dies-critically-injured-bus-collides-train-texas/story?id=60639941\n",
      "/US/rescued-year-endured-heavy-rain-freezing-temperatures-woods/story?id=60619812\n",
      "/US/rescued-year-endured-heavy-rain-freezing-temperatures-woods/story?id=60619812\n",
      "/US/florida-suntrust-bank-shooting-victims-mother-newlywed/story?id=60619657\n",
      "/US/florida-suntrust-bank-shooting-victims-mother-newlywed/story?id=60619657\n",
      "/Weird/wireStory/man-emotional-support-alligator-helps-depression-60646161\n",
      "/Weird/wireStory/man-emotional-support-alligator-helps-depression-60646161\n",
      "/GMA/Culture/patton-oswalt-helps-man-insulted-twitter-pay-medical/story?id=60619526\n",
      "/GMA/Culture/patton-oswalt-helps-man-insulted-twitter-pay-medical/story?id=60619526\n",
      "/US/navys-newest-destroyer-named-medal-honor-recipient-navy/story?id=60630844\n",
      "/US/navys-newest-destroyer-named-medal-honor-recipient-navy/story?id=60630844\n",
      "/Health/stomach-flu-chances-norovirus/story?id=60604232\n",
      "/Health/stomach-flu-chances-norovirus/story?id=60604232\n",
      "/GMA/Culture/teresa-giudice-reportedly-dropped-bomb-separation-husband/story?id=60619216\n",
      "/GMA/Culture/teresa-giudice-reportedly-dropped-bomb-separation-husband/story?id=60619216\n",
      "/GMA/Family/mom-shared-managers-response-plan-pump-work-women/story?id=60595503\n",
      "/GMA/Family/mom-shared-managers-response-plan-pump-work-women/story?id=60595503\n",
      "/Entertainment/late-night-host-comedian-graham-norton-releases-inspired/story?id=49608437\n",
      "/Entertainment/late-night-host-comedian-graham-norton-releases-inspired/story?id=49608437\n",
      "/Lifestyle/female-high-school-quarterback-throws-td-1st-pass/story?id=49564020\n",
      "/Lifestyle/female-high-school-quarterback-throws-td-1st-pass/story?id=49564020\n"
     ]
    }
   ],
   "source": [
    "# find all hyperlinks\n",
    "# 'a' stands for anchor tag, href stands for Hypertext REFrence\n",
    "for link in soup.find_all(name='a', href=True):\n",
    "    print(link['href'])"
   ]
  },
  {
   "cell_type": "markdown",
   "metadata": {},
   "source": [
    "# Get the List of Vacation Spots"
   ]
  },
  {
   "cell_type": "code",
   "execution_count": 12,
   "metadata": {},
   "outputs": [
    {
     "data": {
      "text/plain": [
       "<strong>1. Cancun</strong>"
      ]
     },
     "execution_count": 12,
     "metadata": {},
     "output_type": "execute_result"
    }
   ],
   "source": [
    "# soup.find returns the first child (see docs)\n",
    "soup.find(name='strong')"
   ]
  },
  {
   "cell_type": "code",
   "execution_count": 13,
   "metadata": {},
   "outputs": [
    {
     "data": {
      "text/plain": [
       "bs4.element.Tag"
      ]
     },
     "execution_count": 13,
     "metadata": {},
     "output_type": "execute_result"
    }
   ],
   "source": [
    "# store the the result\n",
    "result = soup.find(name='strong')\n",
    "\n",
    "# display the type of the `result`\n",
    "type(result)"
   ]
  },
  {
   "cell_type": "code",
   "execution_count": 14,
   "metadata": {},
   "outputs": [
    {
     "data": {
      "text/plain": [
       "'1. Cancun'"
      ]
     },
     "execution_count": 14,
     "metadata": {},
     "output_type": "execute_result"
    }
   ],
   "source": [
    "# access the text in `result`\n",
    "result.text"
   ]
  },
  {
   "cell_type": "code",
   "execution_count": 15,
   "metadata": {},
   "outputs": [
    {
     "data": {
      "text/plain": [
       "[<strong>1. Cancun</strong>,\n",
       " <strong>2. Las Vegas</strong>,\n",
       " <strong>3. Jamaica</strong>,\n",
       " <strong>4. Miami</strong>,\n",
       " <strong>5. Dominican Republic</strong>,\n",
       " <strong>6. South Padre Island</strong>,\n",
       " <strong>7. Puerto Vallarta</strong>,\n",
       " <strong>8. Bahamas</strong>]"
      ]
     },
     "execution_count": 15,
     "metadata": {},
     "output_type": "execute_result"
    }
   ],
   "source": [
    "# find all locations in the html\n",
    "soup.find_all(name='strong')"
   ]
  },
  {
   "cell_type": "code",
   "execution_count": 16,
   "metadata": {},
   "outputs": [],
   "source": [
    "# store all results\n",
    "results = soup.find_all(name='strong')"
   ]
  },
  {
   "cell_type": "code",
   "execution_count": 17,
   "metadata": {},
   "outputs": [
    {
     "data": {
      "text/plain": [
       "bs4.element.ResultSet"
      ]
     },
     "execution_count": 17,
     "metadata": {},
     "output_type": "execute_result"
    }
   ],
   "source": [
    "# display the type of `results`\n",
    "type(results)"
   ]
  },
  {
   "cell_type": "code",
   "execution_count": 18,
   "metadata": {},
   "outputs": [
    {
     "name": "stdout",
     "output_type": "stream",
     "text": [
      "1. Cancun\n",
      "2. Las Vegas\n",
      "3. Jamaica\n",
      "4. Miami\n",
      "5. Dominican Republic\n",
      "6. South Padre Island\n",
      "7. Puerto Vallarta\n",
      "8. Bahamas\n"
     ]
    }
   ],
   "source": [
    "# print the text for each result in `results`\n",
    "for result in results:\n",
    "    print(result.text)"
   ]
  },
  {
   "cell_type": "code",
   "execution_count": 19,
   "metadata": {},
   "outputs": [
    {
     "data": {
      "text/plain": [
       "['1. Cancun',\n",
       " '2. Las Vegas',\n",
       " '3. Jamaica',\n",
       " '4. Miami',\n",
       " '5. Dominican Republic',\n",
       " '6. South Padre Island',\n",
       " '7. Puerto Vallarta',\n",
       " '8. Bahamas']"
      ]
     },
     "execution_count": 19,
     "metadata": {},
     "output_type": "execute_result"
    }
   ],
   "source": [
    "# make a list of the result.text's\n",
    "# define result_texts as an empty list\n",
    "result_texts = []\n",
    "# loop through the results...\n",
    "for result in results:\n",
    "    # and append them to the result_texts list\n",
    "    result_texts.append(result.text)\n",
    "\n",
    "# show result_texts\n",
    "result_texts"
   ]
  },
  {
   "cell_type": "code",
   "execution_count": 20,
   "metadata": {},
   "outputs": [
    {
     "name": "stdout",
     "output_type": "stream",
     "text": [
      "Cancun\n",
      "Las Vegas\n",
      "Jamaica\n",
      "Miami\n",
      "Dominican Republic\n",
      "South Padre Island\n",
      "Puerto Vallarta\n",
      "Bahamas\n"
     ]
    }
   ],
   "source": [
    "# print the location names without the index\n",
    "for location in result_texts:\n",
    "    print(location[3:])"
   ]
  },
  {
   "cell_type": "code",
   "execution_count": 21,
   "metadata": {},
   "outputs": [
    {
     "name": "stdout",
     "output_type": "stream",
     "text": [
      "['Cancun']\n",
      "['Las', 'Vegas']\n",
      "['Jamaica']\n",
      "['Miami']\n",
      "['Dominican', 'Republic']\n",
      "['South', 'Padre', 'Island']\n",
      "['Puerto', 'Vallarta']\n",
      "['Bahamas']\n"
     ]
    }
   ],
   "source": [
    "# problem: What if I had a list of 10 locations?\n",
    "# I wouldn't be able to use my logic above because it would keep an extra space in front of the name.\n",
    "# use `split` to remove the index\n",
    "for location in result_texts:\n",
    "    print(location.split()[1:])"
   ]
  },
  {
   "cell_type": "code",
   "execution_count": 22,
   "metadata": {},
   "outputs": [
    {
     "data": {
      "text/plain": [
       "[['Cancun'],\n",
       " ['Las', 'Vegas'],\n",
       " ['Jamaica'],\n",
       " ['Miami'],\n",
       " ['Dominican', 'Republic'],\n",
       " ['South', 'Padre', 'Island'],\n",
       " ['Puerto', 'Vallarta'],\n",
       " ['Bahamas']]"
      ]
     },
     "execution_count": 22,
     "metadata": {},
     "output_type": "execute_result"
    }
   ],
   "source": [
    "# store the location names without indices in a new list\n",
    "no_index = []\n",
    "for location in result_texts:\n",
    "    no_index.append(location.split()[1:])\n",
    "\n",
    "# show `no_index`\n",
    "no_index"
   ]
  },
  {
   "cell_type": "code",
   "execution_count": 23,
   "metadata": {},
   "outputs": [
    {
     "name": "stdout",
     "output_type": "stream",
     "text": [
      "Cancun\n",
      "LasVegas\n",
      "Jamaica\n",
      "Miami\n",
      "DominicanRepublic\n",
      "SouthPadreIsland\n",
      "PuertoVallarta\n",
      "Bahamas\n"
     ]
    }
   ],
   "source": [
    "# `no_index` is a list of lists\n",
    "# want to join the strings in each list together to get a list of strings\n",
    "for l in no_index:\n",
    "    print(''.join(l))"
   ]
  },
  {
   "cell_type": "code",
   "execution_count": 24,
   "metadata": {},
   "outputs": [
    {
     "name": "stdout",
     "output_type": "stream",
     "text": [
      "Cancun\n",
      "Las Vegas\n",
      "Jamaica\n",
      "Miami\n",
      "Dominican Republic\n",
      "South Padre Island\n",
      "Puerto Vallarta\n",
      "Bahamas\n"
     ]
    }
   ],
   "source": [
    "# it worked, but the join didn't put a space between the words\n",
    "# try it again, but include a space\n",
    "for l in no_index:\n",
    "    print(' '.join(l))"
   ]
  },
  {
   "cell_type": "code",
   "execution_count": 25,
   "metadata": {},
   "outputs": [
    {
     "data": {
      "text/plain": [
       "['Cancun',\n",
       " 'Las Vegas',\n",
       " 'Jamaica',\n",
       " 'Miami',\n",
       " 'Dominican Republic',\n",
       " 'South Padre Island',\n",
       " 'Puerto Vallarta',\n",
       " 'Bahamas']"
      ]
     },
     "execution_count": 25,
     "metadata": {},
     "output_type": "execute_result"
    }
   ],
   "source": [
    "# much better\n",
    "# let's save these locations in another list\n",
    "locations = []\n",
    "for l in no_index:\n",
    "    locations.append(' '.join(l))\n",
    "\n",
    "# show locations\n",
    "locations"
   ]
  },
  {
   "cell_type": "code",
   "execution_count": 26,
   "metadata": {},
   "outputs": [
    {
     "data": {
      "text/plain": [
       "8"
      ]
     },
     "execution_count": 26,
     "metadata": {},
     "output_type": "execute_result"
    }
   ],
   "source": [
    "# check the `len`gth of locations (should == 8)\n",
    "len(locations)"
   ]
  },
  {
   "cell_type": "code",
   "execution_count": 27,
   "metadata": {},
   "outputs": [
    {
     "data": {
      "text/plain": [
       "['Cancun',\n",
       " 'Las Vegas',\n",
       " 'Jamaica',\n",
       " 'Miami',\n",
       " 'Dominican Republic',\n",
       " 'South Padre Island',\n",
       " 'Puerto Vallarta',\n",
       " 'Bahamas']"
      ]
     },
     "execution_count": 27,
     "metadata": {},
     "output_type": "execute_result"
    }
   ],
   "source": [
    "# that seemed like a lot of work just to extract the names from our results...\n",
    "# well here's a one-liner\n",
    "[' '.join(i.text.split()[1:]) for i in soup.find_all(name='strong')]"
   ]
  },
  {
   "cell_type": "markdown",
   "metadata": {},
   "source": [
    "This bit of code is called [list comprehension](https://docs.python.org/3/tutorial/datastructures.html#list-comprehensions). It's very handy and is often faster than standard for-loops (when n is large)."
   ]
  },
  {
   "cell_type": "code",
   "execution_count": 28,
   "metadata": {},
   "outputs": [
    {
     "name": "stdout",
     "output_type": "stream",
     "text": [
      "1.53 ms ± 512 µs per loop (mean ± std. dev. of 7 runs, 1000 loops each)\n"
     ]
    }
   ],
   "source": [
    "%%timeit -n 1000\n",
    "result_texts = []\n",
    "for i in soup.find_all(name='strong'):\n",
    "    result_texts.append(' '.join(i.text.split()[1:]))"
   ]
  },
  {
   "cell_type": "code",
   "execution_count": 29,
   "metadata": {},
   "outputs": [
    {
     "name": "stdout",
     "output_type": "stream",
     "text": [
      "1.2 ms ± 200 µs per loop (mean ± std. dev. of 7 runs, 1000 loops each)\n"
     ]
    }
   ],
   "source": [
    "%%timeit -n 1000\n",
    "[' '.join(i.text.split()[1:]) for i in soup.find_all(name='strong')]"
   ]
  },
  {
   "cell_type": "markdown",
   "metadata": {},
   "source": [
    "As a precautionary side-note, don't use list comprehension if you don't understand it or the loop is too complex. You can get unexpected results, especially when attempting multiple loops."
   ]
  },
  {
   "cell_type": "markdown",
   "metadata": {},
   "source": [
    "# Get Information on the Locations"
   ]
  },
  {
   "cell_type": "markdown",
   "metadata": {},
   "source": [
    "### Wikipedia"
   ]
  },
  {
   "cell_type": "code",
   "execution_count": 30,
   "metadata": {},
   "outputs": [],
   "source": [
    "# wikipedia url\n",
    "wiki_url = \"https://en.wikipedia.org/wiki/\""
   ]
  },
  {
   "cell_type": "code",
   "execution_count": 31,
   "metadata": {},
   "outputs": [
    {
     "name": "stdout",
     "output_type": "stream",
     "text": [
      "https://en.wikipedia.org/wiki/Cancun\n",
      "https://en.wikipedia.org/wiki/Las_Vegas\n",
      "https://en.wikipedia.org/wiki/Jamaica\n",
      "https://en.wikipedia.org/wiki/Miami\n",
      "https://en.wikipedia.org/wiki/Dominican_Republic\n",
      "https://en.wikipedia.org/wiki/South_Padre_Island\n",
      "https://en.wikipedia.org/wiki/Puerto_Vallarta\n",
      "https://en.wikipedia.org/wiki/Bahamas\n"
     ]
    }
   ],
   "source": [
    "# loop through the locations\n",
    "for l in locations:\n",
    "    # add the wiki url to the location name and replace spaces with underscores\n",
    "    print(f\"{wiki_url}{l.replace(' ', '_')}\")"
   ]
  },
  {
   "cell_type": "code",
   "execution_count": 32,
   "metadata": {},
   "outputs": [],
   "source": [
    "from time import sleep"
   ]
  },
  {
   "cell_type": "code",
   "execution_count": 33,
   "metadata": {},
   "outputs": [],
   "source": [
    "# scrape each page and store in a dictionary\n",
    "# define empty dictionary\n",
    "location_wiki = {}\n",
    "# loop through the locations...\n",
    "for l in locations:\n",
    "    # request the page from wikipedia\n",
    "    r = requests.get(f\"{wiki_url}{l.replace(' ', '_')}\")\n",
    "    # get the soup\n",
    "    soup = BeautifulSoup(r.text)\n",
    "    # close the request\n",
    "    r.close()\n",
    "    # store the soup in the dictionary\n",
    "    location_wiki[l] = soup\n",
    "    # wait 2 seconds before scraping again (this respects the robots.txt... and keeps us from getting blocked by wikipedia)\n",
    "    sleep(2)"
   ]
  },
  {
   "cell_type": "code",
   "execution_count": null,
   "metadata": {},
   "outputs": [],
   "source": [
    "# "
   ]
  },
  {
   "cell_type": "code",
   "execution_count": 38,
   "metadata": {
    "scrolled": true
   },
   "outputs": [
    {
     "name": "stdout",
     "output_type": "stream",
     "text": [
      "Cancun\n",
      "\n",
      "\n",
      "Cancún (/kænˈkuːn/ or /kɑːn-/;[2] Spanish pronunciation: [kaŋˈkun]) is a city in southeast Mexico on the northeast coast of the Yucatán Peninsula in the Mexican state of Quintana Roo. It is a significant tourist destination in Mexico[3] and the seat of the municipality of Benito Juárez. The city is on the Caribbean Sea and is one of Mexico's easternmost points. \n",
      "\n",
      "Cancún is just north of Mexico's Caribbean coast resort band known as the Riviera Maya. In older English-language documents, the city’s name is sometimes spelled \"Cancoon,\" an attempt to convey the sound of the name.[4]\n",
      "\n",
      "There are two possible translations of Cancún, based on the Mayan pronunciation kaan kun. The first translation is \"nest of snakes\". The second version and less accepted is \"place of the gold snake\".[5]\n",
      "\n",
      "The shield of the municipality of Benito Juárez, which represents the city of Cancún, was designed by the Mexican-American artist Joe Vera.[6]\n",
      "It is divided into three parts: the color blue symbolizes the Caribbean Sea, the yellow of the sand, and the red of the sun with its rays.\n",
      "\n",
      "---------------------------------------------------------------------------------------------------------------\n",
      "Las Vegas\n",
      "\n",
      "\n",
      "Las Vegas (/lɑːs ˈveɪɡəs/,[6] Spanish for \"The Meadows\"; Spanish: [las ˈβeɣas]), officially the City of Las Vegas and often known simply as Vegas, is the 28th-most populated city in the United States, the most populated city in the state of Nevada, and the county seat of Clark County. The city anchors the Las Vegas Valley metropolitan area and is the largest city within the greater Mojave Desert.[7] Las Vegas is an internationally renowned major resort city, known primarily for its gambling, shopping, fine dining, entertainment, and nightlife. The Las Vegas Valley as a whole serves as the leading financial, commercial, and cultural center for Nevada.\n",
      "\n",
      "The city bills itself as The Entertainment Capital of the World, and is famous for its mega casino–hotels and associated activities. It is a top three destination in the United States for business conventions and a global leader in the hospitality industry, claiming more AAA Five Diamond hotels than any other city in the world.[8][9][10] Today, Las Vegas annually ranks as one of the world's most visited tourist destinations.[11][12] The city's tolerance for numerous forms of adult entertainment earned it the title of Sin City, and has made Las Vegas a popular setting for literature, films, television programs, and music videos.\n",
      "\n",
      "Las Vegas was settled in 1905 and officially incorporated in 1911. At the close of the 20th century, it was the most populated American city founded within that century (a similar distinction earned by Chicago in the 1800s). Population growth has accelerated since the 1960s, and between 1990 and 2000 the population nearly doubled, increasing by 85.2%. Rapid growth has continued into the 21st century, and according to a 2018 estimate, the population is 648,224[13] with a regional population of 2,227,053.[4]\n",
      "\n",
      "\"Las Vegas\" is often used to describe areas beyond official city limits—especially the areas on and near the Las Vegas Strip, which is actually located within the unincorporated communities of Paradise and Winchester.[14][15]\n",
      "\n",
      "---------------------------------------------------------------------------------------------------------------\n",
      "Jamaica\n",
      "\n",
      "\n",
      "Jamaica (/dʒəˈmeɪkə/ (listen)) is an island country situated in the Caribbean Sea. Spanning 10,990 square kilometres (4,240 sq mi) in area, it is the third-largest island of the Greater Antilles and the fourth-largest island country in the Caribbean. Jamaica lies about 145 kilometres (90 mi) south of Cuba, and 191 kilometres (119 mi) west of Hispaniola (the island containing the countries of Haiti and the Dominican Republic).\n",
      "\n",
      "Previously inhabited by the indigenous Arawak and Taíno peoples, the island came under Spanish rule following the arrival of Christopher Columbus in 1494. Many of the indigenous people died of disease, and the Spanish transplanted African slaves to Jamaica as labourers. The island remained a possession of Spain until 1655, when England (later Great Britain) conquered it and renamed it Jamaica. Under British colonial rule Jamaica became a leading sugar exporter, with its plantation economy highly dependent on African slaves. The British fully emancipated all slaves in 1838, and many freedmen chose to have subsistence farms rather than to work on plantations. Beginning in the 1840s, the British utilized Chinese and Indian indentured labour to work on plantations. The island achieved independence from the United Kingdom on 6 August 1962.\n",
      "\n",
      "With 2.9 million people,[9] Jamaica is the third-most populous Anglophone country in the Americas (after the United States and Canada), and the fourth-most populous country in the Caribbean. Kingston is the country's capital and largest city, with a population of 937,700. Jamaicans mainly have African ancestry, with significant European, Chinese, Indian, Lebanese, and mixed-race minorities. Due to a high rate of emigration for work since the 1960s, Jamaica has a large diaspora around the world, particularly in Canada, the United Kingdom, and the United States.\n",
      "\n",
      "Jamaica is a Commonwealth realm, with Queen Elizabeth II as its monarch and head of state. Her appointed representative in the country is the Governor-General of Jamaica, an office held by Sir Patrick Allen since 2009. Andrew Holness has served as the head of government and Prime Minister of Jamaica from March 2016. Jamaica is a parliamentary constitutional monarchy with legislative power vested in the bicameral Parliament of Jamaica, consisting of an appointed Senate and a directly elected House of Representatives.\n",
      "\n",
      "---------------------------------------------------------------------------------------------------------------\n",
      "Miami\n",
      "Miami, officially the City of Miami, is the cultural, economic and financial center of South Florida. Miami is the seat of Miami-Dade County, the most populous county in Florida. The city covers an area of about 56.6 square miles (147 km2), between the Everglades to the west and Biscayne Bay on the east; it is also the sixth most densely populated major city in the United States. The Miami metropolitan area is home to 6.1 million people and the seventh-largest metropolitan area in the nation.[8] Miami's metro area is the second-most populous metropolis in the southeastern United States and fourth-largest urban area in the U.S.[9][10]\n",
      "\n",
      "Miami is a major center, and a leader in finance, commerce, culture, media, entertainment, the arts, and international trade.[11][12] The Miami Metropolitan Area is by far the largest urban economy in Florida and the 12th largest in the United States with a GDP of $344.9 billion as of 2017.[13] In 2012, Miami was classified as an \"Alpha−\" level world city in the World Cities Study Group's inventory.[14] In 2010, Miami ranked seventh in the United States and 33rd among global cities in terms of business activity, human capital, information exchange, cultural experience, and political engagement.[15][16] In 2008, Forbes magazine ranked Miami \"America's Cleanest City\", for its year-round good air quality, vast green spaces, clean drinking water, clean streets, and citywide recycling programs.[17] According to a 2009 UBS study of 73 world cities, Miami was ranked as the richest city in the United States, and the world's seventh-richest city in terms of purchasing power.[18] Miami is nicknamed the \"Capital of Latin America\"[1] and is the largest city with a Cuban-American plurality.[19]\n",
      "\n",
      "Greater Downtown Miami has one of the largest concentrations of international banks in the United States, and is home to many large national and international companies.[20][21] The Civic Center is a major center for hospitals, research institutes, medical centers, and biotechnology industries. For more than two decades, the Port of Miami, known as the \"Cruise Capital of the World\", has been the number one cruise passenger port in the world. It accommodates some of the world's largest cruise ships and operations, and is the busiest port in both passenger traffic and cruise lines.[22][23] Metropolitan Miami is also a major tourism hub in the southeastern U.S. for international visitors, ranking number two in the country after New York City.[24]\n",
      "\n",
      "The Miami area was inhabited for thousands of years by indigenous Native American tribes. The Tequestas occupied the area for a thousand years before encountering Europeans. An Indian village of hundreds of people dating to 500–600 B.C. was located at the mouth of the Miami River.[25]\n",
      "\n",
      "In 1566 admiral Pedro Menéndez de Avilés, Florida's first governor, claimed the area for Spain. A Spanish mission was constructed one year later in 1567. Spain and Great Britain successively ruled Florida, (France did rule Pensacola and West Florida). Spain ceded it to the United States in 1821. In 1836, the US built Fort Dallas as part of its development of the Florida Territory and attempt to suppress and remove the Seminole. The Miami area subsequently became a site of fighting during the Second Seminole War.\n",
      "\n",
      "---------------------------------------------------------------------------------------------------------------\n",
      "Dominican Republic\n",
      "\n",
      "\n",
      "\n",
      "Coordinates: 19°00′N 70°40′W﻿ / ﻿19.000°N 70.667°W﻿ / 19.000; -70.667\n",
      "\n",
      "The Dominican Republic (/ˌdəˈmɪnɪkən/; Spanish: República Dominicana Spanish pronunciation: [reˈpuβliˌka ðoˌminiˈkana]) is a country located in the island of Hispaniola, in the Greater Antilles archipelago of the Caribbean region. It occupies the eastern five-eighths of the island, which it shares with the nation of Haiti,[16][17] making Hispaniola one of two Caribbean islands, along with Saint Martin, that are shared by two sovereign states. The Dominican Republic is the second-largest Caribbean nation by area (after Cuba) at 48,671 square kilometers (18,792 sq mi), and third by population with approximately 10 million people, of which approximately three million live in the metropolitan area of Santo Domingo, the capital city.[18][19]\n",
      "\n",
      "Christopher Columbus landed on the island on December 5, 1492, which the native Taíno people had inhabited since the 7th century. The colony of Santo Domingo became the site of the first permanent European settlement in the Americas, the oldest continuously inhabited city, and the first seat of the Spanish colonial rule in the New World. After more than three hundred years of Spanish rule the Dominican people declared independence in November 1821. The leader of the independence movement José Núñez de Cáceres, intended the Dominican nation to unite with the country of Gran Colombia, but no longer under Spain's custody the newly independent Dominicans were forcefully annexed by Haiti in February 1822. Independence came 22 years later after victory in the Dominican War of Independence in 1844. Over the next 72 years the Dominican Republic experienced mostly internal conflicts and a brief return to colonial status before permanently ousting Spanish rule during the Dominican War of Restoration of 1863–1865.[20][21][22] A United States occupation lasted eight years between 1916 and 1924, and a subsequent calm and prosperous six-year period under Horacio Vásquez was followed by the dictatorship of Rafael Leónidas Trujillo until 1961. A civil war in 1965, the country's last, was ended by U.S. military occupation and was followed by the authoritarian rule of Joaquín Balaguer (1966–1978 & 1986–1996), the rules of Antonio Guzmán (1972–1978) & Salvador Jorge Blanco (1982–1986). Since 1996, the Dominican Republic has moved toward representative democracy[1] and has been led by Leonel Fernández for most of the time since 1996. Danilo Medina, the Dominican Republic's current president, succeeded Fernandez in 2012, winning 51% of the electoral vote over his opponent ex-president Hipólito Mejía.[23]\n",
      "\n",
      "The Dominican Republic has the ninth-largest economy in Latin America and is the largest economy in the Caribbean and Central American region.[24][25] Over the last two decades, the Dominican Republic has had one of the fastest-growing economies in the Americas – with an average real GDP growth rate of 5.4% between 1992 and 2014.[26] GDP growth in 2014 and 2015 reached 7.3 and 7.0%, respectively, the highest in the Western Hemisphere.[26] In the first half of 2016 the Dominican economy grew 7.4% continuing its trend of rapid economic growth.[27] Recent growth has been driven by construction, manufacturing, tourism, and mining. The country is the site of the second largest gold mine in the world, the Pueblo Viejo mine.[28][29] Private consumption has been strong, as a result of low inflation (under 1% on average in 2015), job creation, as well as a high level of remittances.\n",
      "\n",
      "---------------------------------------------------------------------------------------------------------------\n",
      "South Padre Island\n",
      "South Padre Island is a barrier island in the U.S. state of Texas. It is located in Cameron County and in Willacy County. South Padre Island was formed when the creation of the Port Mansfield Channel split Padre Island in two. The resort city of South Padre Island, a popular vacation destination, is located on the island.\n",
      "\n",
      "Before the arrival of European settlers in North America, the island was inhabited by native tribes. Western settlement is considered to have been started by Padre Jose Nicolas Balli, who set up a cattle ranch early in the 19th century. He and his family were driven out by the Mexican–American War and were unable to return because of the American Civil War.\n",
      "\n",
      "Most of the island was closed by the National Park Service until 1962, after which settlement was allowed, and incomers began to establish an economy on the island and neighboring Port Isabel.  By 1978, the island had a population of around 314; a decade later, it had a population of 1,012 and 111 businesses. Being mainly coastline, the island's main source of income is tourism, with tens of thousands of college students flocking to the island every Spring Break. In winter, the island hosts \"winter Texans\": people (often retirees) from colder states who winter in the warm Texas climate. Isla Blanca Park, a preserve and recreational park, is located at the southern end of the island.[1]\n",
      "\n",
      "Coordinates: 26°15′50″N 97°11′20″W﻿ / ﻿26.264°N 97.189°W﻿ / 26.264; -97.189\n",
      "\n",
      "\n",
      "\n",
      "---------------------------------------------------------------------------------------------------------------\n",
      "Puerto Vallarta\n",
      "Puerto Vallarta (Spanish pronunciation: [ˈpweɾto βaˈʎaɾta]) is a Mexican beach resort city situated on the Pacific Ocean's Bahía de Banderas.\n",
      "PV or simply Vallarta is the second largest urban agglomeration in the state after the Guadalajara Metropolitan Area. The City of Puerto Vallarta is the government seat of the Municipality of Puerto Vallarta which comprises the city as well as population centers outside of the city extending from Boca de Tomatlán to the Nayarit border (the Ameca River).\n",
      "The city is located at 20°40′N 105°16′W﻿ / ﻿20.667°N 105.267°W﻿ / 20.667; -105.267. The municipality has an area of 1,300.7 square kilometres (502.19 sq mi). To the north it borders the southwest part of the state of Nayarit. To the east it borders the municipality of Mascota and San Sebastián del Oeste, and to the south it borders the municipalities of Talpa de Allende and Cabo Corrientes.[1]\n",
      "\n",
      "Puerto Vallarta is named after Ignacio Vallarta, a former governor of Jalisco. In Spanish, Puerto Vallarta is frequently shortened to \"Vallarta\", while English speakers call the city P.V. for short. In internet shorthand the city is often referred to as PVR, after the International Air Transport Association airport code for its Gustavo Diaz Ordaz International Airport.\n",
      "\n",
      "Puerto Vallarta's proximity to the Bay of Banderas, the agricultural valley of the Ameca River, and the important mining centers in the Sierra have given the town a more interesting past than most Mexican tourist destinations. Puerto Vallarta was a thriving Mexican village long before it became an international tourist destination. Tourism is a major economic activity because of the climate, scenery, tropical beaches, and rich cultural history.\n",
      "\n",
      "Few details are known about the history of the area prior to the 19th century. There is archaeological evidence to suggest continuous human habitation from 580 BC, and similar evidence (from sites near Ixtapa and in Col. Lázaro Cárdenas)[2] that the area belonged to the Aztatlán culture which dominated Jalisco, Nayarit and Michoacán from c. 900–1200. The limited evidence in occidental Mexican archeology have limited the current knowledge about pre-historic life in the area.[3]\n",
      "\n",
      "Spanish missionary and conquistador documents chronicle skirmishes between the Spanish colonizers and the local peoples. In 1524, for example, a large battle between Hernán Cortés and an army of 10,000 to 20,000 Indians resulted in Cortés taking control of much of the Ameca valley. The valley was then named Banderas (flags) after the colorful standards carried by the natives.\n",
      "\n",
      "---------------------------------------------------------------------------------------------------------------\n",
      "Bahamas\n",
      "\n",
      "Coordinates: 24°15′N 76°00′W﻿ / ﻿24.250°N 76.000°W﻿ / 24.250; -76.000\n",
      "\n",
      "The Bahamas (/bəˈhɑːməz/ (listen)), known officially as the Commonwealth of The Bahamas,[10] is a country within the Lucayan Archipelago. The archipelagic state consists of more than 700 islands, cays, and islets in the Atlantic Ocean, and is located north of Cuba and Hispaniola (Haiti and the Dominican Republic), northwest of the Turks and Caicos Islands, southeast of the United States state of Florida, and east of the Florida Keys. The capital is Nassau on the island of New Providence. The designation of \"the Bahamas\" can refer either to the country or to the larger island chain that it shares with the Turks and Caicos Islands. The Royal Bahamas Defence Force describes the Bahamas territory as encompassing 470,000 km2 (180,000 sq mi) of ocean space.\n",
      "\n",
      "The Bahamas is the site of Columbus's first landfall in the New World in 1492. At that time, the islands were inhabited by the Lucayans, a branch of the Arawakan-speaking Taíno people. Although the Spanish never colonised The Bahamas, they shipped the native Lucayans to slavery in Hispaniola. The islands were mostly deserted from 1513 until 1648, when English colonists from Bermuda settled on the island of Eleuthera.\n",
      "\n",
      "The Bahamas became a British crown colony in 1718, when the British clamped down on piracy. After the American War of Independence, the Crown resettled thousands of American Loyalists in the Bahamas; they brought their slaves with them and established plantations on land grants. Africans constituted the majority of the population from this period. The slave trade was abolished by the British in 1807; slavery in the Bahamas was abolished in 1834. Subsequently, the Bahamas became a haven for freed African slaves; the Royal Navy resettled Africans there liberated from illegal slave ships, North American slaves and Seminoles escaped here from Florida, and the government freed slaves carried on US domestic ships that had reached the Bahamas due to weather. Today, Afro-Bahamians make up nearly 90% of the population.\n",
      "\n",
      "The Bahamas became an independent Commonwealth realm in 1973, retaining the British monarch, then and currently Queen Elizabeth II, as its head of state. In terms of gross domestic product per capita, The Bahamas is one of the richest countries in the Americas (following the United States and Canada), with an economy based on tourism and finance.[11]\n",
      "\n",
      "---------------------------------------------------------------------------------------------------------------\n"
     ]
    }
   ],
   "source": [
    "for k,v in location_wiki.items():\n",
    "    print(k)\n",
    "    for p in v.find_all(name='p')[:5]:\n",
    "        print(p.text)\n",
    "    print('---------------------------------------------------------------------------------------------------------------')"
   ]
  }
 ],
 "metadata": {
  "kernelspec": {
   "display_name": "Python 3",
   "language": "python",
   "name": "python3"
  },
  "language_info": {
   "codemirror_mode": {
    "name": "ipython",
    "version": 3
   },
   "file_extension": ".py",
   "mimetype": "text/x-python",
   "name": "python",
   "nbconvert_exporter": "python",
   "pygments_lexer": "ipython3",
   "version": "3.7.2"
  }
 },
 "nbformat": 4,
 "nbformat_minor": 2
}
